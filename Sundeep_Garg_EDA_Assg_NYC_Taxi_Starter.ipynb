{
  "cells": [
    {
      "cell_type": "markdown",
      "metadata": {
        "id": "view-in-github",
        "colab_type": "text"
      },
      "source": [
        "<a href=\"https://colab.research.google.com/github/sundeepgarg/EDA_Optimising_NYC_Taxis_Sundeep_Garg/blob/main/Sundeep_Garg_EDA_Assg_NYC_Taxi_Starter.ipynb\" target=\"_parent\"><img src=\"https://colab.research.google.com/assets/colab-badge.svg\" alt=\"Open In Colab\"/></a>"
      ]
    },
    {
      "cell_type": "markdown",
      "metadata": {
        "id": "ZQl5n2IOuafL"
      },
      "source": [
        "# **New York City Yellow Taxi Data**"
      ]
    },
    {
      "cell_type": "markdown",
      "source": [],
      "metadata": {
        "id": "_JIVuMIo_UGD"
      }
    },
    {
      "cell_type": "markdown",
      "metadata": {
        "id": "DGQVIB4mEFrZ"
      },
      "source": [
        "## Objective\n",
        "In this case study you will be learning exploratory data analysis (EDA) with the help of a dataset on yellow taxi rides in New York City. This will enable you to understand why EDA is an important step in the process of data science and machine learning."
      ]
    },
    {
      "cell_type": "markdown",
      "metadata": {
        "id": "YJVMenVllLUL"
      },
      "source": [
        "## **Problem Statement**\n",
        "As an analyst at an upcoming taxi operation in NYC, you are tasked to use the 2023 taxi trip data to uncover insights that could help optimise taxi operations. The goal is to analyse patterns in the data that can inform strategic decisions to improve service efficiency, maximise revenue, and enhance passenger experience."
      ]
    },
    {
      "cell_type": "markdown",
      "metadata": {
        "id": "-OVfUMlHFkZD"
      },
      "source": [
        "## Tasks\n",
        "You need to perform the following steps for successfully completing this assignment:\n",
        "1. Data Loading\n",
        "2. Data Cleaning\n",
        "3. Exploratory Analysis: Bivariate and Multivariate\n",
        "4. Creating Visualisations to Support the Analysis\n",
        "5. Deriving Insights and Stating Conclusions"
      ]
    },
    {
      "cell_type": "markdown",
      "metadata": {
        "id": "gTxV-3GJUhWm"
      },
      "source": [
        "---"
      ]
    },
    {
      "cell_type": "markdown",
      "metadata": {
        "id": "ofebI8ITG-Li"
      },
      "source": [
        "**NOTE:** The marks given along with headings and sub-headings are cumulative marks for those particular headings/sub-headings.<br>\n",
        "\n",
        "The actual marks for each task are specified within the tasks themselves.\n",
        "\n",
        "For example, marks given with heading *2* or sub-heading *2.1* are the cumulative marks, for your reference only. <br>\n",
        "\n",
        "The marks you will receive for completing tasks are given with the tasks.\n",
        "\n",
        "Suppose the marks for two tasks are: 3 marks for 2.1.1 and 2 marks for 3.2.2, or\n",
        "* 2.1.1 [3 marks]\n",
        "* 3.2.2 [2 marks]\n",
        "\n",
        "then, you will earn 3 marks for completing task 2.1.1 and 2 marks for completing task 3.2.2.\n"
      ]
    },
    {
      "cell_type": "markdown",
      "metadata": {
        "id": "YdQjht7dUiHt"
      },
      "source": [
        "---"
      ]
    },
    {
      "cell_type": "markdown",
      "metadata": {
        "id": "0eaCZjHIvfuI"
      },
      "source": [
        "## Data Understanding\n",
        "The yellow taxi trip records include fields capturing pick-up and drop-off dates/times, pick-up and drop-off locations, trip distances, itemized fares, rate types, payment types, and driver-reported passenger counts.\n",
        "\n",
        "The data is stored in Parquet format (*.parquet*). The dataset is from 2009 to 2024. However, for this assignment, we will only be using the data from 2023.\n",
        "\n",
        "The data for each month is present in a different parquet file. You will get twelve files for each of the months in 2023.\n",
        "\n",
        "The data was collected and provided to the NYC Taxi and Limousine Commission (TLC) by technology providers like vendors and taxi hailing apps. <br>\n",
        "\n",
        "You can find the link to the TLC trip records page here: https://www.nyc.gov/site/tlc/about/tlc-trip-record-data.page"
      ]
    },
    {
      "cell_type": "markdown",
      "metadata": {
        "id": "LI6qC5IDxZU1"
      },
      "source": [
        "###  Data Description\n",
        "You can find the data description here: [Data Dictionary](https://www.nyc.gov/assets/tlc/downloads/pdf/data_dictionary_trip_records_yellow.pdf)"
      ]
    },
    {
      "cell_type": "markdown",
      "metadata": {
        "id": "FafCzrDuxHg2"
      },
      "source": [
        "**Trip Records**\n",
        "\n",
        "\n",
        "\n",
        "|Field Name       |description |\n",
        "|:----------------|:-----------|\n",
        "| VendorID | A code indicating the TPEP provider that provided the record. <br> 1= Creative Mobile Technologies, LLC; <br> 2= VeriFone Inc. |\n",
        "| tpep_pickup_datetime | The date and time when the meter was engaged.  |\n",
        "| tpep_dropoff_datetime | The date and time when the meter was disengaged.   |\n",
        "| Passenger_count | The number of passengers in the vehicle. <br> This is a driver-entered value. |\n",
        "| Trip_distance | The elapsed trip distance in miles reported by the taximeter. |\n",
        "| PULocationID | TLC Taxi Zone in which the taximeter was engaged |\n",
        "| DOLocationID | TLC Taxi Zone in which the taximeter was disengaged |\n",
        "|RateCodeID |The final rate code in effect at the end of the trip.<br> 1 = Standard rate <br> 2 = JFK <br> 3 = Newark <br>4 = Nassau or Westchester <br>5 = Negotiated fare <br>6 = Group ride |\n",
        "|Store_and_fwd_flag |This flag indicates whether the trip record was held in vehicle memory before sending to the vendor, aka “store and forward,” because the vehicle did not have a connection to the server.  <br>Y= store and forward trip <br>N= not a store and forward trip |\n",
        "|Payment_type| A numeric code signifying how the passenger paid for the trip. <br> 1 = Credit card <br>2 = Cash <br>3 = No charge <br>4 = Dispute <br>5 = Unknown <br>6 = Voided trip |\n",
        "|Fare_amount| The time-and-distance fare calculated by the meter. <br>Extra Miscellaneous extras and surcharges.  Currently, this only includes the 0.50 and 1 USD rush hour and overnight charges. |\n",
        "|MTA_tax |0.50 USD MTA tax that is automatically triggered based on the metered rate in use. |\n",
        "|Improvement_surcharge | 0.30 USD improvement surcharge assessed trips at the flag drop. The improvement surcharge began being levied in 2015. |\n",
        "|Tip_amount |Tip amount – This field is automatically populated for credit card tips. Cash tips are not included. |\n",
        "| Tolls_amount | Total amount of all tolls paid in trip.  |\n",
        "| total_amount | The total amount charged to passengers. Does not include cash tips. |\n",
        "|Congestion_Surcharge |Total amount collected in trip for NYS congestion surcharge. |\n",
        "| Airport_fee | 1.25 USD for pick up only at LaGuardia and John F. Kennedy Airports|\n",
        "\n",
        "Although the amounts of extra charges and taxes applied are specified in the data dictionary, you will see that some cases have different values of these charges in the actual data."
      ]
    },
    {
      "cell_type": "markdown",
      "metadata": {
        "id": "mL-FWYFnVEdE"
      },
      "source": [
        "**Taxi Zones**\n",
        "\n",
        "Each of the trip records contains a field corresponding to the location of the pickup or drop-off of the trip, populated by numbers ranging from 1-263.\n",
        "\n",
        "These numbers correspond to taxi zones, which may be downloaded as a table or map/shapefile and matched to the trip records using a join.\n",
        "\n",
        "This is covered in more detail in later sections."
      ]
    },
    {
      "cell_type": "markdown",
      "metadata": {
        "id": "z66W3s51U0gF"
      },
      "source": [
        "---"
      ]
    },
    {
      "cell_type": "markdown",
      "metadata": {
        "id": "Kw-WRzBfyS7j"
      },
      "source": [
        "\n",
        "\n",
        "```\n",
        "# This is formatted as code\n",
        "```\n",
        "\n",
        "## **1** Data Preparation\n",
        "\n",
        "<font color = red>[5 marks]</font> <br>"
      ]
    },
    {
      "cell_type": "markdown",
      "metadata": {
        "id": "nM2X-s6lycvQ"
      },
      "source": [
        "### Import Libraries"
      ]
    },
    {
      "cell_type": "code",
      "execution_count": 17,
      "metadata": {
        "id": "juReqsAzEdW3"
      },
      "outputs": [],
      "source": [
        "# Import warnings\n",
        "\n"
      ]
    },
    {
      "cell_type": "code",
      "execution_count": 18,
      "metadata": {
        "id": "3XZjOlJiy1dr"
      },
      "outputs": [],
      "source": [
        "# Import the libraries you will be using for analysis\n",
        "import pandas as pd\n",
        "import numpy as np\n",
        "import matplotlib.pyplot as plt\n",
        "import seaborn as sns\n"
      ]
    },
    {
      "cell_type": "code",
      "execution_count": 19,
      "metadata": {
        "id": "NsH5LNrSgW9q",
        "colab": {
          "base_uri": "https://localhost:8080/"
        },
        "outputId": "7940c76a-ca67-4d98-d472-a527793e4c2c"
      },
      "outputs": [
        {
          "output_type": "stream",
          "name": "stdout",
          "text": [
            "numpy version: 2.0.2\n",
            "pandas version: 2.2.2\n",
            "matplotlib version: 3.10.0\n",
            "seaborn version: 0.13.2\n"
          ]
        }
      ],
      "source": [
        "# Recommended versions\n",
        "# numpy version: 1.26.4\n",
        "# pandas version: 2.2.2\n",
        "# matplotlib version: 3.10.0\n",
        "# seaborn version: 0.13.2\n",
        "\n",
        "# Check versions\n",
        "print(\"numpy version:\", np.__version__)\n",
        "print(\"pandas version:\", pd.__version__)\n",
        "print(\"matplotlib version:\", plt.matplotlib.__version__)\n",
        "print(\"seaborn version:\", sns.__version__)"
      ]
    },
    {
      "cell_type": "markdown",
      "metadata": {
        "id": "NgHgbPIepaYl"
      },
      "source": [
        "### **1.1** Load the dataset\n",
        "<font color = red>[5 marks]</font> <br>"
      ]
    },
    {
      "cell_type": "markdown",
      "metadata": {
        "id": "KrGluF_gpeHs"
      },
      "source": [
        "You will see twelve files, one for each month.\n",
        "\n",
        "To read parquet files with Pandas, you have to follow a similar syntax as that for CSV files.\n",
        "\n",
        "`df = pd.read_parquet('file.parquet')`"
      ]
    },
    {
      "cell_type": "code",
      "source": [
        "from google.colab import drive\n",
        "drive.mount('/content/drive')"
      ],
      "metadata": {
        "colab": {
          "base_uri": "https://localhost:8080/"
        },
        "id": "88IApVcYTK8t",
        "outputId": "d2b09549-f3e9-40eb-a74f-9785ba7baeb3"
      },
      "execution_count": 20,
      "outputs": [
        {
          "output_type": "stream",
          "name": "stdout",
          "text": [
            "Drive already mounted at /content/drive; to attempt to forcibly remount, call drive.mount(\"/content/drive\", force_remount=True).\n"
          ]
        }
      ]
    },
    {
      "cell_type": "markdown",
      "metadata": {
        "id": "eh-keWIyqcyr"
      },
      "source": [
        "How many rows are there? Do you think handling such a large number of rows is computationally feasible when we have to combine the data for all twelve months into one?\n",
        "\n",
        "To handle this, we need to sample a fraction of data from each of the files. How to go about that? Think of a way to select only some portion of the data from each month's file that accurately represents the trends."
      ]
    },
    {
      "cell_type": "markdown",
      "metadata": {
        "id": "zHx7lh_3QGmj"
      },
      "source": [
        "#### Sampling the Data\n",
        "> One way is to take a small percentage of entries for pickup in every hour of a date. So, for all the days in a month, we can iterate through the hours and select 5% values randomly from those. Use `tpep_pickup_datetime` for this. Separate date and hour from the datetime values and then for each date, select some fraction of trips for each of the 24 hours.\n",
        "\n",
        "To sample data, you can use the `sample()` method. Follow this syntax:\n",
        "\n",
        "```Python\n",
        "# sampled_data is an empty DF to keep appending sampled data of each hour\n",
        "# hour_data is the DF of entries for an hour 'X' on a date 'Y'\n",
        "\n",
        "sample = hour_data.sample(frac = 0.05, random_state = 42)\n",
        "# sample 0.05 of the hour_data\n",
        "# random_state is just a seed for sampling, you can define it yourself\n",
        "\n",
        "sampled_data = pd.concat([sampled_data, sample]) # adding data for this hour to the DF\n",
        "```\n",
        "\n",
        "This *sampled_data* will contain 5% values selected at random from each hour.\n",
        "\n",
        "Note that the code given above is only the part that will be used for sampling and not the complete code required for sampling and combining the data files.\n",
        "\n",
        "Keep in mind that you sample by date AND hour, not just hour. (Why?)"
      ]
    },
    {
      "cell_type": "markdown",
      "metadata": {
        "id": "3zog80nsqvKp"
      },
      "source": [
        "---"
      ]
    },
    {
      "cell_type": "markdown",
      "metadata": {
        "id": "Fp24-wpQrlC5"
      },
      "source": [
        "**1.1.1** <font color = red>[5 marks]</font> <br>\n",
        "Figure out how to sample and combine the files."
      ]
    },
    {
      "cell_type": "markdown",
      "metadata": {
        "id": "vRGOnciGOvq0"
      },
      "source": [
        "**Note:** It is not mandatory to use the method specified above. While sampling, you only need to make sure that your sampled data represents the overall data of all the months accurately."
      ]
    },
    {
      "cell_type": "code",
      "execution_count": 21,
      "metadata": {
        "id": "3cpuzPFvP2iC"
      },
      "outputs": [],
      "source": [
        "# Sample the data\n",
        "# It is recommmended to not load all the files at once to avoid memory overload"
      ]
    },
    {
      "cell_type": "code",
      "execution_count": 22,
      "metadata": {
        "id": "h3x5bCWmarTO"
      },
      "outputs": [],
      "source": [
        "# from google.colab import drive\n",
        "# drive.mount('/content/drive')"
      ]
    },
    {
      "cell_type": "code",
      "source": [
        "import pandas as pd\n",
        "import os\n",
        "\n",
        "# Folder with taxi data files\n",
        "data_folder = '/content/drive/Othercomputers/My Laptop/Upgrad/C76/Data Sourcing Datasets/NYC Taxi/trip_records'\n",
        "\n",
        "# Get list of data files\n",
        "data_files = []\n",
        "for f in os.listdir(data_folder):\n",
        "    if f.endswith('.parquet'):\n",
        "        data_files.append(f)\n",
        "\n",
        "# Create empty list to store samples\n",
        "sampled_data = []\n",
        "\n",
        "# Process each file\n",
        "for file_name in data_files:\n",
        "    # Full file path\n",
        "    file_path = os.path.join(data_folder, file_name)\n",
        "\n",
        "    # Read data file\n",
        "    taxi_data = pd.read_parquet(file_path)\n",
        "\n",
        "    # Extract date and hour from pickup time\n",
        "    taxi_data['date'] = taxi_data['tpep_pickup_datetime'].dt.date\n",
        "    taxi_data['hour'] = taxi_data['tpep_pickup_datetime'].dt.hour\n",
        "\n",
        "    # Take small sample from each time group\n",
        "    sample = taxi_data.groupby(['date', 'hour']).sample(frac=0.05)\n",
        "\n",
        "    # Add to collection\n",
        "    sampled_data.append(sample)\n",
        "\n",
        "# Combine all samples\n",
        "combined_sample = pd.concat(sampled_data)\n",
        "\n",
        "# Save final sample\n",
        "save_path = os.path.join(data_folder, 'simple_sample.parquet')\n",
        "combined_sample.to_parquet(save_path)\n",
        "\n",
        "print(\"Total sampled trips:\", len(combined_sample))"
      ],
      "metadata": {
        "id": "xXs8RFcF-AKh",
        "colab": {
          "base_uri": "https://localhost:8080/"
        },
        "outputId": "74289356-41b0-46cb-8e8d-b7aaf95aed08"
      },
      "execution_count": 23,
      "outputs": [
        {
          "output_type": "stream",
          "name": "stdout",
          "text": [
            "Total sampled trips: 1987965\n"
          ]
        }
      ]
    },
    {
      "cell_type": "markdown",
      "metadata": {
        "id": "Sej6pZkzw2AK"
      },
      "source": [
        "After combining the data files into one DataFrame, convert the new DataFrame to a CSV or parquet file and store it to use directly.\n",
        "\n",
        "Ideally, you can try keeping the total entries to around 250,000 to 300,000."
      ]
    },
    {
      "cell_type": "code",
      "source": [
        "# Store the df in parquet\n",
        "# df.to_parquet('')\n",
        "import pandas as pd\n",
        "\n",
        "# Load the sampled Parquet file into a DataFrame\n",
        "df = pd.read_parquet('/content/drive/Othercomputers/My Laptop/Upgrad/C76/Data Sourcing Datasets/NYC Taxi/trip_records/simple_sample.parquet')\n",
        "\n",
        "print(df.info())"
      ],
      "metadata": {
        "id": "FR7rgk7-MAn5",
        "colab": {
          "base_uri": "https://localhost:8080/"
        },
        "outputId": "dc2f0175-2cbe-47b6-894f-f44e57aae21a"
      },
      "execution_count": 24,
      "outputs": [
        {
          "output_type": "stream",
          "name": "stdout",
          "text": [
            "<class 'pandas.core.frame.DataFrame'>\n",
            "Index: 1987965 entries, 1318 to 3197029\n",
            "Data columns (total 22 columns):\n",
            " #   Column                 Dtype         \n",
            "---  ------                 -----         \n",
            " 0   VendorID               int64         \n",
            " 1   tpep_pickup_datetime   datetime64[us]\n",
            " 2   tpep_dropoff_datetime  datetime64[us]\n",
            " 3   passenger_count        float64       \n",
            " 4   trip_distance          float64       \n",
            " 5   RatecodeID             float64       \n",
            " 6   store_and_fwd_flag     object        \n",
            " 7   PULocationID           int64         \n",
            " 8   DOLocationID           int64         \n",
            " 9   payment_type           int64         \n",
            " 10  fare_amount            float64       \n",
            " 11  extra                  float64       \n",
            " 12  mta_tax                float64       \n",
            " 13  tip_amount             float64       \n",
            " 14  tolls_amount           float64       \n",
            " 15  improvement_surcharge  float64       \n",
            " 16  total_amount           float64       \n",
            " 17  congestion_surcharge   float64       \n",
            " 18  Airport_fee            float64       \n",
            " 19  date                   object        \n",
            " 20  hour                   int32         \n",
            " 21  airport_fee            float64       \n",
            "dtypes: datetime64[us](2), float64(13), int32(1), int64(4), object(2)\n",
            "memory usage: 341.3+ MB\n",
            "None\n"
          ]
        }
      ]
    },
    {
      "cell_type": "markdown",
      "metadata": {
        "id": "QaOS3H9izZ0N"
      },
      "source": [
        "## **2** Data Cleaning\n",
        "<font color = red>[30 marks]</font> <br>"
      ]
    },
    {
      "cell_type": "markdown",
      "metadata": {
        "id": "5y3PKWqhxRA9"
      },
      "source": [
        "Now we can load the new data directly."
      ]
    },
    {
      "cell_type": "code",
      "execution_count": 25,
      "metadata": {
        "id": "FOuOL0SDxQHd",
        "colab": {
          "base_uri": "https://localhost:8080/"
        },
        "outputId": "2ec87566-a993-4656-bdf5-bed63fb31085"
      },
      "outputs": [
        {
          "output_type": "stream",
          "name": "stdout",
          "text": [
            "<class 'pandas.core.frame.DataFrame'>\n",
            "Index: 1987965 entries, 1318 to 3197029\n",
            "Data columns (total 22 columns):\n",
            " #   Column                 Dtype         \n",
            "---  ------                 -----         \n",
            " 0   VendorID               int64         \n",
            " 1   tpep_pickup_datetime   datetime64[us]\n",
            " 2   tpep_dropoff_datetime  datetime64[us]\n",
            " 3   passenger_count        float64       \n",
            " 4   trip_distance          float64       \n",
            " 5   RatecodeID             float64       \n",
            " 6   store_and_fwd_flag     object        \n",
            " 7   PULocationID           int64         \n",
            " 8   DOLocationID           int64         \n",
            " 9   payment_type           int64         \n",
            " 10  fare_amount            float64       \n",
            " 11  extra                  float64       \n",
            " 12  mta_tax                float64       \n",
            " 13  tip_amount             float64       \n",
            " 14  tolls_amount           float64       \n",
            " 15  improvement_surcharge  float64       \n",
            " 16  total_amount           float64       \n",
            " 17  congestion_surcharge   float64       \n",
            " 18  Airport_fee            float64       \n",
            " 19  date                   object        \n",
            " 20  hour                   int32         \n",
            " 21  airport_fee            float64       \n",
            "dtypes: datetime64[us](2), float64(13), int32(1), int64(4), object(2)\n",
            "memory usage: 341.3+ MB\n",
            "None\n"
          ]
        }
      ],
      "source": [
        "# Load the new data file\n",
        "import pandas as pd\n",
        "\n",
        "# Load the sampled Parquet file into a DataFrame\n",
        "df = pd.read_parquet('/content/drive/Othercomputers/My Laptop/Upgrad/C76/Data Sourcing Datasets/NYC Taxi/trip_records/simple_sample.parquet')\n",
        "print(df.info())\n"
      ]
    },
    {
      "cell_type": "code",
      "execution_count": 26,
      "metadata": {
        "id": "FH83U4A49ErC",
        "colab": {
          "base_uri": "https://localhost:8080/"
        },
        "outputId": "69b8e52c-dd0e-4d56-8d13-c1957a93f807"
      },
      "outputs": [
        {
          "output_type": "stream",
          "name": "stdout",
          "text": [
            "<class 'pandas.core.frame.DataFrame'>\n",
            "Index: 1987965 entries, 1318 to 3197029\n",
            "Data columns (total 22 columns):\n",
            " #   Column                 Dtype         \n",
            "---  ------                 -----         \n",
            " 0   VendorID               int64         \n",
            " 1   tpep_pickup_datetime   datetime64[us]\n",
            " 2   tpep_dropoff_datetime  datetime64[us]\n",
            " 3   passenger_count        float64       \n",
            " 4   trip_distance          float64       \n",
            " 5   RatecodeID             float64       \n",
            " 6   store_and_fwd_flag     object        \n",
            " 7   PULocationID           int64         \n",
            " 8   DOLocationID           int64         \n",
            " 9   payment_type           int64         \n",
            " 10  fare_amount            float64       \n",
            " 11  extra                  float64       \n",
            " 12  mta_tax                float64       \n",
            " 13  tip_amount             float64       \n",
            " 14  tolls_amount           float64       \n",
            " 15  improvement_surcharge  float64       \n",
            " 16  total_amount           float64       \n",
            " 17  congestion_surcharge   float64       \n",
            " 18  Airport_fee            float64       \n",
            " 19  date                   object        \n",
            " 20  hour                   int32         \n",
            " 21  airport_fee            float64       \n",
            "dtypes: datetime64[us](2), float64(13), int32(1), int64(4), object(2)\n",
            "memory usage: 341.3+ MB\n"
          ]
        }
      ],
      "source": [
        "df.info()"
      ]
    },
    {
      "cell_type": "markdown",
      "metadata": {
        "id": "358takCd2FiM"
      },
      "source": [
        "**2.1.1** <font color = red>[2 marks]</font> <br>\n",
        "\n",
        "Fix the index and drop unnecessary columns"
      ]
    },
    {
      "cell_type": "code",
      "source": [
        "# Fix the index by resetting it to a clean sequential index\n",
        "# Reset the index\n",
        "df = df.reset_index(drop=True)\n",
        "\n",
        "# Drop irrelevant columns\n",
        "columns_to_drop = [\n",
        "    'store_and_fwd_flag',  # Contains mostly 'N'/'Y' with some nulls (not useful for analysis)\n",
        "    'date',                # already captured in tpep_pickup_datetime\n",
        "    'hour'                 # can be derived from tpep_pickup_datetime\n",
        "]\n",
        "df = df.drop(columns=columns_to_drop)\n",
        "\n",
        "print(\"After fixing index and dropping columns:\")\n",
        "print(df.info())"
      ],
      "metadata": {
        "id": "TSeUlgVEL7Bh",
        "colab": {
          "base_uri": "https://localhost:8080/"
        },
        "outputId": "52c49941-3963-49ba-95bd-60b8b0766344"
      },
      "execution_count": 27,
      "outputs": [
        {
          "output_type": "stream",
          "name": "stdout",
          "text": [
            "After fixing index and dropping columns:\n",
            "<class 'pandas.core.frame.DataFrame'>\n",
            "RangeIndex: 1987965 entries, 0 to 1987964\n",
            "Data columns (total 19 columns):\n",
            " #   Column                 Dtype         \n",
            "---  ------                 -----         \n",
            " 0   VendorID               int64         \n",
            " 1   tpep_pickup_datetime   datetime64[us]\n",
            " 2   tpep_dropoff_datetime  datetime64[us]\n",
            " 3   passenger_count        float64       \n",
            " 4   trip_distance          float64       \n",
            " 5   RatecodeID             float64       \n",
            " 6   PULocationID           int64         \n",
            " 7   DOLocationID           int64         \n",
            " 8   payment_type           int64         \n",
            " 9   fare_amount            float64       \n",
            " 10  extra                  float64       \n",
            " 11  mta_tax                float64       \n",
            " 12  tip_amount             float64       \n",
            " 13  tolls_amount           float64       \n",
            " 14  improvement_surcharge  float64       \n",
            " 15  total_amount           float64       \n",
            " 16  congestion_surcharge   float64       \n",
            " 17  Airport_fee            float64       \n",
            " 18  airport_fee            float64       \n",
            "dtypes: datetime64[us](2), float64(13), int64(4)\n",
            "memory usage: 288.2 MB\n",
            "None\n"
          ]
        }
      ]
    },
    {
      "cell_type": "markdown",
      "metadata": {
        "id": "TIFmxvIT2wsn"
      },
      "source": [
        "**2.1.2** <font color = red>[3 marks]</font> <br>\n",
        "There are two airport fee columns. This is possibly an error in naming columns. Let's see whether these can be combined into a single column."
      ]
    },
    {
      "cell_type": "code",
      "execution_count": 28,
      "metadata": {
        "id": "rmtgnb1x6TrV",
        "colab": {
          "base_uri": "https://localhost:8080/"
        },
        "outputId": "4f43a76d-0418-4bae-f973-a203d9dd85fa"
      },
      "outputs": [
        {
          "output_type": "stream",
          "name": "stdout",
          "text": [
            "\n",
            "After combining airport fee columns:\n",
            "   airport_fee\n",
            "0          0.0\n",
            "1          0.0\n",
            "2          0.0\n",
            "3          0.0\n",
            "4          0.0\n"
          ]
        }
      ],
      "source": [
        "# Check if both columns exist (case-sensitive check)\n",
        "if 'Airport_fee' in df.columns and 'airport_fee' in df.columns:\n",
        "    # Fill NaN with 0 and combine values\n",
        "    df['airport_fee'] = df['Airport_fee'].fillna(0) + df['airport_fee'].fillna(0)\n",
        "\n",
        "    # Drop the uppercase column\n",
        "    df = df.drop(columns=['Airport_fee'])\n",
        "\n",
        "    print(\"\\nAfter combining airport fee columns:\")\n",
        "    print(df[['airport_fee']].head())\n",
        "else:\n",
        "    print(\"No duplicate airport fee columns found.\")"
      ]
    },
    {
      "cell_type": "markdown",
      "metadata": {
        "id": "1g4AHG7mOYgP"
      },
      "source": [
        "**2.1.3** <font color = red>[5 marks]</font> <br>\n",
        "Fix columns with negative (monetary) values"
      ]
    },
    {
      "cell_type": "code",
      "execution_count": 29,
      "metadata": {
        "id": "nBsMT2MII1Hv",
        "colab": {
          "base_uri": "https://localhost:8080/"
        },
        "outputId": "ef0d8da2-9fef-464c-df3e-997239581739"
      },
      "outputs": [
        {
          "output_type": "stream",
          "name": "stdout",
          "text": [
            "Columns with negative values after fix:\n",
            " fare_amount              False\n",
            "extra                    False\n",
            "mta_tax                  False\n",
            "tip_amount               False\n",
            "tolls_amount             False\n",
            "improvement_surcharge    False\n",
            "total_amount             False\n",
            "congestion_surcharge     False\n",
            "airport_fee              False\n",
            "dtype: bool\n"
          ]
        }
      ],
      "source": [
        "# Define monetary columns\n",
        "monetary_columns = [\n",
        "    'fare_amount', 'extra', 'mta_tax', 'tip_amount',\n",
        "    'tolls_amount', 'improvement_surcharge', 'total_amount',\n",
        "    'congestion_surcharge', 'airport_fee'\n",
        "]\n",
        "\n",
        "# Replace negative values with 0 in all monetary columns\n",
        "df[monetary_columns] = df[monetary_columns].apply(lambda x: x.mask(x < 0, 0))\n",
        "\n",
        "# Verify no negatives remain\n",
        "negative_check = df[monetary_columns].lt(0).any()\n",
        "print(\"Columns with negative values after fix:\\n\", negative_check)"
      ]
    },
    {
      "cell_type": "markdown",
      "metadata": {
        "id": "JNKpDtTh8awi"
      },
      "source": [
        "Did you notice something different in the `RatecodeID` column for above records?"
      ]
    },
    {
      "cell_type": "code",
      "source": [
        "# # Analyse RatecodeID for the negative fare amounts\n",
        "# Check for negative fares\n",
        "neg_fares = df[df['fare_amount'] < 0]\n",
        "\n",
        "if not neg_fares.empty:\n",
        "    # Check RatecodeID values\n",
        "    print(\"RatecodeID for negative fares:\")\n",
        "    print(neg_fares['RatecodeID'].value_counts())\n",
        "\n",
        "    # Look for weird RatecodeID values\n",
        "    weird_codes = neg_fares[~neg_fares['RatecodeID'].isin([1,2,3,4,5,6])]\n",
        "    if not weird_codes.empty:\n",
        "        print(\"\\nWeird RatecodeIDs found:\")\n",
        "        print(weird_codes[['RatecodeID', 'fare_amount']])\n",
        "else:\n",
        "    print(\"No negative fares found. Skip RatecodeID check.\")\n",
        "\n"
      ],
      "metadata": {
        "id": "B5VVcJnSYINM",
        "colab": {
          "base_uri": "https://localhost:8080/"
        },
        "outputId": "9056e587-bd02-461e-9e3b-73ccc9ea84ed"
      },
      "execution_count": 30,
      "outputs": [
        {
          "output_type": "stream",
          "name": "stdout",
          "text": [
            "No negative fares found. Skip RatecodeID check.\n"
          ]
        }
      ]
    },
    {
      "cell_type": "code",
      "execution_count": 31,
      "metadata": {
        "id": "Ruyh2vaCRNxr",
        "colab": {
          "base_uri": "https://localhost:8080/"
        },
        "outputId": "b0d61d60-e755-416b-edc8-57582ff63280"
      },
      "outputs": [
        {
          "output_type": "stream",
          "name": "stdout",
          "text": [
            "Columns with negative values:\n",
            "fare_amount              False\n",
            "extra                    False\n",
            "mta_tax                  False\n",
            "tip_amount               False\n",
            "tolls_amount             False\n",
            "improvement_surcharge    False\n",
            "total_amount             False\n",
            "congestion_surcharge     False\n",
            "airport_fee              False\n",
            "dtype: bool\n"
          ]
        }
      ],
      "source": [
        "# Find which columns have negative values\n",
        "# Check which columns have negatives\n",
        "money_cols = ['fare_amount', 'extra', 'mta_tax', 'tip_amount',\n",
        "              'tolls_amount', 'improvement_surcharge', 'total_amount',\n",
        "              'congestion_surcharge', 'airport_fee']\n",
        "\n",
        "has_negatives = df[money_cols].apply(lambda col: (col < 0).any())\n",
        "print(\"Columns with negative values:\")\n",
        "print(has_negatives)\n"
      ]
    },
    {
      "cell_type": "code",
      "execution_count": 32,
      "metadata": {
        "id": "mPehZ6PJg3_J"
      },
      "outputs": [],
      "source": [
        "# fix these negative values\n",
        "#No negative values found\n"
      ]
    },
    {
      "cell_type": "code",
      "source": [
        "df.head(90)"
      ],
      "metadata": {
        "id": "fRMT1GjDDzj-",
        "colab": {
          "base_uri": "https://localhost:8080/",
          "height": 444
        },
        "outputId": "ebbf156c-6d42-4a61-ad42-928fd269642a"
      },
      "execution_count": 33,
      "outputs": [
        {
          "output_type": "execute_result",
          "data": {
            "text/plain": [
              "    VendorID tpep_pickup_datetime tpep_dropoff_datetime  passenger_count  \\\n",
              "0          2  2023-08-31 23:59:43   2023-09-01 00:15:59              1.0   \n",
              "1          2  2023-09-01 00:19:34   2023-09-01 00:36:07              1.0   \n",
              "2          2  2023-09-01 00:06:52   2023-09-01 00:17:07              1.0   \n",
              "3          2  2023-09-01 00:22:22   2023-09-01 00:31:33              1.0   \n",
              "4          2  2023-09-01 00:10:46   2023-09-01 00:15:41              3.0   \n",
              "..       ...                  ...                   ...              ...   \n",
              "85         2  2023-09-01 00:08:22   2023-09-01 00:55:47              3.0   \n",
              "86         2  2023-09-01 00:38:32   2023-09-01 00:48:06              1.0   \n",
              "87         2  2023-09-01 00:46:28   2023-09-01 00:54:58              1.0   \n",
              "88         2  2023-09-01 00:29:04   2023-09-01 00:44:39              1.0   \n",
              "89         2  2023-09-01 00:13:53   2023-09-01 00:26:14              2.0   \n",
              "\n",
              "    trip_distance  RatecodeID  PULocationID  DOLocationID  payment_type  \\\n",
              "0            3.16         1.0            48           262             1   \n",
              "1            5.42         1.0           230            42             2   \n",
              "2            1.26         1.0           100           163             2   \n",
              "3            3.12         1.0            79           107             1   \n",
              "4            0.79         1.0           164           170             1   \n",
              "..            ...         ...           ...           ...           ...   \n",
              "85          19.37         2.0           132           231             1   \n",
              "86           1.13         1.0            68           163             1   \n",
              "87           5.42         1.0           132            28             2   \n",
              "88           1.51         1.0           230            68             1   \n",
              "89           1.84         1.0           144           249             1   \n",
              "\n",
              "    fare_amount  extra  mta_tax  tip_amount  tolls_amount  \\\n",
              "0          17.7    1.0      0.5        4.54          0.00   \n",
              "1          23.3    1.0      0.5        0.00          0.00   \n",
              "2          10.7    1.0      0.5        0.00          0.00   \n",
              "3          14.2    1.0      0.5        3.84          0.00   \n",
              "4           6.5    1.0      0.5        1.15          0.00   \n",
              "..          ...    ...      ...         ...           ...   \n",
              "85         70.0    0.0      0.5       12.40          6.94   \n",
              "86         10.0    1.0      0.5        3.00          0.00   \n",
              "87         21.9    1.0      0.5        0.00          0.00   \n",
              "88         14.2    1.0      0.5        3.46          0.00   \n",
              "89         13.5    1.0      0.5        3.70          0.00   \n",
              "\n",
              "    improvement_surcharge  total_amount  congestion_surcharge  airport_fee  \n",
              "0                     1.0         27.24                   2.5         0.00  \n",
              "1                     1.0         28.30                   2.5         0.00  \n",
              "2                     1.0         15.70                   2.5         0.00  \n",
              "3                     1.0         23.04                   2.5         0.00  \n",
              "4                     1.0         12.65                   2.5         0.00  \n",
              "..                    ...           ...                   ...          ...  \n",
              "85                    1.0         95.09                   2.5         1.75  \n",
              "86                    1.0         18.00                   2.5         0.00  \n",
              "87                    1.0         26.15                   0.0         1.75  \n",
              "88                    1.0         22.66                   2.5         0.00  \n",
              "89                    1.0         22.20                   2.5         0.00  \n",
              "\n",
              "[90 rows x 18 columns]"
            ],
            "text/html": [
              "\n",
              "  <div id=\"df-24b9a7bb-5fec-4c41-ba24-d99ee49cb73e\" class=\"colab-df-container\">\n",
              "    <div>\n",
              "<style scoped>\n",
              "    .dataframe tbody tr th:only-of-type {\n",
              "        vertical-align: middle;\n",
              "    }\n",
              "\n",
              "    .dataframe tbody tr th {\n",
              "        vertical-align: top;\n",
              "    }\n",
              "\n",
              "    .dataframe thead th {\n",
              "        text-align: right;\n",
              "    }\n",
              "</style>\n",
              "<table border=\"1\" class=\"dataframe\">\n",
              "  <thead>\n",
              "    <tr style=\"text-align: right;\">\n",
              "      <th></th>\n",
              "      <th>VendorID</th>\n",
              "      <th>tpep_pickup_datetime</th>\n",
              "      <th>tpep_dropoff_datetime</th>\n",
              "      <th>passenger_count</th>\n",
              "      <th>trip_distance</th>\n",
              "      <th>RatecodeID</th>\n",
              "      <th>PULocationID</th>\n",
              "      <th>DOLocationID</th>\n",
              "      <th>payment_type</th>\n",
              "      <th>fare_amount</th>\n",
              "      <th>extra</th>\n",
              "      <th>mta_tax</th>\n",
              "      <th>tip_amount</th>\n",
              "      <th>tolls_amount</th>\n",
              "      <th>improvement_surcharge</th>\n",
              "      <th>total_amount</th>\n",
              "      <th>congestion_surcharge</th>\n",
              "      <th>airport_fee</th>\n",
              "    </tr>\n",
              "  </thead>\n",
              "  <tbody>\n",
              "    <tr>\n",
              "      <th>0</th>\n",
              "      <td>2</td>\n",
              "      <td>2023-08-31 23:59:43</td>\n",
              "      <td>2023-09-01 00:15:59</td>\n",
              "      <td>1.0</td>\n",
              "      <td>3.16</td>\n",
              "      <td>1.0</td>\n",
              "      <td>48</td>\n",
              "      <td>262</td>\n",
              "      <td>1</td>\n",
              "      <td>17.7</td>\n",
              "      <td>1.0</td>\n",
              "      <td>0.5</td>\n",
              "      <td>4.54</td>\n",
              "      <td>0.00</td>\n",
              "      <td>1.0</td>\n",
              "      <td>27.24</td>\n",
              "      <td>2.5</td>\n",
              "      <td>0.00</td>\n",
              "    </tr>\n",
              "    <tr>\n",
              "      <th>1</th>\n",
              "      <td>2</td>\n",
              "      <td>2023-09-01 00:19:34</td>\n",
              "      <td>2023-09-01 00:36:07</td>\n",
              "      <td>1.0</td>\n",
              "      <td>5.42</td>\n",
              "      <td>1.0</td>\n",
              "      <td>230</td>\n",
              "      <td>42</td>\n",
              "      <td>2</td>\n",
              "      <td>23.3</td>\n",
              "      <td>1.0</td>\n",
              "      <td>0.5</td>\n",
              "      <td>0.00</td>\n",
              "      <td>0.00</td>\n",
              "      <td>1.0</td>\n",
              "      <td>28.30</td>\n",
              "      <td>2.5</td>\n",
              "      <td>0.00</td>\n",
              "    </tr>\n",
              "    <tr>\n",
              "      <th>2</th>\n",
              "      <td>2</td>\n",
              "      <td>2023-09-01 00:06:52</td>\n",
              "      <td>2023-09-01 00:17:07</td>\n",
              "      <td>1.0</td>\n",
              "      <td>1.26</td>\n",
              "      <td>1.0</td>\n",
              "      <td>100</td>\n",
              "      <td>163</td>\n",
              "      <td>2</td>\n",
              "      <td>10.7</td>\n",
              "      <td>1.0</td>\n",
              "      <td>0.5</td>\n",
              "      <td>0.00</td>\n",
              "      <td>0.00</td>\n",
              "      <td>1.0</td>\n",
              "      <td>15.70</td>\n",
              "      <td>2.5</td>\n",
              "      <td>0.00</td>\n",
              "    </tr>\n",
              "    <tr>\n",
              "      <th>3</th>\n",
              "      <td>2</td>\n",
              "      <td>2023-09-01 00:22:22</td>\n",
              "      <td>2023-09-01 00:31:33</td>\n",
              "      <td>1.0</td>\n",
              "      <td>3.12</td>\n",
              "      <td>1.0</td>\n",
              "      <td>79</td>\n",
              "      <td>107</td>\n",
              "      <td>1</td>\n",
              "      <td>14.2</td>\n",
              "      <td>1.0</td>\n",
              "      <td>0.5</td>\n",
              "      <td>3.84</td>\n",
              "      <td>0.00</td>\n",
              "      <td>1.0</td>\n",
              "      <td>23.04</td>\n",
              "      <td>2.5</td>\n",
              "      <td>0.00</td>\n",
              "    </tr>\n",
              "    <tr>\n",
              "      <th>4</th>\n",
              "      <td>2</td>\n",
              "      <td>2023-09-01 00:10:46</td>\n",
              "      <td>2023-09-01 00:15:41</td>\n",
              "      <td>3.0</td>\n",
              "      <td>0.79</td>\n",
              "      <td>1.0</td>\n",
              "      <td>164</td>\n",
              "      <td>170</td>\n",
              "      <td>1</td>\n",
              "      <td>6.5</td>\n",
              "      <td>1.0</td>\n",
              "      <td>0.5</td>\n",
              "      <td>1.15</td>\n",
              "      <td>0.00</td>\n",
              "      <td>1.0</td>\n",
              "      <td>12.65</td>\n",
              "      <td>2.5</td>\n",
              "      <td>0.00</td>\n",
              "    </tr>\n",
              "    <tr>\n",
              "      <th>...</th>\n",
              "      <td>...</td>\n",
              "      <td>...</td>\n",
              "      <td>...</td>\n",
              "      <td>...</td>\n",
              "      <td>...</td>\n",
              "      <td>...</td>\n",
              "      <td>...</td>\n",
              "      <td>...</td>\n",
              "      <td>...</td>\n",
              "      <td>...</td>\n",
              "      <td>...</td>\n",
              "      <td>...</td>\n",
              "      <td>...</td>\n",
              "      <td>...</td>\n",
              "      <td>...</td>\n",
              "      <td>...</td>\n",
              "      <td>...</td>\n",
              "      <td>...</td>\n",
              "    </tr>\n",
              "    <tr>\n",
              "      <th>85</th>\n",
              "      <td>2</td>\n",
              "      <td>2023-09-01 00:08:22</td>\n",
              "      <td>2023-09-01 00:55:47</td>\n",
              "      <td>3.0</td>\n",
              "      <td>19.37</td>\n",
              "      <td>2.0</td>\n",
              "      <td>132</td>\n",
              "      <td>231</td>\n",
              "      <td>1</td>\n",
              "      <td>70.0</td>\n",
              "      <td>0.0</td>\n",
              "      <td>0.5</td>\n",
              "      <td>12.40</td>\n",
              "      <td>6.94</td>\n",
              "      <td>1.0</td>\n",
              "      <td>95.09</td>\n",
              "      <td>2.5</td>\n",
              "      <td>1.75</td>\n",
              "    </tr>\n",
              "    <tr>\n",
              "      <th>86</th>\n",
              "      <td>2</td>\n",
              "      <td>2023-09-01 00:38:32</td>\n",
              "      <td>2023-09-01 00:48:06</td>\n",
              "      <td>1.0</td>\n",
              "      <td>1.13</td>\n",
              "      <td>1.0</td>\n",
              "      <td>68</td>\n",
              "      <td>163</td>\n",
              "      <td>1</td>\n",
              "      <td>10.0</td>\n",
              "      <td>1.0</td>\n",
              "      <td>0.5</td>\n",
              "      <td>3.00</td>\n",
              "      <td>0.00</td>\n",
              "      <td>1.0</td>\n",
              "      <td>18.00</td>\n",
              "      <td>2.5</td>\n",
              "      <td>0.00</td>\n",
              "    </tr>\n",
              "    <tr>\n",
              "      <th>87</th>\n",
              "      <td>2</td>\n",
              "      <td>2023-09-01 00:46:28</td>\n",
              "      <td>2023-09-01 00:54:58</td>\n",
              "      <td>1.0</td>\n",
              "      <td>5.42</td>\n",
              "      <td>1.0</td>\n",
              "      <td>132</td>\n",
              "      <td>28</td>\n",
              "      <td>2</td>\n",
              "      <td>21.9</td>\n",
              "      <td>1.0</td>\n",
              "      <td>0.5</td>\n",
              "      <td>0.00</td>\n",
              "      <td>0.00</td>\n",
              "      <td>1.0</td>\n",
              "      <td>26.15</td>\n",
              "      <td>0.0</td>\n",
              "      <td>1.75</td>\n",
              "    </tr>\n",
              "    <tr>\n",
              "      <th>88</th>\n",
              "      <td>2</td>\n",
              "      <td>2023-09-01 00:29:04</td>\n",
              "      <td>2023-09-01 00:44:39</td>\n",
              "      <td>1.0</td>\n",
              "      <td>1.51</td>\n",
              "      <td>1.0</td>\n",
              "      <td>230</td>\n",
              "      <td>68</td>\n",
              "      <td>1</td>\n",
              "      <td>14.2</td>\n",
              "      <td>1.0</td>\n",
              "      <td>0.5</td>\n",
              "      <td>3.46</td>\n",
              "      <td>0.00</td>\n",
              "      <td>1.0</td>\n",
              "      <td>22.66</td>\n",
              "      <td>2.5</td>\n",
              "      <td>0.00</td>\n",
              "    </tr>\n",
              "    <tr>\n",
              "      <th>89</th>\n",
              "      <td>2</td>\n",
              "      <td>2023-09-01 00:13:53</td>\n",
              "      <td>2023-09-01 00:26:14</td>\n",
              "      <td>2.0</td>\n",
              "      <td>1.84</td>\n",
              "      <td>1.0</td>\n",
              "      <td>144</td>\n",
              "      <td>249</td>\n",
              "      <td>1</td>\n",
              "      <td>13.5</td>\n",
              "      <td>1.0</td>\n",
              "      <td>0.5</td>\n",
              "      <td>3.70</td>\n",
              "      <td>0.00</td>\n",
              "      <td>1.0</td>\n",
              "      <td>22.20</td>\n",
              "      <td>2.5</td>\n",
              "      <td>0.00</td>\n",
              "    </tr>\n",
              "  </tbody>\n",
              "</table>\n",
              "<p>90 rows × 18 columns</p>\n",
              "</div>\n",
              "    <div class=\"colab-df-buttons\">\n",
              "\n",
              "  <div class=\"colab-df-container\">\n",
              "    <button class=\"colab-df-convert\" onclick=\"convertToInteractive('df-24b9a7bb-5fec-4c41-ba24-d99ee49cb73e')\"\n",
              "            title=\"Convert this dataframe to an interactive table.\"\n",
              "            style=\"display:none;\">\n",
              "\n",
              "  <svg xmlns=\"http://www.w3.org/2000/svg\" height=\"24px\" viewBox=\"0 -960 960 960\">\n",
              "    <path d=\"M120-120v-720h720v720H120Zm60-500h600v-160H180v160Zm220 220h160v-160H400v160Zm0 220h160v-160H400v160ZM180-400h160v-160H180v160Zm440 0h160v-160H620v160ZM180-180h160v-160H180v160Zm440 0h160v-160H620v160Z\"/>\n",
              "  </svg>\n",
              "    </button>\n",
              "\n",
              "  <style>\n",
              "    .colab-df-container {\n",
              "      display:flex;\n",
              "      gap: 12px;\n",
              "    }\n",
              "\n",
              "    .colab-df-convert {\n",
              "      background-color: #E8F0FE;\n",
              "      border: none;\n",
              "      border-radius: 50%;\n",
              "      cursor: pointer;\n",
              "      display: none;\n",
              "      fill: #1967D2;\n",
              "      height: 32px;\n",
              "      padding: 0 0 0 0;\n",
              "      width: 32px;\n",
              "    }\n",
              "\n",
              "    .colab-df-convert:hover {\n",
              "      background-color: #E2EBFA;\n",
              "      box-shadow: 0px 1px 2px rgba(60, 64, 67, 0.3), 0px 1px 3px 1px rgba(60, 64, 67, 0.15);\n",
              "      fill: #174EA6;\n",
              "    }\n",
              "\n",
              "    .colab-df-buttons div {\n",
              "      margin-bottom: 4px;\n",
              "    }\n",
              "\n",
              "    [theme=dark] .colab-df-convert {\n",
              "      background-color: #3B4455;\n",
              "      fill: #D2E3FC;\n",
              "    }\n",
              "\n",
              "    [theme=dark] .colab-df-convert:hover {\n",
              "      background-color: #434B5C;\n",
              "      box-shadow: 0px 1px 3px 1px rgba(0, 0, 0, 0.15);\n",
              "      filter: drop-shadow(0px 1px 2px rgba(0, 0, 0, 0.3));\n",
              "      fill: #FFFFFF;\n",
              "    }\n",
              "  </style>\n",
              "\n",
              "    <script>\n",
              "      const buttonEl =\n",
              "        document.querySelector('#df-24b9a7bb-5fec-4c41-ba24-d99ee49cb73e button.colab-df-convert');\n",
              "      buttonEl.style.display =\n",
              "        google.colab.kernel.accessAllowed ? 'block' : 'none';\n",
              "\n",
              "      async function convertToInteractive(key) {\n",
              "        const element = document.querySelector('#df-24b9a7bb-5fec-4c41-ba24-d99ee49cb73e');\n",
              "        const dataTable =\n",
              "          await google.colab.kernel.invokeFunction('convertToInteractive',\n",
              "                                                    [key], {});\n",
              "        if (!dataTable) return;\n",
              "\n",
              "        const docLinkHtml = 'Like what you see? Visit the ' +\n",
              "          '<a target=\"_blank\" href=https://colab.research.google.com/notebooks/data_table.ipynb>data table notebook</a>'\n",
              "          + ' to learn more about interactive tables.';\n",
              "        element.innerHTML = '';\n",
              "        dataTable['output_type'] = 'display_data';\n",
              "        await google.colab.output.renderOutput(dataTable, element);\n",
              "        const docLink = document.createElement('div');\n",
              "        docLink.innerHTML = docLinkHtml;\n",
              "        element.appendChild(docLink);\n",
              "      }\n",
              "    </script>\n",
              "  </div>\n",
              "\n",
              "\n",
              "    <div id=\"df-7a6702eb-b97c-4f61-804f-032a5be723d4\">\n",
              "      <button class=\"colab-df-quickchart\" onclick=\"quickchart('df-7a6702eb-b97c-4f61-804f-032a5be723d4')\"\n",
              "                title=\"Suggest charts\"\n",
              "                style=\"display:none;\">\n",
              "\n",
              "<svg xmlns=\"http://www.w3.org/2000/svg\" height=\"24px\"viewBox=\"0 0 24 24\"\n",
              "     width=\"24px\">\n",
              "    <g>\n",
              "        <path d=\"M19 3H5c-1.1 0-2 .9-2 2v14c0 1.1.9 2 2 2h14c1.1 0 2-.9 2-2V5c0-1.1-.9-2-2-2zM9 17H7v-7h2v7zm4 0h-2V7h2v10zm4 0h-2v-4h2v4z\"/>\n",
              "    </g>\n",
              "</svg>\n",
              "      </button>\n",
              "\n",
              "<style>\n",
              "  .colab-df-quickchart {\n",
              "      --bg-color: #E8F0FE;\n",
              "      --fill-color: #1967D2;\n",
              "      --hover-bg-color: #E2EBFA;\n",
              "      --hover-fill-color: #174EA6;\n",
              "      --disabled-fill-color: #AAA;\n",
              "      --disabled-bg-color: #DDD;\n",
              "  }\n",
              "\n",
              "  [theme=dark] .colab-df-quickchart {\n",
              "      --bg-color: #3B4455;\n",
              "      --fill-color: #D2E3FC;\n",
              "      --hover-bg-color: #434B5C;\n",
              "      --hover-fill-color: #FFFFFF;\n",
              "      --disabled-bg-color: #3B4455;\n",
              "      --disabled-fill-color: #666;\n",
              "  }\n",
              "\n",
              "  .colab-df-quickchart {\n",
              "    background-color: var(--bg-color);\n",
              "    border: none;\n",
              "    border-radius: 50%;\n",
              "    cursor: pointer;\n",
              "    display: none;\n",
              "    fill: var(--fill-color);\n",
              "    height: 32px;\n",
              "    padding: 0;\n",
              "    width: 32px;\n",
              "  }\n",
              "\n",
              "  .colab-df-quickchart:hover {\n",
              "    background-color: var(--hover-bg-color);\n",
              "    box-shadow: 0 1px 2px rgba(60, 64, 67, 0.3), 0 1px 3px 1px rgba(60, 64, 67, 0.15);\n",
              "    fill: var(--button-hover-fill-color);\n",
              "  }\n",
              "\n",
              "  .colab-df-quickchart-complete:disabled,\n",
              "  .colab-df-quickchart-complete:disabled:hover {\n",
              "    background-color: var(--disabled-bg-color);\n",
              "    fill: var(--disabled-fill-color);\n",
              "    box-shadow: none;\n",
              "  }\n",
              "\n",
              "  .colab-df-spinner {\n",
              "    border: 2px solid var(--fill-color);\n",
              "    border-color: transparent;\n",
              "    border-bottom-color: var(--fill-color);\n",
              "    animation:\n",
              "      spin 1s steps(1) infinite;\n",
              "  }\n",
              "\n",
              "  @keyframes spin {\n",
              "    0% {\n",
              "      border-color: transparent;\n",
              "      border-bottom-color: var(--fill-color);\n",
              "      border-left-color: var(--fill-color);\n",
              "    }\n",
              "    20% {\n",
              "      border-color: transparent;\n",
              "      border-left-color: var(--fill-color);\n",
              "      border-top-color: var(--fill-color);\n",
              "    }\n",
              "    30% {\n",
              "      border-color: transparent;\n",
              "      border-left-color: var(--fill-color);\n",
              "      border-top-color: var(--fill-color);\n",
              "      border-right-color: var(--fill-color);\n",
              "    }\n",
              "    40% {\n",
              "      border-color: transparent;\n",
              "      border-right-color: var(--fill-color);\n",
              "      border-top-color: var(--fill-color);\n",
              "    }\n",
              "    60% {\n",
              "      border-color: transparent;\n",
              "      border-right-color: var(--fill-color);\n",
              "    }\n",
              "    80% {\n",
              "      border-color: transparent;\n",
              "      border-right-color: var(--fill-color);\n",
              "      border-bottom-color: var(--fill-color);\n",
              "    }\n",
              "    90% {\n",
              "      border-color: transparent;\n",
              "      border-bottom-color: var(--fill-color);\n",
              "    }\n",
              "  }\n",
              "</style>\n",
              "\n",
              "      <script>\n",
              "        async function quickchart(key) {\n",
              "          const quickchartButtonEl =\n",
              "            document.querySelector('#' + key + ' button');\n",
              "          quickchartButtonEl.disabled = true;  // To prevent multiple clicks.\n",
              "          quickchartButtonEl.classList.add('colab-df-spinner');\n",
              "          try {\n",
              "            const charts = await google.colab.kernel.invokeFunction(\n",
              "                'suggestCharts', [key], {});\n",
              "          } catch (error) {\n",
              "            console.error('Error during call to suggestCharts:', error);\n",
              "          }\n",
              "          quickchartButtonEl.classList.remove('colab-df-spinner');\n",
              "          quickchartButtonEl.classList.add('colab-df-quickchart-complete');\n",
              "        }\n",
              "        (() => {\n",
              "          let quickchartButtonEl =\n",
              "            document.querySelector('#df-7a6702eb-b97c-4f61-804f-032a5be723d4 button');\n",
              "          quickchartButtonEl.style.display =\n",
              "            google.colab.kernel.accessAllowed ? 'block' : 'none';\n",
              "        })();\n",
              "      </script>\n",
              "    </div>\n",
              "\n",
              "    </div>\n",
              "  </div>\n"
            ],
            "application/vnd.google.colaboratory.intrinsic+json": {
              "type": "dataframe",
              "variable_name": "df"
            }
          },
          "metadata": {},
          "execution_count": 33
        }
      ]
    },
    {
      "cell_type": "code",
      "source": [
        "df.info()"
      ],
      "metadata": {
        "id": "xpdRiESDD-c0",
        "colab": {
          "base_uri": "https://localhost:8080/"
        },
        "outputId": "70b51cdc-4f40-4e2c-c167-d8ec17ee4099"
      },
      "execution_count": 34,
      "outputs": [
        {
          "output_type": "stream",
          "name": "stdout",
          "text": [
            "<class 'pandas.core.frame.DataFrame'>\n",
            "RangeIndex: 1987965 entries, 0 to 1987964\n",
            "Data columns (total 18 columns):\n",
            " #   Column                 Dtype         \n",
            "---  ------                 -----         \n",
            " 0   VendorID               int64         \n",
            " 1   tpep_pickup_datetime   datetime64[us]\n",
            " 2   tpep_dropoff_datetime  datetime64[us]\n",
            " 3   passenger_count        float64       \n",
            " 4   trip_distance          float64       \n",
            " 5   RatecodeID             float64       \n",
            " 6   PULocationID           int64         \n",
            " 7   DOLocationID           int64         \n",
            " 8   payment_type           int64         \n",
            " 9   fare_amount            float64       \n",
            " 10  extra                  float64       \n",
            " 11  mta_tax                float64       \n",
            " 12  tip_amount             float64       \n",
            " 13  tolls_amount           float64       \n",
            " 14  improvement_surcharge  float64       \n",
            " 15  total_amount           float64       \n",
            " 16  congestion_surcharge   float64       \n",
            " 17  airport_fee            float64       \n",
            "dtypes: datetime64[us](2), float64(12), int64(4)\n",
            "memory usage: 273.0 MB\n"
          ]
        }
      ]
    },
    {
      "cell_type": "markdown",
      "source": [],
      "metadata": {
        "id": "2jyiqcNiLvBb"
      }
    },
    {
      "cell_type": "markdown",
      "metadata": {
        "id": "x2hakCCy6wXI"
      },
      "source": [
        "### **2.2** Handling Missing Values\n",
        "<font color = red>[10 marks]</font> <br>"
      ]
    },
    {
      "cell_type": "markdown",
      "metadata": {
        "id": "-K-QNPDVVhzR"
      },
      "source": [
        "**2.2.1**  <font color = red>[2 marks]</font> <br>\n",
        "Find the proportion of missing values in each column\n",
        "\n",
        "\n"
      ]
    },
    {
      "cell_type": "code",
      "execution_count": 35,
      "metadata": {
        "id": "tfTa9cct6Gec",
        "colab": {
          "base_uri": "https://localhost:8080/"
        },
        "outputId": "6f75d372-9e35-4f41-b6c8-19d164e25707"
      },
      "outputs": [
        {
          "output_type": "stream",
          "name": "stdout",
          "text": [
            "Proportion of missing values per column:\n",
            "VendorID                 0.000000\n",
            "tpep_pickup_datetime     0.000000\n",
            "tpep_dropoff_datetime    0.000000\n",
            "passenger_count          0.034393\n",
            "trip_distance            0.000000\n",
            "RatecodeID               0.034393\n",
            "PULocationID             0.000000\n",
            "DOLocationID             0.000000\n",
            "payment_type             0.000000\n",
            "fare_amount              0.000000\n",
            "extra                    0.000000\n",
            "mta_tax                  0.000000\n",
            "tip_amount               0.000000\n",
            "tolls_amount             0.000000\n",
            "improvement_surcharge    0.000000\n",
            "total_amount             0.000000\n",
            "congestion_surcharge     0.034393\n",
            "airport_fee              0.000000\n",
            "dtype: float64\n"
          ]
        }
      ],
      "source": [
        "# Find the proportion of missing values in each column\n",
        "missing = df.isnull().sum()\n",
        "\n",
        "# Calculate proportion\n",
        "prop_missing = missing / len(df)\n",
        "\n",
        "# Show results\n",
        "print(\"Proportion of missing values per column:\")\n",
        "print(prop_missing)\n"
      ]
    },
    {
      "cell_type": "markdown",
      "metadata": {
        "id": "-UdUl6AL_-E_"
      },
      "source": [
        "**2.2.2**  <font color = red>[3 marks]</font> <br>\n",
        "Handling missing values in `passenger_count`"
      ]
    },
    {
      "cell_type": "code",
      "execution_count": 36,
      "metadata": {
        "id": "JmNmhr4q8Xys",
        "colab": {
          "base_uri": "https://localhost:8080/"
        },
        "outputId": "7c64cc7b-1236-4646-a5f1-c7d7bcb17dcd"
      },
      "outputs": [
        {
          "output_type": "stream",
          "name": "stdout",
          "text": [
            "Rows with missing passenger_count:\n",
            "    VendorID tpep_pickup_datetime tpep_dropoff_datetime  passenger_count  \\\n",
            "47         1  2023-09-01 00:03:52   2023-09-01 00:30:00              NaN   \n",
            "68         1  2023-09-01 00:09:54   2023-09-01 00:20:11              NaN   \n",
            "92         2  2023-09-01 00:08:37   2023-09-01 00:20:04              NaN   \n",
            "\n",
            "    trip_distance  RatecodeID  PULocationID  DOLocationID  payment_type  \\\n",
            "47           8.00         NaN           138           162             0   \n",
            "68           2.10         NaN           263           142             0   \n",
            "92           2.49         NaN            93            95             0   \n",
            "\n",
            "    fare_amount  extra  mta_tax  tip_amount  tolls_amount  \\\n",
            "47        35.20   7.75      0.5       10.77          6.94   \n",
            "68        11.40   1.00      0.5        0.82          0.00   \n",
            "92         2.02   0.00      0.5        2.70          0.00   \n",
            "\n",
            "    improvement_surcharge  total_amount  congestion_surcharge  airport_fee  \n",
            "47                    1.0         64.66                   NaN          0.0  \n",
            "68                    1.0         17.22                   NaN          0.0  \n",
            "92                    1.0          6.22                   NaN          0.0  \n",
            "\n",
            "Number of rides with 0 passengers: 30707\n",
            "\n",
            "After fixing:\n",
            "Missing values: 0\n",
            "Zero values: 0\n"
          ]
        }
      ],
      "source": [
        "# Display the rows with null values\n",
        "# Impute NaN values in 'passenger_count'\n",
        "# Show rows with missing passenger_count\n",
        "print(\"Rows with missing passenger_count:\")\n",
        "print(df[df['passenger_count'].isnull()].head(3))\n",
        "\n",
        "# Check for zero values\n",
        "zero_passengers = (df['passenger_count'] == 0).sum()\n",
        "print(f\"\\nNumber of rides with 0 passengers: {zero_passengers}\")\n",
        "\n",
        "# Replace zeros and missing with median\n",
        "median_passengers = df['passenger_count'].median()\n",
        "df['passenger_count'] = df['passenger_count'].fillna(median_passengers)\n",
        "df['passenger_count'] = df['passenger_count'].replace(0, median_passengers)\n",
        "\n",
        "# Verify fix\n",
        "print(\"\\nAfter fixing:\")\n",
        "print(f\"Missing values: {df['passenger_count'].isnull().sum()}\")\n",
        "print(f\"Zero values: {(df['passenger_count'] == 0).sum()}\")\n"
      ]
    },
    {
      "cell_type": "markdown",
      "metadata": {
        "id": "hIPCyR6UCw0c"
      },
      "source": [
        "Did you find zeroes in passenger_count? Handle these."
      ]
    },
    {
      "cell_type": "markdown",
      "metadata": {
        "id": "IUr4fwkjBUTQ"
      },
      "source": [
        "**2.2.3**  <font color = red>[2 marks]</font> <br>\n",
        "Handle missing values in `RatecodeID`"
      ]
    },
    {
      "cell_type": "code",
      "execution_count": 37,
      "metadata": {
        "id": "qEgFxytzBkrB",
        "colab": {
          "base_uri": "https://localhost:8080/"
        },
        "outputId": "4760c2de-8437-477c-e6c6-7efae631b6b2"
      },
      "outputs": [
        {
          "output_type": "stream",
          "name": "stdout",
          "text": [
            "Missing values after fix: 0\n",
            "Value counts:\n",
            "RatecodeID\n",
            "1.0     1879107\n",
            "2.0       76121\n",
            "99.0      11350\n",
            "5.0       10985\n",
            "3.0        6481\n",
            "4.0        3919\n",
            "6.0           2\n",
            "Name: count, dtype: int64\n"
          ]
        }
      ],
      "source": [
        "# Fix missing values in 'RatecodeID'\n",
        "# Check most common valid RatecodeID value (excluding NaN)\n",
        "valid_codes = [1, 2, 3, 4, 5, 6]\n",
        "common_code = df[df['RatecodeID'].isin(valid_codes)]['RatecodeID'].mode()[0]\n",
        "\n",
        "# Replace missing RatecodeID with most common valid code\n",
        "df['RatecodeID'] = df['RatecodeID'].fillna(common_code)\n",
        "\n",
        "# Verify fix\n",
        "print(\"Missing values after fix:\", df['RatecodeID'].isna().sum())\n",
        "print(\"Value counts:\")\n",
        "print(df['RatecodeID'].value_counts(dropna=False))"
      ]
    },
    {
      "cell_type": "code",
      "source": [
        "df.info()"
      ],
      "metadata": {
        "colab": {
          "base_uri": "https://localhost:8080/"
        },
        "id": "JSdHPzI5Ofsk",
        "outputId": "1614c2a9-2331-4d82-dc3b-897f771f6736"
      },
      "execution_count": 38,
      "outputs": [
        {
          "output_type": "stream",
          "name": "stdout",
          "text": [
            "<class 'pandas.core.frame.DataFrame'>\n",
            "RangeIndex: 1987965 entries, 0 to 1987964\n",
            "Data columns (total 18 columns):\n",
            " #   Column                 Dtype         \n",
            "---  ------                 -----         \n",
            " 0   VendorID               int64         \n",
            " 1   tpep_pickup_datetime   datetime64[us]\n",
            " 2   tpep_dropoff_datetime  datetime64[us]\n",
            " 3   passenger_count        float64       \n",
            " 4   trip_distance          float64       \n",
            " 5   RatecodeID             float64       \n",
            " 6   PULocationID           int64         \n",
            " 7   DOLocationID           int64         \n",
            " 8   payment_type           int64         \n",
            " 9   fare_amount            float64       \n",
            " 10  extra                  float64       \n",
            " 11  mta_tax                float64       \n",
            " 12  tip_amount             float64       \n",
            " 13  tolls_amount           float64       \n",
            " 14  improvement_surcharge  float64       \n",
            " 15  total_amount           float64       \n",
            " 16  congestion_surcharge   float64       \n",
            " 17  airport_fee            float64       \n",
            "dtypes: datetime64[us](2), float64(12), int64(4)\n",
            "memory usage: 273.0 MB\n"
          ]
        }
      ]
    },
    {
      "cell_type": "markdown",
      "metadata": {
        "id": "0TjHXzuODCUW"
      },
      "source": [
        "**2.2.4**  <font color = red>[3 marks]</font> <br>\n",
        "Impute NaN in `congestion_surcharge`"
      ]
    },
    {
      "cell_type": "code",
      "execution_count": 39,
      "metadata": {
        "id": "HqnabUGC3xOA",
        "colab": {
          "base_uri": "https://localhost:8080/"
        },
        "outputId": "286d7a52-2c67-4ca2-e9da-5b5f84d22ddb"
      },
      "outputs": [
        {
          "output_type": "stream",
          "name": "stdout",
          "text": [
            "Remaining missing values:\n",
            "VendorID                 0\n",
            "tpep_pickup_datetime     0\n",
            "tpep_dropoff_datetime    0\n",
            "passenger_count          0\n",
            "trip_distance            0\n",
            "RatecodeID               0\n",
            "PULocationID             0\n",
            "DOLocationID             0\n",
            "payment_type             0\n",
            "fare_amount              0\n",
            "extra                    0\n",
            "mta_tax                  0\n",
            "tip_amount               0\n",
            "tolls_amount             0\n",
            "improvement_surcharge    0\n",
            "total_amount             0\n",
            "congestion_surcharge     0\n",
            "airport_fee              0\n",
            "dtype: int64\n",
            "\n",
            "After final fix:\n",
            "VendorID                 0\n",
            "tpep_pickup_datetime     0\n",
            "tpep_dropoff_datetime    0\n",
            "passenger_count          0\n",
            "trip_distance            0\n",
            "RatecodeID               0\n",
            "PULocationID             0\n",
            "DOLocationID             0\n",
            "payment_type             0\n",
            "fare_amount              0\n",
            "extra                    0\n",
            "mta_tax                  0\n",
            "tip_amount               0\n",
            "tolls_amount             0\n",
            "improvement_surcharge    0\n",
            "total_amount             0\n",
            "congestion_surcharge     0\n",
            "airport_fee              0\n",
            "dtype: int64\n"
          ]
        }
      ],
      "source": [
        "# handle null values in congestion_surcharge\n",
        "# Fix congestion_surcharge NaN values\n",
        "common_congestion = df['congestion_surcharge'].mode()[0]\n",
        "df['congestion_surcharge'] = df['congestion_surcharge'].fillna(common_congestion)\n",
        "\n",
        "# Check other columns for missing values\n",
        "print(\"Remaining missing values:\")\n",
        "print(df.isnull().sum())\n",
        "\n",
        "# Fill any remaining NaNs with 0 (for numeric columns)\n",
        "df = df.fillna(0)\n",
        "\n",
        "# Final check\n",
        "print(\"\\nAfter final fix:\")\n",
        "print(df.isnull().sum())\n",
        "\n"
      ]
    },
    {
      "cell_type": "markdown",
      "metadata": {
        "id": "4FZEdgAgUbPl"
      },
      "source": [
        "Are there missing values in other columns? Did you find NaN values in some other set of columns? Handle those missing values below."
      ]
    },
    {
      "cell_type": "code",
      "execution_count": 40,
      "metadata": {
        "id": "iDLpyqCRXa3K",
        "colab": {
          "base_uri": "https://localhost:8080/"
        },
        "outputId": "78f8f10a-e99d-47de-8f19-982891a86326"
      },
      "outputs": [
        {
          "output_type": "stream",
          "name": "stdout",
          "text": [
            "Final missing values after all fixes:\n",
            "VendorID                 0\n",
            "tpep_pickup_datetime     0\n",
            "tpep_dropoff_datetime    0\n",
            "passenger_count          0\n",
            "trip_distance            0\n",
            "RatecodeID               0\n",
            "PULocationID             0\n",
            "DOLocationID             0\n",
            "payment_type             0\n",
            "fare_amount              0\n",
            "extra                    0\n",
            "mta_tax                  0\n",
            "tip_amount               0\n",
            "tolls_amount             0\n",
            "improvement_surcharge    0\n",
            "total_amount             0\n",
            "congestion_surcharge     0\n",
            "airport_fee              0\n",
            "dtype: int64\n"
          ]
        }
      ],
      "source": [
        "# Handle any remaining missing values\n",
        "\n",
        "# Fill any remaining NaNs with 0 (if they exist)\n",
        "df = df.fillna(0)\n",
        "\n",
        "# Final check\n",
        "print(\"Final missing values after all fixes:\")\n",
        "print(df.isnull().sum())"
      ]
    },
    {
      "cell_type": "code",
      "source": [
        "df.head(50)"
      ],
      "metadata": {
        "colab": {
          "base_uri": "https://localhost:8080/",
          "height": 1000
        },
        "id": "QXapx2JbUSFZ",
        "outputId": "2fbc6a6d-ac22-4792-85f9-f3b82882898a"
      },
      "execution_count": 41,
      "outputs": [
        {
          "output_type": "execute_result",
          "data": {
            "text/plain": [
              "    VendorID tpep_pickup_datetime tpep_dropoff_datetime  passenger_count  \\\n",
              "0          2  2023-08-31 23:59:43   2023-09-01 00:15:59              1.0   \n",
              "1          2  2023-09-01 00:19:34   2023-09-01 00:36:07              1.0   \n",
              "2          2  2023-09-01 00:06:52   2023-09-01 00:17:07              1.0   \n",
              "3          2  2023-09-01 00:22:22   2023-09-01 00:31:33              1.0   \n",
              "4          2  2023-09-01 00:10:46   2023-09-01 00:15:41              3.0   \n",
              "5          1  2023-09-01 00:42:01   2023-09-01 00:44:56              1.0   \n",
              "6          1  2023-09-01 00:31:22   2023-09-01 00:47:53              2.0   \n",
              "7          2  2023-09-01 00:53:31   2023-09-01 01:02:49              1.0   \n",
              "8          2  2023-09-01 00:15:39   2023-09-01 00:45:31              1.0   \n",
              "9          2  2023-09-01 00:23:11   2023-09-01 00:32:21              1.0   \n",
              "10         1  2023-09-01 00:01:04   2023-09-01 00:18:36              1.0   \n",
              "11         2  2023-09-01 00:53:25   2023-09-01 00:57:19              2.0   \n",
              "12         2  2023-09-01 00:06:21   2023-09-01 00:21:35              1.0   \n",
              "13         2  2023-09-01 00:25:52   2023-09-01 00:33:36              1.0   \n",
              "14         2  2023-09-01 00:40:28   2023-09-01 00:44:13              1.0   \n",
              "15         2  2023-09-01 00:34:39   2023-09-01 00:44:37              1.0   \n",
              "16         2  2023-09-01 00:36:06   2023-09-01 00:40:39              1.0   \n",
              "17         2  2023-09-01 00:48:36   2023-09-01 00:53:07              1.0   \n",
              "18         2  2023-09-01 00:04:56   2023-09-01 00:20:16              1.0   \n",
              "19         1  2023-09-01 00:35:48   2023-09-01 00:45:34              1.0   \n",
              "20         1  2023-09-01 00:38:59   2023-09-01 00:49:19              3.0   \n",
              "21         1  2023-09-01 00:55:03   2023-09-01 01:12:51              2.0   \n",
              "22         2  2023-09-01 00:16:56   2023-09-01 00:25:39              1.0   \n",
              "23         2  2023-09-01 00:44:18   2023-09-01 00:54:51              6.0   \n",
              "24         2  2023-09-01 00:29:54   2023-09-01 00:39:22              2.0   \n",
              "25         1  2023-09-01 00:03:46   2023-09-01 00:23:15              1.0   \n",
              "26         2  2023-09-01 00:56:48   2023-09-01 01:08:48              1.0   \n",
              "27         2  2023-09-01 00:05:54   2023-09-01 00:22:54              2.0   \n",
              "28         2  2023-09-01 00:13:30   2023-09-01 00:33:17              1.0   \n",
              "29         2  2023-09-01 00:42:27   2023-09-01 00:57:56              1.0   \n",
              "30         2  2023-09-01 00:40:57   2023-09-01 01:01:54              1.0   \n",
              "31         2  2023-09-01 00:40:28   2023-09-01 00:53:42              1.0   \n",
              "32         2  2023-09-01 00:24:23   2023-09-01 00:28:11              1.0   \n",
              "33         1  2023-09-01 00:26:45   2023-09-01 00:32:18              3.0   \n",
              "34         2  2023-09-01 00:46:35   2023-09-01 01:24:36              2.0   \n",
              "35         2  2023-09-01 00:54:54   2023-09-01 01:08:52              1.0   \n",
              "36         2  2023-09-01 00:50:31   2023-09-01 01:08:27              1.0   \n",
              "37         2  2023-09-01 00:05:14   2023-09-01 00:37:32              2.0   \n",
              "38         2  2023-09-01 00:35:07   2023-09-01 00:51:15              1.0   \n",
              "39         2  2023-09-01 00:55:07   2023-09-01 01:09:25              1.0   \n",
              "40         2  2023-09-01 00:32:52   2023-09-01 00:42:55              1.0   \n",
              "41         1  2023-09-01 00:17:05   2023-09-01 00:23:05              1.0   \n",
              "42         2  2023-09-01 00:17:30   2023-09-01 00:37:31              1.0   \n",
              "43         2  2023-09-01 00:35:45   2023-09-01 00:37:39              1.0   \n",
              "44         2  2023-09-01 00:52:55   2023-09-01 00:59:40              4.0   \n",
              "45         2  2023-09-01 00:51:37   2023-09-01 00:54:20              1.0   \n",
              "46         2  2023-09-01 00:03:53   2023-09-01 00:16:51              1.0   \n",
              "47         1  2023-09-01 00:03:52   2023-09-01 00:30:00              1.0   \n",
              "48         1  2023-09-01 00:53:18   2023-09-01 01:02:29              1.0   \n",
              "49         2  2023-09-01 00:41:34   2023-09-01 00:56:23              1.0   \n",
              "\n",
              "    trip_distance  RatecodeID  PULocationID  DOLocationID  payment_type  \\\n",
              "0            3.16         1.0            48           262             1   \n",
              "1            5.42         1.0           230            42             2   \n",
              "2            1.26         1.0           100           163             2   \n",
              "3            3.12         1.0            79           107             1   \n",
              "4            0.79         1.0           164           170             1   \n",
              "5            0.50         1.0           113            79             1   \n",
              "6            2.40         1.0            43            90             1   \n",
              "7            1.24         1.0           100           186             1   \n",
              "8            7.50         1.0           100            25             1   \n",
              "9            1.44         1.0           234           230             1   \n",
              "10           3.90         1.0           140             7             1   \n",
              "11           0.27         1.0           100           230             2   \n",
              "12           3.15         1.0           148            80             1   \n",
              "13           1.29         1.0           163           229             2   \n",
              "14           1.18         1.0           263           141             1   \n",
              "15           1.86         1.0           158           148             1   \n",
              "16           1.64         1.0            48           239             1   \n",
              "17           0.68         1.0           264           264             2   \n",
              "18           2.22         1.0           164            79             1   \n",
              "19           2.50         1.0            87           234             2   \n",
              "20           3.60         1.0           263            79             2   \n",
              "21           3.60         1.0            79           261             1   \n",
              "22           1.33         1.0            79           107             2   \n",
              "23           1.98         1.0            50           164             1   \n",
              "24           1.10         1.0           161            50             1   \n",
              "25           1.80         1.0           186           234             1   \n",
              "26           3.83         1.0            79           263             1   \n",
              "27           3.19         1.0           158           232             1   \n",
              "28           2.41         1.0           164           148             1   \n",
              "29           4.52         1.0            79           236             1   \n",
              "30           4.64         1.0           230           148             1   \n",
              "31           2.31         1.0           230           140             1   \n",
              "32           0.82         1.0           163           230             2   \n",
              "33           0.90         1.0           148           211             1   \n",
              "34          18.13         2.0           132           143             1   \n",
              "35           3.08         1.0           229           246             1   \n",
              "36           3.34         1.0            90           143             1   \n",
              "37          10.09         1.0           138            48             2   \n",
              "38           3.59         1.0           234           140             1   \n",
              "39           6.41         1.0           141            87             1   \n",
              "40           1.51         1.0            48           246             1   \n",
              "41           1.00         1.0            79           107             1   \n",
              "42           2.74         1.0           158           163             1   \n",
              "43           0.77         1.0            90           186             1   \n",
              "44           0.89         1.0           100           163             1   \n",
              "45           0.95         1.0           141           162             1   \n",
              "46           3.48         1.0           141           151             1   \n",
              "47           8.00         1.0           138           162             0   \n",
              "48           2.30         1.0           161           143             1   \n",
              "49           2.53         1.0           114            48             1   \n",
              "\n",
              "    fare_amount  extra  mta_tax  tip_amount  tolls_amount  \\\n",
              "0          17.7   1.00      0.5        4.54          0.00   \n",
              "1          23.3   1.00      0.5        0.00          0.00   \n",
              "2          10.7   1.00      0.5        0.00          0.00   \n",
              "3          14.2   1.00      0.5        3.84          0.00   \n",
              "4           6.5   1.00      0.5        1.15          0.00   \n",
              "5           5.1   3.50      0.5        2.00          0.00   \n",
              "6          16.3   3.50      0.5        4.25          0.00   \n",
              "7          10.0   1.00      0.5        3.00          0.00   \n",
              "8          38.0   1.00      0.5        5.30          0.00   \n",
              "9          10.7   1.00      0.5        1.57          0.00   \n",
              "10         20.5   3.50      0.5        6.35          0.00   \n",
              "11          5.1   1.00      0.5        0.00          0.00   \n",
              "12         18.4   1.00      0.5        4.00          0.00   \n",
              "13          9.3   1.00      0.5        0.00          0.00   \n",
              "14          7.2   1.00      0.5        2.44          0.00   \n",
              "15         11.4   1.00      0.5        3.28          0.00   \n",
              "16          8.6   1.00      0.5        2.50          3.00   \n",
              "17          6.5   1.00      0.5        0.00          0.00   \n",
              "18         15.6   1.00      0.5        6.18          0.00   \n",
              "19         13.5   3.50      0.5        0.00          0.00   \n",
              "20         15.6   3.50      0.5        0.00          0.00   \n",
              "21         18.4   3.50      0.5        4.65          0.00   \n",
              "22         10.7   1.00      0.5        0.00          0.00   \n",
              "23         12.8   1.00      0.5        3.56          0.00   \n",
              "24         10.0   1.00      0.5        3.00          0.00   \n",
              "25         17.7   3.50      0.5        4.50          0.00   \n",
              "26         17.0   1.00      0.5        3.30          0.00   \n",
              "27         18.4   1.00      0.5        4.68          0.00   \n",
              "28         19.1   1.00      0.5        5.00          0.00   \n",
              "29         19.8   1.00      0.5        4.96          0.00   \n",
              "30         24.7   1.00      0.5        5.94          0.00   \n",
              "31         14.9   1.00      0.5        3.98          0.00   \n",
              "32          6.5   1.00      0.5        0.00          0.00   \n",
              "33          7.9   3.50      0.5        2.00          0.00   \n",
              "34         70.0   0.00      0.5        1.00          0.00   \n",
              "35         16.3   1.00      0.5        5.33          0.00   \n",
              "36         19.1   1.00      0.5        1.75          0.00   \n",
              "37         45.7   6.00      0.5        0.00          0.00   \n",
              "38         19.1   1.00      0.5        3.62          0.00   \n",
              "39         26.8   1.00      0.5        6.36          0.00   \n",
              "40         11.4   1.00      0.5        1.00          0.00   \n",
              "41          7.9   3.50      0.5        3.25          0.00   \n",
              "42         19.1   1.00      0.5        6.03          0.00   \n",
              "43          5.1   1.00      0.5        2.02          0.00   \n",
              "44          7.9   1.00      0.5        2.58          0.00   \n",
              "45          5.8   1.00      0.5        2.16          0.00   \n",
              "46         17.7   1.00      0.5        6.81          0.00   \n",
              "47         35.2   7.75      0.5       10.77          6.94   \n",
              "48         12.8   3.50      0.5        3.55          0.00   \n",
              "49         15.6   1.00      0.5        4.12          0.00   \n",
              "\n",
              "    improvement_surcharge  total_amount  congestion_surcharge  airport_fee  \n",
              "0                     1.0         27.24                   2.5         0.00  \n",
              "1                     1.0         28.30                   2.5         0.00  \n",
              "2                     1.0         15.70                   2.5         0.00  \n",
              "3                     1.0         23.04                   2.5         0.00  \n",
              "4                     1.0         12.65                   2.5         0.00  \n",
              "5                     1.0         12.10                   2.5         0.00  \n",
              "6                     1.0         25.55                   2.5         0.00  \n",
              "7                     1.0         18.00                   2.5         0.00  \n",
              "8                     1.0         48.30                   2.5         0.00  \n",
              "9                     1.0         17.27                   2.5         0.00  \n",
              "10                    1.0         31.85                   2.5         0.00  \n",
              "11                    1.0         10.10                   2.5         0.00  \n",
              "12                    1.0         27.40                   2.5         0.00  \n",
              "13                    1.0         14.30                   2.5         0.00  \n",
              "14                    1.0         14.64                   2.5         0.00  \n",
              "15                    1.0         19.68                   2.5         0.00  \n",
              "16                    1.0         19.10                   2.5         0.00  \n",
              "17                    1.0         11.50                   2.5         0.00  \n",
              "18                    1.0         26.78                   2.5         0.00  \n",
              "19                    1.0         18.50                   2.5         0.00  \n",
              "20                    1.0         20.60                   2.5         0.00  \n",
              "21                    1.0         28.05                   2.5         0.00  \n",
              "22                    1.0         15.70                   2.5         0.00  \n",
              "23                    1.0         21.36                   2.5         0.00  \n",
              "24                    1.0         18.00                   2.5         0.00  \n",
              "25                    1.0         27.20                   2.5         0.00  \n",
              "26                    1.0         25.30                   2.5         0.00  \n",
              "27                    1.0         28.08                   2.5         0.00  \n",
              "28                    1.0         29.10                   2.5         0.00  \n",
              "29                    1.0         29.76                   2.5         0.00  \n",
              "30                    1.0         35.64                   2.5         0.00  \n",
              "31                    1.0         23.88                   2.5         0.00  \n",
              "32                    1.0         11.50                   2.5         0.00  \n",
              "33                    1.0         14.90                   2.5         0.00  \n",
              "34                    1.0         76.75                   2.5         1.75  \n",
              "35                    1.0         26.63                   2.5         0.00  \n",
              "36                    1.0         25.85                   2.5         0.00  \n",
              "37                    1.0         57.45                   2.5         1.75  \n",
              "38                    1.0         27.72                   2.5         0.00  \n",
              "39                    1.0         38.16                   2.5         0.00  \n",
              "40                    1.0         17.40                   2.5         0.00  \n",
              "41                    1.0         16.15                   2.5         0.00  \n",
              "42                    1.0         30.13                   2.5         0.00  \n",
              "43                    1.0         12.12                   2.5         0.00  \n",
              "44                    1.0         15.48                   2.5         0.00  \n",
              "45                    1.0         12.96                   2.5         0.00  \n",
              "46                    1.0         29.51                   2.5         0.00  \n",
              "47                    1.0         64.66                   2.5         0.00  \n",
              "48                    1.0         21.35                   2.5         0.00  \n",
              "49                    1.0         24.72                   2.5         0.00  "
            ],
            "text/html": [
              "\n",
              "  <div id=\"df-c53a4e2a-d17e-4167-ade9-c0c6264c6a3f\" class=\"colab-df-container\">\n",
              "    <div>\n",
              "<style scoped>\n",
              "    .dataframe tbody tr th:only-of-type {\n",
              "        vertical-align: middle;\n",
              "    }\n",
              "\n",
              "    .dataframe tbody tr th {\n",
              "        vertical-align: top;\n",
              "    }\n",
              "\n",
              "    .dataframe thead th {\n",
              "        text-align: right;\n",
              "    }\n",
              "</style>\n",
              "<table border=\"1\" class=\"dataframe\">\n",
              "  <thead>\n",
              "    <tr style=\"text-align: right;\">\n",
              "      <th></th>\n",
              "      <th>VendorID</th>\n",
              "      <th>tpep_pickup_datetime</th>\n",
              "      <th>tpep_dropoff_datetime</th>\n",
              "      <th>passenger_count</th>\n",
              "      <th>trip_distance</th>\n",
              "      <th>RatecodeID</th>\n",
              "      <th>PULocationID</th>\n",
              "      <th>DOLocationID</th>\n",
              "      <th>payment_type</th>\n",
              "      <th>fare_amount</th>\n",
              "      <th>extra</th>\n",
              "      <th>mta_tax</th>\n",
              "      <th>tip_amount</th>\n",
              "      <th>tolls_amount</th>\n",
              "      <th>improvement_surcharge</th>\n",
              "      <th>total_amount</th>\n",
              "      <th>congestion_surcharge</th>\n",
              "      <th>airport_fee</th>\n",
              "    </tr>\n",
              "  </thead>\n",
              "  <tbody>\n",
              "    <tr>\n",
              "      <th>0</th>\n",
              "      <td>2</td>\n",
              "      <td>2023-08-31 23:59:43</td>\n",
              "      <td>2023-09-01 00:15:59</td>\n",
              "      <td>1.0</td>\n",
              "      <td>3.16</td>\n",
              "      <td>1.0</td>\n",
              "      <td>48</td>\n",
              "      <td>262</td>\n",
              "      <td>1</td>\n",
              "      <td>17.7</td>\n",
              "      <td>1.00</td>\n",
              "      <td>0.5</td>\n",
              "      <td>4.54</td>\n",
              "      <td>0.00</td>\n",
              "      <td>1.0</td>\n",
              "      <td>27.24</td>\n",
              "      <td>2.5</td>\n",
              "      <td>0.00</td>\n",
              "    </tr>\n",
              "    <tr>\n",
              "      <th>1</th>\n",
              "      <td>2</td>\n",
              "      <td>2023-09-01 00:19:34</td>\n",
              "      <td>2023-09-01 00:36:07</td>\n",
              "      <td>1.0</td>\n",
              "      <td>5.42</td>\n",
              "      <td>1.0</td>\n",
              "      <td>230</td>\n",
              "      <td>42</td>\n",
              "      <td>2</td>\n",
              "      <td>23.3</td>\n",
              "      <td>1.00</td>\n",
              "      <td>0.5</td>\n",
              "      <td>0.00</td>\n",
              "      <td>0.00</td>\n",
              "      <td>1.0</td>\n",
              "      <td>28.30</td>\n",
              "      <td>2.5</td>\n",
              "      <td>0.00</td>\n",
              "    </tr>\n",
              "    <tr>\n",
              "      <th>2</th>\n",
              "      <td>2</td>\n",
              "      <td>2023-09-01 00:06:52</td>\n",
              "      <td>2023-09-01 00:17:07</td>\n",
              "      <td>1.0</td>\n",
              "      <td>1.26</td>\n",
              "      <td>1.0</td>\n",
              "      <td>100</td>\n",
              "      <td>163</td>\n",
              "      <td>2</td>\n",
              "      <td>10.7</td>\n",
              "      <td>1.00</td>\n",
              "      <td>0.5</td>\n",
              "      <td>0.00</td>\n",
              "      <td>0.00</td>\n",
              "      <td>1.0</td>\n",
              "      <td>15.70</td>\n",
              "      <td>2.5</td>\n",
              "      <td>0.00</td>\n",
              "    </tr>\n",
              "    <tr>\n",
              "      <th>3</th>\n",
              "      <td>2</td>\n",
              "      <td>2023-09-01 00:22:22</td>\n",
              "      <td>2023-09-01 00:31:33</td>\n",
              "      <td>1.0</td>\n",
              "      <td>3.12</td>\n",
              "      <td>1.0</td>\n",
              "      <td>79</td>\n",
              "      <td>107</td>\n",
              "      <td>1</td>\n",
              "      <td>14.2</td>\n",
              "      <td>1.00</td>\n",
              "      <td>0.5</td>\n",
              "      <td>3.84</td>\n",
              "      <td>0.00</td>\n",
              "      <td>1.0</td>\n",
              "      <td>23.04</td>\n",
              "      <td>2.5</td>\n",
              "      <td>0.00</td>\n",
              "    </tr>\n",
              "    <tr>\n",
              "      <th>4</th>\n",
              "      <td>2</td>\n",
              "      <td>2023-09-01 00:10:46</td>\n",
              "      <td>2023-09-01 00:15:41</td>\n",
              "      <td>3.0</td>\n",
              "      <td>0.79</td>\n",
              "      <td>1.0</td>\n",
              "      <td>164</td>\n",
              "      <td>170</td>\n",
              "      <td>1</td>\n",
              "      <td>6.5</td>\n",
              "      <td>1.00</td>\n",
              "      <td>0.5</td>\n",
              "      <td>1.15</td>\n",
              "      <td>0.00</td>\n",
              "      <td>1.0</td>\n",
              "      <td>12.65</td>\n",
              "      <td>2.5</td>\n",
              "      <td>0.00</td>\n",
              "    </tr>\n",
              "    <tr>\n",
              "      <th>5</th>\n",
              "      <td>1</td>\n",
              "      <td>2023-09-01 00:42:01</td>\n",
              "      <td>2023-09-01 00:44:56</td>\n",
              "      <td>1.0</td>\n",
              "      <td>0.50</td>\n",
              "      <td>1.0</td>\n",
              "      <td>113</td>\n",
              "      <td>79</td>\n",
              "      <td>1</td>\n",
              "      <td>5.1</td>\n",
              "      <td>3.50</td>\n",
              "      <td>0.5</td>\n",
              "      <td>2.00</td>\n",
              "      <td>0.00</td>\n",
              "      <td>1.0</td>\n",
              "      <td>12.10</td>\n",
              "      <td>2.5</td>\n",
              "      <td>0.00</td>\n",
              "    </tr>\n",
              "    <tr>\n",
              "      <th>6</th>\n",
              "      <td>1</td>\n",
              "      <td>2023-09-01 00:31:22</td>\n",
              "      <td>2023-09-01 00:47:53</td>\n",
              "      <td>2.0</td>\n",
              "      <td>2.40</td>\n",
              "      <td>1.0</td>\n",
              "      <td>43</td>\n",
              "      <td>90</td>\n",
              "      <td>1</td>\n",
              "      <td>16.3</td>\n",
              "      <td>3.50</td>\n",
              "      <td>0.5</td>\n",
              "      <td>4.25</td>\n",
              "      <td>0.00</td>\n",
              "      <td>1.0</td>\n",
              "      <td>25.55</td>\n",
              "      <td>2.5</td>\n",
              "      <td>0.00</td>\n",
              "    </tr>\n",
              "    <tr>\n",
              "      <th>7</th>\n",
              "      <td>2</td>\n",
              "      <td>2023-09-01 00:53:31</td>\n",
              "      <td>2023-09-01 01:02:49</td>\n",
              "      <td>1.0</td>\n",
              "      <td>1.24</td>\n",
              "      <td>1.0</td>\n",
              "      <td>100</td>\n",
              "      <td>186</td>\n",
              "      <td>1</td>\n",
              "      <td>10.0</td>\n",
              "      <td>1.00</td>\n",
              "      <td>0.5</td>\n",
              "      <td>3.00</td>\n",
              "      <td>0.00</td>\n",
              "      <td>1.0</td>\n",
              "      <td>18.00</td>\n",
              "      <td>2.5</td>\n",
              "      <td>0.00</td>\n",
              "    </tr>\n",
              "    <tr>\n",
              "      <th>8</th>\n",
              "      <td>2</td>\n",
              "      <td>2023-09-01 00:15:39</td>\n",
              "      <td>2023-09-01 00:45:31</td>\n",
              "      <td>1.0</td>\n",
              "      <td>7.50</td>\n",
              "      <td>1.0</td>\n",
              "      <td>100</td>\n",
              "      <td>25</td>\n",
              "      <td>1</td>\n",
              "      <td>38.0</td>\n",
              "      <td>1.00</td>\n",
              "      <td>0.5</td>\n",
              "      <td>5.30</td>\n",
              "      <td>0.00</td>\n",
              "      <td>1.0</td>\n",
              "      <td>48.30</td>\n",
              "      <td>2.5</td>\n",
              "      <td>0.00</td>\n",
              "    </tr>\n",
              "    <tr>\n",
              "      <th>9</th>\n",
              "      <td>2</td>\n",
              "      <td>2023-09-01 00:23:11</td>\n",
              "      <td>2023-09-01 00:32:21</td>\n",
              "      <td>1.0</td>\n",
              "      <td>1.44</td>\n",
              "      <td>1.0</td>\n",
              "      <td>234</td>\n",
              "      <td>230</td>\n",
              "      <td>1</td>\n",
              "      <td>10.7</td>\n",
              "      <td>1.00</td>\n",
              "      <td>0.5</td>\n",
              "      <td>1.57</td>\n",
              "      <td>0.00</td>\n",
              "      <td>1.0</td>\n",
              "      <td>17.27</td>\n",
              "      <td>2.5</td>\n",
              "      <td>0.00</td>\n",
              "    </tr>\n",
              "    <tr>\n",
              "      <th>10</th>\n",
              "      <td>1</td>\n",
              "      <td>2023-09-01 00:01:04</td>\n",
              "      <td>2023-09-01 00:18:36</td>\n",
              "      <td>1.0</td>\n",
              "      <td>3.90</td>\n",
              "      <td>1.0</td>\n",
              "      <td>140</td>\n",
              "      <td>7</td>\n",
              "      <td>1</td>\n",
              "      <td>20.5</td>\n",
              "      <td>3.50</td>\n",
              "      <td>0.5</td>\n",
              "      <td>6.35</td>\n",
              "      <td>0.00</td>\n",
              "      <td>1.0</td>\n",
              "      <td>31.85</td>\n",
              "      <td>2.5</td>\n",
              "      <td>0.00</td>\n",
              "    </tr>\n",
              "    <tr>\n",
              "      <th>11</th>\n",
              "      <td>2</td>\n",
              "      <td>2023-09-01 00:53:25</td>\n",
              "      <td>2023-09-01 00:57:19</td>\n",
              "      <td>2.0</td>\n",
              "      <td>0.27</td>\n",
              "      <td>1.0</td>\n",
              "      <td>100</td>\n",
              "      <td>230</td>\n",
              "      <td>2</td>\n",
              "      <td>5.1</td>\n",
              "      <td>1.00</td>\n",
              "      <td>0.5</td>\n",
              "      <td>0.00</td>\n",
              "      <td>0.00</td>\n",
              "      <td>1.0</td>\n",
              "      <td>10.10</td>\n",
              "      <td>2.5</td>\n",
              "      <td>0.00</td>\n",
              "    </tr>\n",
              "    <tr>\n",
              "      <th>12</th>\n",
              "      <td>2</td>\n",
              "      <td>2023-09-01 00:06:21</td>\n",
              "      <td>2023-09-01 00:21:35</td>\n",
              "      <td>1.0</td>\n",
              "      <td>3.15</td>\n",
              "      <td>1.0</td>\n",
              "      <td>148</td>\n",
              "      <td>80</td>\n",
              "      <td>1</td>\n",
              "      <td>18.4</td>\n",
              "      <td>1.00</td>\n",
              "      <td>0.5</td>\n",
              "      <td>4.00</td>\n",
              "      <td>0.00</td>\n",
              "      <td>1.0</td>\n",
              "      <td>27.40</td>\n",
              "      <td>2.5</td>\n",
              "      <td>0.00</td>\n",
              "    </tr>\n",
              "    <tr>\n",
              "      <th>13</th>\n",
              "      <td>2</td>\n",
              "      <td>2023-09-01 00:25:52</td>\n",
              "      <td>2023-09-01 00:33:36</td>\n",
              "      <td>1.0</td>\n",
              "      <td>1.29</td>\n",
              "      <td>1.0</td>\n",
              "      <td>163</td>\n",
              "      <td>229</td>\n",
              "      <td>2</td>\n",
              "      <td>9.3</td>\n",
              "      <td>1.00</td>\n",
              "      <td>0.5</td>\n",
              "      <td>0.00</td>\n",
              "      <td>0.00</td>\n",
              "      <td>1.0</td>\n",
              "      <td>14.30</td>\n",
              "      <td>2.5</td>\n",
              "      <td>0.00</td>\n",
              "    </tr>\n",
              "    <tr>\n",
              "      <th>14</th>\n",
              "      <td>2</td>\n",
              "      <td>2023-09-01 00:40:28</td>\n",
              "      <td>2023-09-01 00:44:13</td>\n",
              "      <td>1.0</td>\n",
              "      <td>1.18</td>\n",
              "      <td>1.0</td>\n",
              "      <td>263</td>\n",
              "      <td>141</td>\n",
              "      <td>1</td>\n",
              "      <td>7.2</td>\n",
              "      <td>1.00</td>\n",
              "      <td>0.5</td>\n",
              "      <td>2.44</td>\n",
              "      <td>0.00</td>\n",
              "      <td>1.0</td>\n",
              "      <td>14.64</td>\n",
              "      <td>2.5</td>\n",
              "      <td>0.00</td>\n",
              "    </tr>\n",
              "    <tr>\n",
              "      <th>15</th>\n",
              "      <td>2</td>\n",
              "      <td>2023-09-01 00:34:39</td>\n",
              "      <td>2023-09-01 00:44:37</td>\n",
              "      <td>1.0</td>\n",
              "      <td>1.86</td>\n",
              "      <td>1.0</td>\n",
              "      <td>158</td>\n",
              "      <td>148</td>\n",
              "      <td>1</td>\n",
              "      <td>11.4</td>\n",
              "      <td>1.00</td>\n",
              "      <td>0.5</td>\n",
              "      <td>3.28</td>\n",
              "      <td>0.00</td>\n",
              "      <td>1.0</td>\n",
              "      <td>19.68</td>\n",
              "      <td>2.5</td>\n",
              "      <td>0.00</td>\n",
              "    </tr>\n",
              "    <tr>\n",
              "      <th>16</th>\n",
              "      <td>2</td>\n",
              "      <td>2023-09-01 00:36:06</td>\n",
              "      <td>2023-09-01 00:40:39</td>\n",
              "      <td>1.0</td>\n",
              "      <td>1.64</td>\n",
              "      <td>1.0</td>\n",
              "      <td>48</td>\n",
              "      <td>239</td>\n",
              "      <td>1</td>\n",
              "      <td>8.6</td>\n",
              "      <td>1.00</td>\n",
              "      <td>0.5</td>\n",
              "      <td>2.50</td>\n",
              "      <td>3.00</td>\n",
              "      <td>1.0</td>\n",
              "      <td>19.10</td>\n",
              "      <td>2.5</td>\n",
              "      <td>0.00</td>\n",
              "    </tr>\n",
              "    <tr>\n",
              "      <th>17</th>\n",
              "      <td>2</td>\n",
              "      <td>2023-09-01 00:48:36</td>\n",
              "      <td>2023-09-01 00:53:07</td>\n",
              "      <td>1.0</td>\n",
              "      <td>0.68</td>\n",
              "      <td>1.0</td>\n",
              "      <td>264</td>\n",
              "      <td>264</td>\n",
              "      <td>2</td>\n",
              "      <td>6.5</td>\n",
              "      <td>1.00</td>\n",
              "      <td>0.5</td>\n",
              "      <td>0.00</td>\n",
              "      <td>0.00</td>\n",
              "      <td>1.0</td>\n",
              "      <td>11.50</td>\n",
              "      <td>2.5</td>\n",
              "      <td>0.00</td>\n",
              "    </tr>\n",
              "    <tr>\n",
              "      <th>18</th>\n",
              "      <td>2</td>\n",
              "      <td>2023-09-01 00:04:56</td>\n",
              "      <td>2023-09-01 00:20:16</td>\n",
              "      <td>1.0</td>\n",
              "      <td>2.22</td>\n",
              "      <td>1.0</td>\n",
              "      <td>164</td>\n",
              "      <td>79</td>\n",
              "      <td>1</td>\n",
              "      <td>15.6</td>\n",
              "      <td>1.00</td>\n",
              "      <td>0.5</td>\n",
              "      <td>6.18</td>\n",
              "      <td>0.00</td>\n",
              "      <td>1.0</td>\n",
              "      <td>26.78</td>\n",
              "      <td>2.5</td>\n",
              "      <td>0.00</td>\n",
              "    </tr>\n",
              "    <tr>\n",
              "      <th>19</th>\n",
              "      <td>1</td>\n",
              "      <td>2023-09-01 00:35:48</td>\n",
              "      <td>2023-09-01 00:45:34</td>\n",
              "      <td>1.0</td>\n",
              "      <td>2.50</td>\n",
              "      <td>1.0</td>\n",
              "      <td>87</td>\n",
              "      <td>234</td>\n",
              "      <td>2</td>\n",
              "      <td>13.5</td>\n",
              "      <td>3.50</td>\n",
              "      <td>0.5</td>\n",
              "      <td>0.00</td>\n",
              "      <td>0.00</td>\n",
              "      <td>1.0</td>\n",
              "      <td>18.50</td>\n",
              "      <td>2.5</td>\n",
              "      <td>0.00</td>\n",
              "    </tr>\n",
              "    <tr>\n",
              "      <th>20</th>\n",
              "      <td>1</td>\n",
              "      <td>2023-09-01 00:38:59</td>\n",
              "      <td>2023-09-01 00:49:19</td>\n",
              "      <td>3.0</td>\n",
              "      <td>3.60</td>\n",
              "      <td>1.0</td>\n",
              "      <td>263</td>\n",
              "      <td>79</td>\n",
              "      <td>2</td>\n",
              "      <td>15.6</td>\n",
              "      <td>3.50</td>\n",
              "      <td>0.5</td>\n",
              "      <td>0.00</td>\n",
              "      <td>0.00</td>\n",
              "      <td>1.0</td>\n",
              "      <td>20.60</td>\n",
              "      <td>2.5</td>\n",
              "      <td>0.00</td>\n",
              "    </tr>\n",
              "    <tr>\n",
              "      <th>21</th>\n",
              "      <td>1</td>\n",
              "      <td>2023-09-01 00:55:03</td>\n",
              "      <td>2023-09-01 01:12:51</td>\n",
              "      <td>2.0</td>\n",
              "      <td>3.60</td>\n",
              "      <td>1.0</td>\n",
              "      <td>79</td>\n",
              "      <td>261</td>\n",
              "      <td>1</td>\n",
              "      <td>18.4</td>\n",
              "      <td>3.50</td>\n",
              "      <td>0.5</td>\n",
              "      <td>4.65</td>\n",
              "      <td>0.00</td>\n",
              "      <td>1.0</td>\n",
              "      <td>28.05</td>\n",
              "      <td>2.5</td>\n",
              "      <td>0.00</td>\n",
              "    </tr>\n",
              "    <tr>\n",
              "      <th>22</th>\n",
              "      <td>2</td>\n",
              "      <td>2023-09-01 00:16:56</td>\n",
              "      <td>2023-09-01 00:25:39</td>\n",
              "      <td>1.0</td>\n",
              "      <td>1.33</td>\n",
              "      <td>1.0</td>\n",
              "      <td>79</td>\n",
              "      <td>107</td>\n",
              "      <td>2</td>\n",
              "      <td>10.7</td>\n",
              "      <td>1.00</td>\n",
              "      <td>0.5</td>\n",
              "      <td>0.00</td>\n",
              "      <td>0.00</td>\n",
              "      <td>1.0</td>\n",
              "      <td>15.70</td>\n",
              "      <td>2.5</td>\n",
              "      <td>0.00</td>\n",
              "    </tr>\n",
              "    <tr>\n",
              "      <th>23</th>\n",
              "      <td>2</td>\n",
              "      <td>2023-09-01 00:44:18</td>\n",
              "      <td>2023-09-01 00:54:51</td>\n",
              "      <td>6.0</td>\n",
              "      <td>1.98</td>\n",
              "      <td>1.0</td>\n",
              "      <td>50</td>\n",
              "      <td>164</td>\n",
              "      <td>1</td>\n",
              "      <td>12.8</td>\n",
              "      <td>1.00</td>\n",
              "      <td>0.5</td>\n",
              "      <td>3.56</td>\n",
              "      <td>0.00</td>\n",
              "      <td>1.0</td>\n",
              "      <td>21.36</td>\n",
              "      <td>2.5</td>\n",
              "      <td>0.00</td>\n",
              "    </tr>\n",
              "    <tr>\n",
              "      <th>24</th>\n",
              "      <td>2</td>\n",
              "      <td>2023-09-01 00:29:54</td>\n",
              "      <td>2023-09-01 00:39:22</td>\n",
              "      <td>2.0</td>\n",
              "      <td>1.10</td>\n",
              "      <td>1.0</td>\n",
              "      <td>161</td>\n",
              "      <td>50</td>\n",
              "      <td>1</td>\n",
              "      <td>10.0</td>\n",
              "      <td>1.00</td>\n",
              "      <td>0.5</td>\n",
              "      <td>3.00</td>\n",
              "      <td>0.00</td>\n",
              "      <td>1.0</td>\n",
              "      <td>18.00</td>\n",
              "      <td>2.5</td>\n",
              "      <td>0.00</td>\n",
              "    </tr>\n",
              "    <tr>\n",
              "      <th>25</th>\n",
              "      <td>1</td>\n",
              "      <td>2023-09-01 00:03:46</td>\n",
              "      <td>2023-09-01 00:23:15</td>\n",
              "      <td>1.0</td>\n",
              "      <td>1.80</td>\n",
              "      <td>1.0</td>\n",
              "      <td>186</td>\n",
              "      <td>234</td>\n",
              "      <td>1</td>\n",
              "      <td>17.7</td>\n",
              "      <td>3.50</td>\n",
              "      <td>0.5</td>\n",
              "      <td>4.50</td>\n",
              "      <td>0.00</td>\n",
              "      <td>1.0</td>\n",
              "      <td>27.20</td>\n",
              "      <td>2.5</td>\n",
              "      <td>0.00</td>\n",
              "    </tr>\n",
              "    <tr>\n",
              "      <th>26</th>\n",
              "      <td>2</td>\n",
              "      <td>2023-09-01 00:56:48</td>\n",
              "      <td>2023-09-01 01:08:48</td>\n",
              "      <td>1.0</td>\n",
              "      <td>3.83</td>\n",
              "      <td>1.0</td>\n",
              "      <td>79</td>\n",
              "      <td>263</td>\n",
              "      <td>1</td>\n",
              "      <td>17.0</td>\n",
              "      <td>1.00</td>\n",
              "      <td>0.5</td>\n",
              "      <td>3.30</td>\n",
              "      <td>0.00</td>\n",
              "      <td>1.0</td>\n",
              "      <td>25.30</td>\n",
              "      <td>2.5</td>\n",
              "      <td>0.00</td>\n",
              "    </tr>\n",
              "    <tr>\n",
              "      <th>27</th>\n",
              "      <td>2</td>\n",
              "      <td>2023-09-01 00:05:54</td>\n",
              "      <td>2023-09-01 00:22:54</td>\n",
              "      <td>2.0</td>\n",
              "      <td>3.19</td>\n",
              "      <td>1.0</td>\n",
              "      <td>158</td>\n",
              "      <td>232</td>\n",
              "      <td>1</td>\n",
              "      <td>18.4</td>\n",
              "      <td>1.00</td>\n",
              "      <td>0.5</td>\n",
              "      <td>4.68</td>\n",
              "      <td>0.00</td>\n",
              "      <td>1.0</td>\n",
              "      <td>28.08</td>\n",
              "      <td>2.5</td>\n",
              "      <td>0.00</td>\n",
              "    </tr>\n",
              "    <tr>\n",
              "      <th>28</th>\n",
              "      <td>2</td>\n",
              "      <td>2023-09-01 00:13:30</td>\n",
              "      <td>2023-09-01 00:33:17</td>\n",
              "      <td>1.0</td>\n",
              "      <td>2.41</td>\n",
              "      <td>1.0</td>\n",
              "      <td>164</td>\n",
              "      <td>148</td>\n",
              "      <td>1</td>\n",
              "      <td>19.1</td>\n",
              "      <td>1.00</td>\n",
              "      <td>0.5</td>\n",
              "      <td>5.00</td>\n",
              "      <td>0.00</td>\n",
              "      <td>1.0</td>\n",
              "      <td>29.10</td>\n",
              "      <td>2.5</td>\n",
              "      <td>0.00</td>\n",
              "    </tr>\n",
              "    <tr>\n",
              "      <th>29</th>\n",
              "      <td>2</td>\n",
              "      <td>2023-09-01 00:42:27</td>\n",
              "      <td>2023-09-01 00:57:56</td>\n",
              "      <td>1.0</td>\n",
              "      <td>4.52</td>\n",
              "      <td>1.0</td>\n",
              "      <td>79</td>\n",
              "      <td>236</td>\n",
              "      <td>1</td>\n",
              "      <td>19.8</td>\n",
              "      <td>1.00</td>\n",
              "      <td>0.5</td>\n",
              "      <td>4.96</td>\n",
              "      <td>0.00</td>\n",
              "      <td>1.0</td>\n",
              "      <td>29.76</td>\n",
              "      <td>2.5</td>\n",
              "      <td>0.00</td>\n",
              "    </tr>\n",
              "    <tr>\n",
              "      <th>30</th>\n",
              "      <td>2</td>\n",
              "      <td>2023-09-01 00:40:57</td>\n",
              "      <td>2023-09-01 01:01:54</td>\n",
              "      <td>1.0</td>\n",
              "      <td>4.64</td>\n",
              "      <td>1.0</td>\n",
              "      <td>230</td>\n",
              "      <td>148</td>\n",
              "      <td>1</td>\n",
              "      <td>24.7</td>\n",
              "      <td>1.00</td>\n",
              "      <td>0.5</td>\n",
              "      <td>5.94</td>\n",
              "      <td>0.00</td>\n",
              "      <td>1.0</td>\n",
              "      <td>35.64</td>\n",
              "      <td>2.5</td>\n",
              "      <td>0.00</td>\n",
              "    </tr>\n",
              "    <tr>\n",
              "      <th>31</th>\n",
              "      <td>2</td>\n",
              "      <td>2023-09-01 00:40:28</td>\n",
              "      <td>2023-09-01 00:53:42</td>\n",
              "      <td>1.0</td>\n",
              "      <td>2.31</td>\n",
              "      <td>1.0</td>\n",
              "      <td>230</td>\n",
              "      <td>140</td>\n",
              "      <td>1</td>\n",
              "      <td>14.9</td>\n",
              "      <td>1.00</td>\n",
              "      <td>0.5</td>\n",
              "      <td>3.98</td>\n",
              "      <td>0.00</td>\n",
              "      <td>1.0</td>\n",
              "      <td>23.88</td>\n",
              "      <td>2.5</td>\n",
              "      <td>0.00</td>\n",
              "    </tr>\n",
              "    <tr>\n",
              "      <th>32</th>\n",
              "      <td>2</td>\n",
              "      <td>2023-09-01 00:24:23</td>\n",
              "      <td>2023-09-01 00:28:11</td>\n",
              "      <td>1.0</td>\n",
              "      <td>0.82</td>\n",
              "      <td>1.0</td>\n",
              "      <td>163</td>\n",
              "      <td>230</td>\n",
              "      <td>2</td>\n",
              "      <td>6.5</td>\n",
              "      <td>1.00</td>\n",
              "      <td>0.5</td>\n",
              "      <td>0.00</td>\n",
              "      <td>0.00</td>\n",
              "      <td>1.0</td>\n",
              "      <td>11.50</td>\n",
              "      <td>2.5</td>\n",
              "      <td>0.00</td>\n",
              "    </tr>\n",
              "    <tr>\n",
              "      <th>33</th>\n",
              "      <td>1</td>\n",
              "      <td>2023-09-01 00:26:45</td>\n",
              "      <td>2023-09-01 00:32:18</td>\n",
              "      <td>3.0</td>\n",
              "      <td>0.90</td>\n",
              "      <td>1.0</td>\n",
              "      <td>148</td>\n",
              "      <td>211</td>\n",
              "      <td>1</td>\n",
              "      <td>7.9</td>\n",
              "      <td>3.50</td>\n",
              "      <td>0.5</td>\n",
              "      <td>2.00</td>\n",
              "      <td>0.00</td>\n",
              "      <td>1.0</td>\n",
              "      <td>14.90</td>\n",
              "      <td>2.5</td>\n",
              "      <td>0.00</td>\n",
              "    </tr>\n",
              "    <tr>\n",
              "      <th>34</th>\n",
              "      <td>2</td>\n",
              "      <td>2023-09-01 00:46:35</td>\n",
              "      <td>2023-09-01 01:24:36</td>\n",
              "      <td>2.0</td>\n",
              "      <td>18.13</td>\n",
              "      <td>2.0</td>\n",
              "      <td>132</td>\n",
              "      <td>143</td>\n",
              "      <td>1</td>\n",
              "      <td>70.0</td>\n",
              "      <td>0.00</td>\n",
              "      <td>0.5</td>\n",
              "      <td>1.00</td>\n",
              "      <td>0.00</td>\n",
              "      <td>1.0</td>\n",
              "      <td>76.75</td>\n",
              "      <td>2.5</td>\n",
              "      <td>1.75</td>\n",
              "    </tr>\n",
              "    <tr>\n",
              "      <th>35</th>\n",
              "      <td>2</td>\n",
              "      <td>2023-09-01 00:54:54</td>\n",
              "      <td>2023-09-01 01:08:52</td>\n",
              "      <td>1.0</td>\n",
              "      <td>3.08</td>\n",
              "      <td>1.0</td>\n",
              "      <td>229</td>\n",
              "      <td>246</td>\n",
              "      <td>1</td>\n",
              "      <td>16.3</td>\n",
              "      <td>1.00</td>\n",
              "      <td>0.5</td>\n",
              "      <td>5.33</td>\n",
              "      <td>0.00</td>\n",
              "      <td>1.0</td>\n",
              "      <td>26.63</td>\n",
              "      <td>2.5</td>\n",
              "      <td>0.00</td>\n",
              "    </tr>\n",
              "    <tr>\n",
              "      <th>36</th>\n",
              "      <td>2</td>\n",
              "      <td>2023-09-01 00:50:31</td>\n",
              "      <td>2023-09-01 01:08:27</td>\n",
              "      <td>1.0</td>\n",
              "      <td>3.34</td>\n",
              "      <td>1.0</td>\n",
              "      <td>90</td>\n",
              "      <td>143</td>\n",
              "      <td>1</td>\n",
              "      <td>19.1</td>\n",
              "      <td>1.00</td>\n",
              "      <td>0.5</td>\n",
              "      <td>1.75</td>\n",
              "      <td>0.00</td>\n",
              "      <td>1.0</td>\n",
              "      <td>25.85</td>\n",
              "      <td>2.5</td>\n",
              "      <td>0.00</td>\n",
              "    </tr>\n",
              "    <tr>\n",
              "      <th>37</th>\n",
              "      <td>2</td>\n",
              "      <td>2023-09-01 00:05:14</td>\n",
              "      <td>2023-09-01 00:37:32</td>\n",
              "      <td>2.0</td>\n",
              "      <td>10.09</td>\n",
              "      <td>1.0</td>\n",
              "      <td>138</td>\n",
              "      <td>48</td>\n",
              "      <td>2</td>\n",
              "      <td>45.7</td>\n",
              "      <td>6.00</td>\n",
              "      <td>0.5</td>\n",
              "      <td>0.00</td>\n",
              "      <td>0.00</td>\n",
              "      <td>1.0</td>\n",
              "      <td>57.45</td>\n",
              "      <td>2.5</td>\n",
              "      <td>1.75</td>\n",
              "    </tr>\n",
              "    <tr>\n",
              "      <th>38</th>\n",
              "      <td>2</td>\n",
              "      <td>2023-09-01 00:35:07</td>\n",
              "      <td>2023-09-01 00:51:15</td>\n",
              "      <td>1.0</td>\n",
              "      <td>3.59</td>\n",
              "      <td>1.0</td>\n",
              "      <td>234</td>\n",
              "      <td>140</td>\n",
              "      <td>1</td>\n",
              "      <td>19.1</td>\n",
              "      <td>1.00</td>\n",
              "      <td>0.5</td>\n",
              "      <td>3.62</td>\n",
              "      <td>0.00</td>\n",
              "      <td>1.0</td>\n",
              "      <td>27.72</td>\n",
              "      <td>2.5</td>\n",
              "      <td>0.00</td>\n",
              "    </tr>\n",
              "    <tr>\n",
              "      <th>39</th>\n",
              "      <td>2</td>\n",
              "      <td>2023-09-01 00:55:07</td>\n",
              "      <td>2023-09-01 01:09:25</td>\n",
              "      <td>1.0</td>\n",
              "      <td>6.41</td>\n",
              "      <td>1.0</td>\n",
              "      <td>141</td>\n",
              "      <td>87</td>\n",
              "      <td>1</td>\n",
              "      <td>26.8</td>\n",
              "      <td>1.00</td>\n",
              "      <td>0.5</td>\n",
              "      <td>6.36</td>\n",
              "      <td>0.00</td>\n",
              "      <td>1.0</td>\n",
              "      <td>38.16</td>\n",
              "      <td>2.5</td>\n",
              "      <td>0.00</td>\n",
              "    </tr>\n",
              "    <tr>\n",
              "      <th>40</th>\n",
              "      <td>2</td>\n",
              "      <td>2023-09-01 00:32:52</td>\n",
              "      <td>2023-09-01 00:42:55</td>\n",
              "      <td>1.0</td>\n",
              "      <td>1.51</td>\n",
              "      <td>1.0</td>\n",
              "      <td>48</td>\n",
              "      <td>246</td>\n",
              "      <td>1</td>\n",
              "      <td>11.4</td>\n",
              "      <td>1.00</td>\n",
              "      <td>0.5</td>\n",
              "      <td>1.00</td>\n",
              "      <td>0.00</td>\n",
              "      <td>1.0</td>\n",
              "      <td>17.40</td>\n",
              "      <td>2.5</td>\n",
              "      <td>0.00</td>\n",
              "    </tr>\n",
              "    <tr>\n",
              "      <th>41</th>\n",
              "      <td>1</td>\n",
              "      <td>2023-09-01 00:17:05</td>\n",
              "      <td>2023-09-01 00:23:05</td>\n",
              "      <td>1.0</td>\n",
              "      <td>1.00</td>\n",
              "      <td>1.0</td>\n",
              "      <td>79</td>\n",
              "      <td>107</td>\n",
              "      <td>1</td>\n",
              "      <td>7.9</td>\n",
              "      <td>3.50</td>\n",
              "      <td>0.5</td>\n",
              "      <td>3.25</td>\n",
              "      <td>0.00</td>\n",
              "      <td>1.0</td>\n",
              "      <td>16.15</td>\n",
              "      <td>2.5</td>\n",
              "      <td>0.00</td>\n",
              "    </tr>\n",
              "    <tr>\n",
              "      <th>42</th>\n",
              "      <td>2</td>\n",
              "      <td>2023-09-01 00:17:30</td>\n",
              "      <td>2023-09-01 00:37:31</td>\n",
              "      <td>1.0</td>\n",
              "      <td>2.74</td>\n",
              "      <td>1.0</td>\n",
              "      <td>158</td>\n",
              "      <td>163</td>\n",
              "      <td>1</td>\n",
              "      <td>19.1</td>\n",
              "      <td>1.00</td>\n",
              "      <td>0.5</td>\n",
              "      <td>6.03</td>\n",
              "      <td>0.00</td>\n",
              "      <td>1.0</td>\n",
              "      <td>30.13</td>\n",
              "      <td>2.5</td>\n",
              "      <td>0.00</td>\n",
              "    </tr>\n",
              "    <tr>\n",
              "      <th>43</th>\n",
              "      <td>2</td>\n",
              "      <td>2023-09-01 00:35:45</td>\n",
              "      <td>2023-09-01 00:37:39</td>\n",
              "      <td>1.0</td>\n",
              "      <td>0.77</td>\n",
              "      <td>1.0</td>\n",
              "      <td>90</td>\n",
              "      <td>186</td>\n",
              "      <td>1</td>\n",
              "      <td>5.1</td>\n",
              "      <td>1.00</td>\n",
              "      <td>0.5</td>\n",
              "      <td>2.02</td>\n",
              "      <td>0.00</td>\n",
              "      <td>1.0</td>\n",
              "      <td>12.12</td>\n",
              "      <td>2.5</td>\n",
              "      <td>0.00</td>\n",
              "    </tr>\n",
              "    <tr>\n",
              "      <th>44</th>\n",
              "      <td>2</td>\n",
              "      <td>2023-09-01 00:52:55</td>\n",
              "      <td>2023-09-01 00:59:40</td>\n",
              "      <td>4.0</td>\n",
              "      <td>0.89</td>\n",
              "      <td>1.0</td>\n",
              "      <td>100</td>\n",
              "      <td>163</td>\n",
              "      <td>1</td>\n",
              "      <td>7.9</td>\n",
              "      <td>1.00</td>\n",
              "      <td>0.5</td>\n",
              "      <td>2.58</td>\n",
              "      <td>0.00</td>\n",
              "      <td>1.0</td>\n",
              "      <td>15.48</td>\n",
              "      <td>2.5</td>\n",
              "      <td>0.00</td>\n",
              "    </tr>\n",
              "    <tr>\n",
              "      <th>45</th>\n",
              "      <td>2</td>\n",
              "      <td>2023-09-01 00:51:37</td>\n",
              "      <td>2023-09-01 00:54:20</td>\n",
              "      <td>1.0</td>\n",
              "      <td>0.95</td>\n",
              "      <td>1.0</td>\n",
              "      <td>141</td>\n",
              "      <td>162</td>\n",
              "      <td>1</td>\n",
              "      <td>5.8</td>\n",
              "      <td>1.00</td>\n",
              "      <td>0.5</td>\n",
              "      <td>2.16</td>\n",
              "      <td>0.00</td>\n",
              "      <td>1.0</td>\n",
              "      <td>12.96</td>\n",
              "      <td>2.5</td>\n",
              "      <td>0.00</td>\n",
              "    </tr>\n",
              "    <tr>\n",
              "      <th>46</th>\n",
              "      <td>2</td>\n",
              "      <td>2023-09-01 00:03:53</td>\n",
              "      <td>2023-09-01 00:16:51</td>\n",
              "      <td>1.0</td>\n",
              "      <td>3.48</td>\n",
              "      <td>1.0</td>\n",
              "      <td>141</td>\n",
              "      <td>151</td>\n",
              "      <td>1</td>\n",
              "      <td>17.7</td>\n",
              "      <td>1.00</td>\n",
              "      <td>0.5</td>\n",
              "      <td>6.81</td>\n",
              "      <td>0.00</td>\n",
              "      <td>1.0</td>\n",
              "      <td>29.51</td>\n",
              "      <td>2.5</td>\n",
              "      <td>0.00</td>\n",
              "    </tr>\n",
              "    <tr>\n",
              "      <th>47</th>\n",
              "      <td>1</td>\n",
              "      <td>2023-09-01 00:03:52</td>\n",
              "      <td>2023-09-01 00:30:00</td>\n",
              "      <td>1.0</td>\n",
              "      <td>8.00</td>\n",
              "      <td>1.0</td>\n",
              "      <td>138</td>\n",
              "      <td>162</td>\n",
              "      <td>0</td>\n",
              "      <td>35.2</td>\n",
              "      <td>7.75</td>\n",
              "      <td>0.5</td>\n",
              "      <td>10.77</td>\n",
              "      <td>6.94</td>\n",
              "      <td>1.0</td>\n",
              "      <td>64.66</td>\n",
              "      <td>2.5</td>\n",
              "      <td>0.00</td>\n",
              "    </tr>\n",
              "    <tr>\n",
              "      <th>48</th>\n",
              "      <td>1</td>\n",
              "      <td>2023-09-01 00:53:18</td>\n",
              "      <td>2023-09-01 01:02:29</td>\n",
              "      <td>1.0</td>\n",
              "      <td>2.30</td>\n",
              "      <td>1.0</td>\n",
              "      <td>161</td>\n",
              "      <td>143</td>\n",
              "      <td>1</td>\n",
              "      <td>12.8</td>\n",
              "      <td>3.50</td>\n",
              "      <td>0.5</td>\n",
              "      <td>3.55</td>\n",
              "      <td>0.00</td>\n",
              "      <td>1.0</td>\n",
              "      <td>21.35</td>\n",
              "      <td>2.5</td>\n",
              "      <td>0.00</td>\n",
              "    </tr>\n",
              "    <tr>\n",
              "      <th>49</th>\n",
              "      <td>2</td>\n",
              "      <td>2023-09-01 00:41:34</td>\n",
              "      <td>2023-09-01 00:56:23</td>\n",
              "      <td>1.0</td>\n",
              "      <td>2.53</td>\n",
              "      <td>1.0</td>\n",
              "      <td>114</td>\n",
              "      <td>48</td>\n",
              "      <td>1</td>\n",
              "      <td>15.6</td>\n",
              "      <td>1.00</td>\n",
              "      <td>0.5</td>\n",
              "      <td>4.12</td>\n",
              "      <td>0.00</td>\n",
              "      <td>1.0</td>\n",
              "      <td>24.72</td>\n",
              "      <td>2.5</td>\n",
              "      <td>0.00</td>\n",
              "    </tr>\n",
              "  </tbody>\n",
              "</table>\n",
              "</div>\n",
              "    <div class=\"colab-df-buttons\">\n",
              "\n",
              "  <div class=\"colab-df-container\">\n",
              "    <button class=\"colab-df-convert\" onclick=\"convertToInteractive('df-c53a4e2a-d17e-4167-ade9-c0c6264c6a3f')\"\n",
              "            title=\"Convert this dataframe to an interactive table.\"\n",
              "            style=\"display:none;\">\n",
              "\n",
              "  <svg xmlns=\"http://www.w3.org/2000/svg\" height=\"24px\" viewBox=\"0 -960 960 960\">\n",
              "    <path d=\"M120-120v-720h720v720H120Zm60-500h600v-160H180v160Zm220 220h160v-160H400v160Zm0 220h160v-160H400v160ZM180-400h160v-160H180v160Zm440 0h160v-160H620v160ZM180-180h160v-160H180v160Zm440 0h160v-160H620v160Z\"/>\n",
              "  </svg>\n",
              "    </button>\n",
              "\n",
              "  <style>\n",
              "    .colab-df-container {\n",
              "      display:flex;\n",
              "      gap: 12px;\n",
              "    }\n",
              "\n",
              "    .colab-df-convert {\n",
              "      background-color: #E8F0FE;\n",
              "      border: none;\n",
              "      border-radius: 50%;\n",
              "      cursor: pointer;\n",
              "      display: none;\n",
              "      fill: #1967D2;\n",
              "      height: 32px;\n",
              "      padding: 0 0 0 0;\n",
              "      width: 32px;\n",
              "    }\n",
              "\n",
              "    .colab-df-convert:hover {\n",
              "      background-color: #E2EBFA;\n",
              "      box-shadow: 0px 1px 2px rgba(60, 64, 67, 0.3), 0px 1px 3px 1px rgba(60, 64, 67, 0.15);\n",
              "      fill: #174EA6;\n",
              "    }\n",
              "\n",
              "    .colab-df-buttons div {\n",
              "      margin-bottom: 4px;\n",
              "    }\n",
              "\n",
              "    [theme=dark] .colab-df-convert {\n",
              "      background-color: #3B4455;\n",
              "      fill: #D2E3FC;\n",
              "    }\n",
              "\n",
              "    [theme=dark] .colab-df-convert:hover {\n",
              "      background-color: #434B5C;\n",
              "      box-shadow: 0px 1px 3px 1px rgba(0, 0, 0, 0.15);\n",
              "      filter: drop-shadow(0px 1px 2px rgba(0, 0, 0, 0.3));\n",
              "      fill: #FFFFFF;\n",
              "    }\n",
              "  </style>\n",
              "\n",
              "    <script>\n",
              "      const buttonEl =\n",
              "        document.querySelector('#df-c53a4e2a-d17e-4167-ade9-c0c6264c6a3f button.colab-df-convert');\n",
              "      buttonEl.style.display =\n",
              "        google.colab.kernel.accessAllowed ? 'block' : 'none';\n",
              "\n",
              "      async function convertToInteractive(key) {\n",
              "        const element = document.querySelector('#df-c53a4e2a-d17e-4167-ade9-c0c6264c6a3f');\n",
              "        const dataTable =\n",
              "          await google.colab.kernel.invokeFunction('convertToInteractive',\n",
              "                                                    [key], {});\n",
              "        if (!dataTable) return;\n",
              "\n",
              "        const docLinkHtml = 'Like what you see? Visit the ' +\n",
              "          '<a target=\"_blank\" href=https://colab.research.google.com/notebooks/data_table.ipynb>data table notebook</a>'\n",
              "          + ' to learn more about interactive tables.';\n",
              "        element.innerHTML = '';\n",
              "        dataTable['output_type'] = 'display_data';\n",
              "        await google.colab.output.renderOutput(dataTable, element);\n",
              "        const docLink = document.createElement('div');\n",
              "        docLink.innerHTML = docLinkHtml;\n",
              "        element.appendChild(docLink);\n",
              "      }\n",
              "    </script>\n",
              "  </div>\n",
              "\n",
              "\n",
              "    <div id=\"df-26f07a0e-b575-4141-b20b-bfef6d16140a\">\n",
              "      <button class=\"colab-df-quickchart\" onclick=\"quickchart('df-26f07a0e-b575-4141-b20b-bfef6d16140a')\"\n",
              "                title=\"Suggest charts\"\n",
              "                style=\"display:none;\">\n",
              "\n",
              "<svg xmlns=\"http://www.w3.org/2000/svg\" height=\"24px\"viewBox=\"0 0 24 24\"\n",
              "     width=\"24px\">\n",
              "    <g>\n",
              "        <path d=\"M19 3H5c-1.1 0-2 .9-2 2v14c0 1.1.9 2 2 2h14c1.1 0 2-.9 2-2V5c0-1.1-.9-2-2-2zM9 17H7v-7h2v7zm4 0h-2V7h2v10zm4 0h-2v-4h2v4z\"/>\n",
              "    </g>\n",
              "</svg>\n",
              "      </button>\n",
              "\n",
              "<style>\n",
              "  .colab-df-quickchart {\n",
              "      --bg-color: #E8F0FE;\n",
              "      --fill-color: #1967D2;\n",
              "      --hover-bg-color: #E2EBFA;\n",
              "      --hover-fill-color: #174EA6;\n",
              "      --disabled-fill-color: #AAA;\n",
              "      --disabled-bg-color: #DDD;\n",
              "  }\n",
              "\n",
              "  [theme=dark] .colab-df-quickchart {\n",
              "      --bg-color: #3B4455;\n",
              "      --fill-color: #D2E3FC;\n",
              "      --hover-bg-color: #434B5C;\n",
              "      --hover-fill-color: #FFFFFF;\n",
              "      --disabled-bg-color: #3B4455;\n",
              "      --disabled-fill-color: #666;\n",
              "  }\n",
              "\n",
              "  .colab-df-quickchart {\n",
              "    background-color: var(--bg-color);\n",
              "    border: none;\n",
              "    border-radius: 50%;\n",
              "    cursor: pointer;\n",
              "    display: none;\n",
              "    fill: var(--fill-color);\n",
              "    height: 32px;\n",
              "    padding: 0;\n",
              "    width: 32px;\n",
              "  }\n",
              "\n",
              "  .colab-df-quickchart:hover {\n",
              "    background-color: var(--hover-bg-color);\n",
              "    box-shadow: 0 1px 2px rgba(60, 64, 67, 0.3), 0 1px 3px 1px rgba(60, 64, 67, 0.15);\n",
              "    fill: var(--button-hover-fill-color);\n",
              "  }\n",
              "\n",
              "  .colab-df-quickchart-complete:disabled,\n",
              "  .colab-df-quickchart-complete:disabled:hover {\n",
              "    background-color: var(--disabled-bg-color);\n",
              "    fill: var(--disabled-fill-color);\n",
              "    box-shadow: none;\n",
              "  }\n",
              "\n",
              "  .colab-df-spinner {\n",
              "    border: 2px solid var(--fill-color);\n",
              "    border-color: transparent;\n",
              "    border-bottom-color: var(--fill-color);\n",
              "    animation:\n",
              "      spin 1s steps(1) infinite;\n",
              "  }\n",
              "\n",
              "  @keyframes spin {\n",
              "    0% {\n",
              "      border-color: transparent;\n",
              "      border-bottom-color: var(--fill-color);\n",
              "      border-left-color: var(--fill-color);\n",
              "    }\n",
              "    20% {\n",
              "      border-color: transparent;\n",
              "      border-left-color: var(--fill-color);\n",
              "      border-top-color: var(--fill-color);\n",
              "    }\n",
              "    30% {\n",
              "      border-color: transparent;\n",
              "      border-left-color: var(--fill-color);\n",
              "      border-top-color: var(--fill-color);\n",
              "      border-right-color: var(--fill-color);\n",
              "    }\n",
              "    40% {\n",
              "      border-color: transparent;\n",
              "      border-right-color: var(--fill-color);\n",
              "      border-top-color: var(--fill-color);\n",
              "    }\n",
              "    60% {\n",
              "      border-color: transparent;\n",
              "      border-right-color: var(--fill-color);\n",
              "    }\n",
              "    80% {\n",
              "      border-color: transparent;\n",
              "      border-right-color: var(--fill-color);\n",
              "      border-bottom-color: var(--fill-color);\n",
              "    }\n",
              "    90% {\n",
              "      border-color: transparent;\n",
              "      border-bottom-color: var(--fill-color);\n",
              "    }\n",
              "  }\n",
              "</style>\n",
              "\n",
              "      <script>\n",
              "        async function quickchart(key) {\n",
              "          const quickchartButtonEl =\n",
              "            document.querySelector('#' + key + ' button');\n",
              "          quickchartButtonEl.disabled = true;  // To prevent multiple clicks.\n",
              "          quickchartButtonEl.classList.add('colab-df-spinner');\n",
              "          try {\n",
              "            const charts = await google.colab.kernel.invokeFunction(\n",
              "                'suggestCharts', [key], {});\n",
              "          } catch (error) {\n",
              "            console.error('Error during call to suggestCharts:', error);\n",
              "          }\n",
              "          quickchartButtonEl.classList.remove('colab-df-spinner');\n",
              "          quickchartButtonEl.classList.add('colab-df-quickchart-complete');\n",
              "        }\n",
              "        (() => {\n",
              "          let quickchartButtonEl =\n",
              "            document.querySelector('#df-26f07a0e-b575-4141-b20b-bfef6d16140a button');\n",
              "          quickchartButtonEl.style.display =\n",
              "            google.colab.kernel.accessAllowed ? 'block' : 'none';\n",
              "        })();\n",
              "      </script>\n",
              "    </div>\n",
              "\n",
              "    </div>\n",
              "  </div>\n"
            ],
            "application/vnd.google.colaboratory.intrinsic+json": {
              "type": "dataframe",
              "variable_name": "df"
            }
          },
          "metadata": {},
          "execution_count": 41
        }
      ]
    },
    {
      "cell_type": "code",
      "source": [
        "df.describe()"
      ],
      "metadata": {
        "colab": {
          "base_uri": "https://localhost:8080/",
          "height": 338
        },
        "id": "ucDYCmIXUhc3",
        "outputId": "ce58c6a2-2957-4456-d11b-16f0843f65e9"
      },
      "execution_count": 42,
      "outputs": [
        {
          "output_type": "execute_result",
          "data": {
            "text/plain": [
              "           VendorID        tpep_pickup_datetime       tpep_dropoff_datetime  \\\n",
              "count  1.987965e+06                     1987965                     1987965   \n",
              "mean   1.736626e+00  2023-07-03 03:36:50.253417  2023-07-03 03:54:18.227649   \n",
              "min    1.000000e+00         2022-12-31 23:59:40         2023-01-01 00:08:13   \n",
              "25%    1.000000e+00         2023-04-02 10:54:25         2023-04-02 11:08:56   \n",
              "50%    2.000000e+00         2023-06-28 11:11:07         2023-06-28 11:28:37   \n",
              "75%    2.000000e+00         2023-10-07 02:14:21         2023-10-07 02:26:19   \n",
              "max    6.000000e+00         2023-12-31 23:59:33         2024-01-01 20:50:55   \n",
              "std    4.453814e-01                         NaN                         NaN   \n",
              "\n",
              "       passenger_count  trip_distance    RatecodeID  PULocationID  \\\n",
              "count     1.987965e+06   1.987965e+06  1.987965e+06  1.987965e+06   \n",
              "mean      1.373040e+00   4.103850e+00  1.632350e+00  1.652356e+02   \n",
              "min       1.000000e+00   0.000000e+00  1.000000e+00  1.000000e+00   \n",
              "25%       1.000000e+00   1.050000e+00  1.000000e+00  1.320000e+02   \n",
              "50%       1.000000e+00   1.800000e+00  1.000000e+00  1.620000e+02   \n",
              "75%       1.000000e+00   3.400000e+00  1.000000e+00  2.340000e+02   \n",
              "max       9.000000e+00   1.852505e+05  9.900000e+01  2.650000e+02   \n",
              "std       8.659402e-01   2.264159e+02  7.388527e+00  6.405925e+01   \n",
              "\n",
              "       DOLocationID  payment_type   fare_amount         extra       mta_tax  \\\n",
              "count  1.987965e+06  1.987965e+06  1.987965e+06  1.987965e+06  1.987965e+06   \n",
              "mean   1.639176e+02  1.163692e+00  1.990027e+01  1.578844e+00  4.952358e-01   \n",
              "min    1.000000e+00  0.000000e+00  0.000000e+00  0.000000e+00  0.000000e+00   \n",
              "25%    1.130000e+02  1.000000e+00  9.300000e+00  0.000000e+00  5.000000e-01   \n",
              "50%    1.620000e+02  1.000000e+00  1.350000e+01  1.000000e+00  5.000000e-01   \n",
              "75%    2.340000e+02  1.000000e+00  2.229000e+01  2.500000e+00  5.000000e-01   \n",
              "max    2.650000e+02  4.000000e+00  1.916800e+03  1.425000e+01  4.000000e+00   \n",
              "std    6.991292e+01  5.084195e-01  1.834321e+01  1.828276e+00  4.901134e-02   \n",
              "\n",
              "         tip_amount  tolls_amount  improvement_surcharge  total_amount  \\\n",
              "count  1.987965e+06  1.987965e+06           1.987965e+06  1.987965e+06   \n",
              "mean   3.553836e+00  5.984370e-01           9.990504e-01  2.897297e+01   \n",
              "min    0.000000e+00  0.000000e+00           0.000000e+00  0.000000e+00   \n",
              "25%    1.000000e+00  0.000000e+00           1.000000e+00  1.596000e+01   \n",
              "50%    2.850000e+00  0.000000e+00           1.000000e+00  2.103000e+01   \n",
              "75%    4.420000e+00  0.000000e+00           1.000000e+00  3.100000e+01   \n",
              "max    4.129400e+02  9.700000e+01           1.000000e+00  1.939550e+03   \n",
              "std    4.096438e+00  2.183937e+00           2.857002e-02  2.291289e+01   \n",
              "\n",
              "       congestion_surcharge   airport_fee  \n",
              "count          1.987965e+06  1.987965e+06  \n",
              "mean           2.315387e+00  1.382939e-01  \n",
              "min            0.000000e+00  0.000000e+00  \n",
              "25%            2.500000e+00  0.000000e+00  \n",
              "50%            2.500000e+00  0.000000e+00  \n",
              "75%            2.500000e+00  0.000000e+00  \n",
              "max            2.500000e+00  1.750000e+00  \n",
              "std            6.537965e-01  4.579390e-01  "
            ],
            "text/html": [
              "\n",
              "  <div id=\"df-b50397ba-e5d3-40a2-abe9-96c395f47e26\" class=\"colab-df-container\">\n",
              "    <div>\n",
              "<style scoped>\n",
              "    .dataframe tbody tr th:only-of-type {\n",
              "        vertical-align: middle;\n",
              "    }\n",
              "\n",
              "    .dataframe tbody tr th {\n",
              "        vertical-align: top;\n",
              "    }\n",
              "\n",
              "    .dataframe thead th {\n",
              "        text-align: right;\n",
              "    }\n",
              "</style>\n",
              "<table border=\"1\" class=\"dataframe\">\n",
              "  <thead>\n",
              "    <tr style=\"text-align: right;\">\n",
              "      <th></th>\n",
              "      <th>VendorID</th>\n",
              "      <th>tpep_pickup_datetime</th>\n",
              "      <th>tpep_dropoff_datetime</th>\n",
              "      <th>passenger_count</th>\n",
              "      <th>trip_distance</th>\n",
              "      <th>RatecodeID</th>\n",
              "      <th>PULocationID</th>\n",
              "      <th>DOLocationID</th>\n",
              "      <th>payment_type</th>\n",
              "      <th>fare_amount</th>\n",
              "      <th>extra</th>\n",
              "      <th>mta_tax</th>\n",
              "      <th>tip_amount</th>\n",
              "      <th>tolls_amount</th>\n",
              "      <th>improvement_surcharge</th>\n",
              "      <th>total_amount</th>\n",
              "      <th>congestion_surcharge</th>\n",
              "      <th>airport_fee</th>\n",
              "    </tr>\n",
              "  </thead>\n",
              "  <tbody>\n",
              "    <tr>\n",
              "      <th>count</th>\n",
              "      <td>1.987965e+06</td>\n",
              "      <td>1987965</td>\n",
              "      <td>1987965</td>\n",
              "      <td>1.987965e+06</td>\n",
              "      <td>1.987965e+06</td>\n",
              "      <td>1.987965e+06</td>\n",
              "      <td>1.987965e+06</td>\n",
              "      <td>1.987965e+06</td>\n",
              "      <td>1.987965e+06</td>\n",
              "      <td>1.987965e+06</td>\n",
              "      <td>1.987965e+06</td>\n",
              "      <td>1.987965e+06</td>\n",
              "      <td>1.987965e+06</td>\n",
              "      <td>1.987965e+06</td>\n",
              "      <td>1.987965e+06</td>\n",
              "      <td>1.987965e+06</td>\n",
              "      <td>1.987965e+06</td>\n",
              "      <td>1.987965e+06</td>\n",
              "    </tr>\n",
              "    <tr>\n",
              "      <th>mean</th>\n",
              "      <td>1.736626e+00</td>\n",
              "      <td>2023-07-03 03:36:50.253417</td>\n",
              "      <td>2023-07-03 03:54:18.227649</td>\n",
              "      <td>1.373040e+00</td>\n",
              "      <td>4.103850e+00</td>\n",
              "      <td>1.632350e+00</td>\n",
              "      <td>1.652356e+02</td>\n",
              "      <td>1.639176e+02</td>\n",
              "      <td>1.163692e+00</td>\n",
              "      <td>1.990027e+01</td>\n",
              "      <td>1.578844e+00</td>\n",
              "      <td>4.952358e-01</td>\n",
              "      <td>3.553836e+00</td>\n",
              "      <td>5.984370e-01</td>\n",
              "      <td>9.990504e-01</td>\n",
              "      <td>2.897297e+01</td>\n",
              "      <td>2.315387e+00</td>\n",
              "      <td>1.382939e-01</td>\n",
              "    </tr>\n",
              "    <tr>\n",
              "      <th>min</th>\n",
              "      <td>1.000000e+00</td>\n",
              "      <td>2022-12-31 23:59:40</td>\n",
              "      <td>2023-01-01 00:08:13</td>\n",
              "      <td>1.000000e+00</td>\n",
              "      <td>0.000000e+00</td>\n",
              "      <td>1.000000e+00</td>\n",
              "      <td>1.000000e+00</td>\n",
              "      <td>1.000000e+00</td>\n",
              "      <td>0.000000e+00</td>\n",
              "      <td>0.000000e+00</td>\n",
              "      <td>0.000000e+00</td>\n",
              "      <td>0.000000e+00</td>\n",
              "      <td>0.000000e+00</td>\n",
              "      <td>0.000000e+00</td>\n",
              "      <td>0.000000e+00</td>\n",
              "      <td>0.000000e+00</td>\n",
              "      <td>0.000000e+00</td>\n",
              "      <td>0.000000e+00</td>\n",
              "    </tr>\n",
              "    <tr>\n",
              "      <th>25%</th>\n",
              "      <td>1.000000e+00</td>\n",
              "      <td>2023-04-02 10:54:25</td>\n",
              "      <td>2023-04-02 11:08:56</td>\n",
              "      <td>1.000000e+00</td>\n",
              "      <td>1.050000e+00</td>\n",
              "      <td>1.000000e+00</td>\n",
              "      <td>1.320000e+02</td>\n",
              "      <td>1.130000e+02</td>\n",
              "      <td>1.000000e+00</td>\n",
              "      <td>9.300000e+00</td>\n",
              "      <td>0.000000e+00</td>\n",
              "      <td>5.000000e-01</td>\n",
              "      <td>1.000000e+00</td>\n",
              "      <td>0.000000e+00</td>\n",
              "      <td>1.000000e+00</td>\n",
              "      <td>1.596000e+01</td>\n",
              "      <td>2.500000e+00</td>\n",
              "      <td>0.000000e+00</td>\n",
              "    </tr>\n",
              "    <tr>\n",
              "      <th>50%</th>\n",
              "      <td>2.000000e+00</td>\n",
              "      <td>2023-06-28 11:11:07</td>\n",
              "      <td>2023-06-28 11:28:37</td>\n",
              "      <td>1.000000e+00</td>\n",
              "      <td>1.800000e+00</td>\n",
              "      <td>1.000000e+00</td>\n",
              "      <td>1.620000e+02</td>\n",
              "      <td>1.620000e+02</td>\n",
              "      <td>1.000000e+00</td>\n",
              "      <td>1.350000e+01</td>\n",
              "      <td>1.000000e+00</td>\n",
              "      <td>5.000000e-01</td>\n",
              "      <td>2.850000e+00</td>\n",
              "      <td>0.000000e+00</td>\n",
              "      <td>1.000000e+00</td>\n",
              "      <td>2.103000e+01</td>\n",
              "      <td>2.500000e+00</td>\n",
              "      <td>0.000000e+00</td>\n",
              "    </tr>\n",
              "    <tr>\n",
              "      <th>75%</th>\n",
              "      <td>2.000000e+00</td>\n",
              "      <td>2023-10-07 02:14:21</td>\n",
              "      <td>2023-10-07 02:26:19</td>\n",
              "      <td>1.000000e+00</td>\n",
              "      <td>3.400000e+00</td>\n",
              "      <td>1.000000e+00</td>\n",
              "      <td>2.340000e+02</td>\n",
              "      <td>2.340000e+02</td>\n",
              "      <td>1.000000e+00</td>\n",
              "      <td>2.229000e+01</td>\n",
              "      <td>2.500000e+00</td>\n",
              "      <td>5.000000e-01</td>\n",
              "      <td>4.420000e+00</td>\n",
              "      <td>0.000000e+00</td>\n",
              "      <td>1.000000e+00</td>\n",
              "      <td>3.100000e+01</td>\n",
              "      <td>2.500000e+00</td>\n",
              "      <td>0.000000e+00</td>\n",
              "    </tr>\n",
              "    <tr>\n",
              "      <th>max</th>\n",
              "      <td>6.000000e+00</td>\n",
              "      <td>2023-12-31 23:59:33</td>\n",
              "      <td>2024-01-01 20:50:55</td>\n",
              "      <td>9.000000e+00</td>\n",
              "      <td>1.852505e+05</td>\n",
              "      <td>9.900000e+01</td>\n",
              "      <td>2.650000e+02</td>\n",
              "      <td>2.650000e+02</td>\n",
              "      <td>4.000000e+00</td>\n",
              "      <td>1.916800e+03</td>\n",
              "      <td>1.425000e+01</td>\n",
              "      <td>4.000000e+00</td>\n",
              "      <td>4.129400e+02</td>\n",
              "      <td>9.700000e+01</td>\n",
              "      <td>1.000000e+00</td>\n",
              "      <td>1.939550e+03</td>\n",
              "      <td>2.500000e+00</td>\n",
              "      <td>1.750000e+00</td>\n",
              "    </tr>\n",
              "    <tr>\n",
              "      <th>std</th>\n",
              "      <td>4.453814e-01</td>\n",
              "      <td>NaN</td>\n",
              "      <td>NaN</td>\n",
              "      <td>8.659402e-01</td>\n",
              "      <td>2.264159e+02</td>\n",
              "      <td>7.388527e+00</td>\n",
              "      <td>6.405925e+01</td>\n",
              "      <td>6.991292e+01</td>\n",
              "      <td>5.084195e-01</td>\n",
              "      <td>1.834321e+01</td>\n",
              "      <td>1.828276e+00</td>\n",
              "      <td>4.901134e-02</td>\n",
              "      <td>4.096438e+00</td>\n",
              "      <td>2.183937e+00</td>\n",
              "      <td>2.857002e-02</td>\n",
              "      <td>2.291289e+01</td>\n",
              "      <td>6.537965e-01</td>\n",
              "      <td>4.579390e-01</td>\n",
              "    </tr>\n",
              "  </tbody>\n",
              "</table>\n",
              "</div>\n",
              "    <div class=\"colab-df-buttons\">\n",
              "\n",
              "  <div class=\"colab-df-container\">\n",
              "    <button class=\"colab-df-convert\" onclick=\"convertToInteractive('df-b50397ba-e5d3-40a2-abe9-96c395f47e26')\"\n",
              "            title=\"Convert this dataframe to an interactive table.\"\n",
              "            style=\"display:none;\">\n",
              "\n",
              "  <svg xmlns=\"http://www.w3.org/2000/svg\" height=\"24px\" viewBox=\"0 -960 960 960\">\n",
              "    <path d=\"M120-120v-720h720v720H120Zm60-500h600v-160H180v160Zm220 220h160v-160H400v160Zm0 220h160v-160H400v160ZM180-400h160v-160H180v160Zm440 0h160v-160H620v160ZM180-180h160v-160H180v160Zm440 0h160v-160H620v160Z\"/>\n",
              "  </svg>\n",
              "    </button>\n",
              "\n",
              "  <style>\n",
              "    .colab-df-container {\n",
              "      display:flex;\n",
              "      gap: 12px;\n",
              "    }\n",
              "\n",
              "    .colab-df-convert {\n",
              "      background-color: #E8F0FE;\n",
              "      border: none;\n",
              "      border-radius: 50%;\n",
              "      cursor: pointer;\n",
              "      display: none;\n",
              "      fill: #1967D2;\n",
              "      height: 32px;\n",
              "      padding: 0 0 0 0;\n",
              "      width: 32px;\n",
              "    }\n",
              "\n",
              "    .colab-df-convert:hover {\n",
              "      background-color: #E2EBFA;\n",
              "      box-shadow: 0px 1px 2px rgba(60, 64, 67, 0.3), 0px 1px 3px 1px rgba(60, 64, 67, 0.15);\n",
              "      fill: #174EA6;\n",
              "    }\n",
              "\n",
              "    .colab-df-buttons div {\n",
              "      margin-bottom: 4px;\n",
              "    }\n",
              "\n",
              "    [theme=dark] .colab-df-convert {\n",
              "      background-color: #3B4455;\n",
              "      fill: #D2E3FC;\n",
              "    }\n",
              "\n",
              "    [theme=dark] .colab-df-convert:hover {\n",
              "      background-color: #434B5C;\n",
              "      box-shadow: 0px 1px 3px 1px rgba(0, 0, 0, 0.15);\n",
              "      filter: drop-shadow(0px 1px 2px rgba(0, 0, 0, 0.3));\n",
              "      fill: #FFFFFF;\n",
              "    }\n",
              "  </style>\n",
              "\n",
              "    <script>\n",
              "      const buttonEl =\n",
              "        document.querySelector('#df-b50397ba-e5d3-40a2-abe9-96c395f47e26 button.colab-df-convert');\n",
              "      buttonEl.style.display =\n",
              "        google.colab.kernel.accessAllowed ? 'block' : 'none';\n",
              "\n",
              "      async function convertToInteractive(key) {\n",
              "        const element = document.querySelector('#df-b50397ba-e5d3-40a2-abe9-96c395f47e26');\n",
              "        const dataTable =\n",
              "          await google.colab.kernel.invokeFunction('convertToInteractive',\n",
              "                                                    [key], {});\n",
              "        if (!dataTable) return;\n",
              "\n",
              "        const docLinkHtml = 'Like what you see? Visit the ' +\n",
              "          '<a target=\"_blank\" href=https://colab.research.google.com/notebooks/data_table.ipynb>data table notebook</a>'\n",
              "          + ' to learn more about interactive tables.';\n",
              "        element.innerHTML = '';\n",
              "        dataTable['output_type'] = 'display_data';\n",
              "        await google.colab.output.renderOutput(dataTable, element);\n",
              "        const docLink = document.createElement('div');\n",
              "        docLink.innerHTML = docLinkHtml;\n",
              "        element.appendChild(docLink);\n",
              "      }\n",
              "    </script>\n",
              "  </div>\n",
              "\n",
              "\n",
              "    <div id=\"df-da1483b3-2218-41b8-92c0-7f04d9532574\">\n",
              "      <button class=\"colab-df-quickchart\" onclick=\"quickchart('df-da1483b3-2218-41b8-92c0-7f04d9532574')\"\n",
              "                title=\"Suggest charts\"\n",
              "                style=\"display:none;\">\n",
              "\n",
              "<svg xmlns=\"http://www.w3.org/2000/svg\" height=\"24px\"viewBox=\"0 0 24 24\"\n",
              "     width=\"24px\">\n",
              "    <g>\n",
              "        <path d=\"M19 3H5c-1.1 0-2 .9-2 2v14c0 1.1.9 2 2 2h14c1.1 0 2-.9 2-2V5c0-1.1-.9-2-2-2zM9 17H7v-7h2v7zm4 0h-2V7h2v10zm4 0h-2v-4h2v4z\"/>\n",
              "    </g>\n",
              "</svg>\n",
              "      </button>\n",
              "\n",
              "<style>\n",
              "  .colab-df-quickchart {\n",
              "      --bg-color: #E8F0FE;\n",
              "      --fill-color: #1967D2;\n",
              "      --hover-bg-color: #E2EBFA;\n",
              "      --hover-fill-color: #174EA6;\n",
              "      --disabled-fill-color: #AAA;\n",
              "      --disabled-bg-color: #DDD;\n",
              "  }\n",
              "\n",
              "  [theme=dark] .colab-df-quickchart {\n",
              "      --bg-color: #3B4455;\n",
              "      --fill-color: #D2E3FC;\n",
              "      --hover-bg-color: #434B5C;\n",
              "      --hover-fill-color: #FFFFFF;\n",
              "      --disabled-bg-color: #3B4455;\n",
              "      --disabled-fill-color: #666;\n",
              "  }\n",
              "\n",
              "  .colab-df-quickchart {\n",
              "    background-color: var(--bg-color);\n",
              "    border: none;\n",
              "    border-radius: 50%;\n",
              "    cursor: pointer;\n",
              "    display: none;\n",
              "    fill: var(--fill-color);\n",
              "    height: 32px;\n",
              "    padding: 0;\n",
              "    width: 32px;\n",
              "  }\n",
              "\n",
              "  .colab-df-quickchart:hover {\n",
              "    background-color: var(--hover-bg-color);\n",
              "    box-shadow: 0 1px 2px rgba(60, 64, 67, 0.3), 0 1px 3px 1px rgba(60, 64, 67, 0.15);\n",
              "    fill: var(--button-hover-fill-color);\n",
              "  }\n",
              "\n",
              "  .colab-df-quickchart-complete:disabled,\n",
              "  .colab-df-quickchart-complete:disabled:hover {\n",
              "    background-color: var(--disabled-bg-color);\n",
              "    fill: var(--disabled-fill-color);\n",
              "    box-shadow: none;\n",
              "  }\n",
              "\n",
              "  .colab-df-spinner {\n",
              "    border: 2px solid var(--fill-color);\n",
              "    border-color: transparent;\n",
              "    border-bottom-color: var(--fill-color);\n",
              "    animation:\n",
              "      spin 1s steps(1) infinite;\n",
              "  }\n",
              "\n",
              "  @keyframes spin {\n",
              "    0% {\n",
              "      border-color: transparent;\n",
              "      border-bottom-color: var(--fill-color);\n",
              "      border-left-color: var(--fill-color);\n",
              "    }\n",
              "    20% {\n",
              "      border-color: transparent;\n",
              "      border-left-color: var(--fill-color);\n",
              "      border-top-color: var(--fill-color);\n",
              "    }\n",
              "    30% {\n",
              "      border-color: transparent;\n",
              "      border-left-color: var(--fill-color);\n",
              "      border-top-color: var(--fill-color);\n",
              "      border-right-color: var(--fill-color);\n",
              "    }\n",
              "    40% {\n",
              "      border-color: transparent;\n",
              "      border-right-color: var(--fill-color);\n",
              "      border-top-color: var(--fill-color);\n",
              "    }\n",
              "    60% {\n",
              "      border-color: transparent;\n",
              "      border-right-color: var(--fill-color);\n",
              "    }\n",
              "    80% {\n",
              "      border-color: transparent;\n",
              "      border-right-color: var(--fill-color);\n",
              "      border-bottom-color: var(--fill-color);\n",
              "    }\n",
              "    90% {\n",
              "      border-color: transparent;\n",
              "      border-bottom-color: var(--fill-color);\n",
              "    }\n",
              "  }\n",
              "</style>\n",
              "\n",
              "      <script>\n",
              "        async function quickchart(key) {\n",
              "          const quickchartButtonEl =\n",
              "            document.querySelector('#' + key + ' button');\n",
              "          quickchartButtonEl.disabled = true;  // To prevent multiple clicks.\n",
              "          quickchartButtonEl.classList.add('colab-df-spinner');\n",
              "          try {\n",
              "            const charts = await google.colab.kernel.invokeFunction(\n",
              "                'suggestCharts', [key], {});\n",
              "          } catch (error) {\n",
              "            console.error('Error during call to suggestCharts:', error);\n",
              "          }\n",
              "          quickchartButtonEl.classList.remove('colab-df-spinner');\n",
              "          quickchartButtonEl.classList.add('colab-df-quickchart-complete');\n",
              "        }\n",
              "        (() => {\n",
              "          let quickchartButtonEl =\n",
              "            document.querySelector('#df-da1483b3-2218-41b8-92c0-7f04d9532574 button');\n",
              "          quickchartButtonEl.style.display =\n",
              "            google.colab.kernel.accessAllowed ? 'block' : 'none';\n",
              "        })();\n",
              "      </script>\n",
              "    </div>\n",
              "\n",
              "    </div>\n",
              "  </div>\n"
            ],
            "application/vnd.google.colaboratory.intrinsic+json": {
              "type": "dataframe",
              "summary": "{\n  \"name\": \"df\",\n  \"rows\": 8,\n  \"fields\": [\n    {\n      \"column\": \"VendorID\",\n      \"properties\": {\n        \"dtype\": \"number\",\n        \"std\": 702851.0498333122,\n        \"min\": 0.4453814292369603,\n        \"max\": 1987965.0,\n        \"num_unique_values\": 6,\n        \"samples\": [\n          1987965.0,\n          1.7366256448176904,\n          0.4453814292369603\n        ],\n        \"semantic_type\": \"\",\n        \"description\": \"\"\n      }\n    },\n    {\n      \"column\": \"tpep_pickup_datetime\",\n      \"properties\": {\n        \"dtype\": \"date\",\n        \"min\": \"1970-01-01 00:00:00.001987965\",\n        \"max\": \"2023-12-31 23:59:33\",\n        \"num_unique_values\": 7,\n        \"samples\": [\n          \"1987965\",\n          \"2023-07-03 03:36:50.253417\",\n          \"2023-10-07 02:14:21\"\n        ],\n        \"semantic_type\": \"\",\n        \"description\": \"\"\n      }\n    },\n    {\n      \"column\": \"tpep_dropoff_datetime\",\n      \"properties\": {\n        \"dtype\": \"date\",\n        \"min\": \"1970-01-01 00:00:00.001987965\",\n        \"max\": \"2024-01-01 20:50:55\",\n        \"num_unique_values\": 7,\n        \"samples\": [\n          \"1987965\",\n          \"2023-07-03 03:54:18.227649\",\n          \"2023-10-07 02:26:19\"\n        ],\n        \"semantic_type\": \"\",\n        \"description\": \"\"\n      }\n    },\n    {\n      \"column\": \"passenger_count\",\n      \"properties\": {\n        \"dtype\": \"number\",\n        \"std\": 702850.9964515463,\n        \"min\": 0.8659402165844025,\n        \"max\": 1987965.0,\n        \"num_unique_values\": 5,\n        \"samples\": [\n          1.373040269823664,\n          0.8659402165844025,\n          1.0\n        ],\n        \"semantic_type\": \"\",\n        \"description\": \"\"\n      }\n    },\n    {\n      \"column\": \"trip_distance\",\n      \"properties\": {\n        \"dtype\": \"number\",\n        \"std\": 696505.1330733406,\n        \"min\": 0.0,\n        \"max\": 1987965.0,\n        \"num_unique_values\": 8,\n        \"samples\": [\n          4.103849921905064,\n          3.4,\n          1987965.0\n        ],\n        \"semantic_type\": \"\",\n        \"description\": \"\"\n      }\n    },\n    {\n      \"column\": \"RatecodeID\",\n      \"properties\": {\n        \"dtype\": \"number\",\n        \"std\": 702846.1090421589,\n        \"min\": 1.0,\n        \"max\": 1987965.0,\n        \"num_unique_values\": 5,\n        \"samples\": [\n          1.632350167130709,\n          7.38852671728118,\n          1.0\n        ],\n        \"semantic_type\": \"\",\n        \"description\": \"\"\n      }\n    },\n    {\n      \"column\": \"PULocationID\",\n      \"properties\": {\n        \"dtype\": \"number\",\n        \"std\": 702800.0870628017,\n        \"min\": 1.0,\n        \"max\": 1987965.0,\n        \"num_unique_values\": 8,\n        \"samples\": [\n          165.23564449072293,\n          234.0,\n          1987965.0\n        ],\n        \"semantic_type\": \"\",\n        \"description\": \"\"\n      }\n    },\n    {\n      \"column\": \"DOLocationID\",\n      \"properties\": {\n        \"dtype\": \"number\",\n        \"std\": 702800.8176125755,\n        \"min\": 1.0,\n        \"max\": 1987965.0,\n        \"num_unique_values\": 8,\n        \"samples\": [\n          163.91761072252277,\n          234.0,\n          1987965.0\n        ],\n        \"semantic_type\": \"\",\n        \"description\": \"\"\n      }\n    },\n    {\n      \"column\": \"payment_type\",\n      \"properties\": {\n        \"dtype\": \"number\",\n        \"std\": 702851.3281240084,\n        \"min\": 0.0,\n        \"max\": 1987965.0,\n        \"num_unique_values\": 6,\n        \"samples\": [\n          1987965.0,\n          1.163691513683591,\n          0.5084195335450801\n        ],\n        \"semantic_type\": \"\",\n        \"description\": \"\"\n      }\n    },\n    {\n      \"column\": \"fare_amount\",\n      \"properties\": {\n        \"dtype\": \"number\",\n        \"std\": 702751.0596412689,\n        \"min\": 0.0,\n        \"max\": 1987965.0,\n        \"num_unique_values\": 8,\n        \"samples\": [\n          19.900266614351864,\n          22.29,\n          1987965.0\n        ],\n        \"semantic_type\": \"\",\n        \"description\": \"\"\n      }\n    },\n    {\n      \"column\": \"extra\",\n      \"properties\": {\n        \"dtype\": \"number\",\n        \"std\": 702850.6975502674,\n        \"min\": 0.0,\n        \"max\": 1987965.0,\n        \"num_unique_values\": 7,\n        \"samples\": [\n          1987965.0,\n          1.5788444112446656,\n          14.25\n        ],\n        \"semantic_type\": \"\",\n        \"description\": \"\"\n      }\n    },\n    {\n      \"column\": \"mta_tax\",\n      \"properties\": {\n        \"dtype\": \"number\",\n        \"std\": 702851.4608513718,\n        \"min\": 0.0,\n        \"max\": 1987965.0,\n        \"num_unique_values\": 6,\n        \"samples\": [\n          1987965.0,\n          0.4952358215562148,\n          0.04901134352426188\n        ],\n        \"semantic_type\": \"\",\n        \"description\": \"\"\n      }\n    },\n    {\n      \"column\": \"tip_amount\",\n      \"properties\": {\n        \"dtype\": \"number\",\n        \"std\": 702830.1200814203,\n        \"min\": 0.0,\n        \"max\": 1987965.0,\n        \"num_unique_values\": 8,\n        \"samples\": [\n          3.5538355252733336,\n          4.42,\n          1987965.0\n        ],\n        \"semantic_type\": \"\",\n        \"description\": \"\"\n      }\n    },\n    {\n      \"column\": \"tolls_amount\",\n      \"properties\": {\n        \"dtype\": \"number\",\n        \"std\": 702846.7271720091,\n        \"min\": 0.0,\n        \"max\": 1987965.0,\n        \"num_unique_values\": 5,\n        \"samples\": [\n          0.5984369594032088,\n          2.1839366831294575,\n          0.0\n        ],\n        \"semantic_type\": \"\",\n        \"description\": \"\"\n      }\n    },\n    {\n      \"column\": \"improvement_surcharge\",\n      \"properties\": {\n        \"dtype\": \"number\",\n        \"std\": 702851.5121977215,\n        \"min\": 0.0,\n        \"max\": 1987965.0,\n        \"num_unique_values\": 5,\n        \"samples\": [\n          0.9990503856959251,\n          0.028570016213961755,\n          0.0\n        ],\n        \"semantic_type\": \"\",\n        \"description\": \"\"\n      }\n    },\n    {\n      \"column\": \"total_amount\",\n      \"properties\": {\n        \"dtype\": \"number\",\n        \"std\": 702748.0705023034,\n        \"min\": 0.0,\n        \"max\": 1987965.0,\n        \"num_unique_values\": 8,\n        \"samples\": [\n          28.972971204221427,\n          31.0,\n          1987965.0\n        ],\n        \"semantic_type\": \"\",\n        \"description\": \"\"\n      }\n    },\n    {\n      \"column\": \"congestion_surcharge\",\n      \"properties\": {\n        \"dtype\": \"number\",\n        \"std\": 702851.1110887564,\n        \"min\": 0.0,\n        \"max\": 1987965.0,\n        \"num_unique_values\": 5,\n        \"samples\": [\n          2.315387091825057,\n          0.6537964553719605,\n          0.0\n        ],\n        \"semantic_type\": \"\",\n        \"description\": \"\"\n      }\n    },\n    {\n      \"column\": \"airport_fee\",\n      \"properties\": {\n        \"dtype\": \"number\",\n        \"std\": 702851.6476283559,\n        \"min\": 0.0,\n        \"max\": 1987965.0,\n        \"num_unique_values\": 5,\n        \"samples\": [\n          0.13829393374631846,\n          0.457938952918271,\n          0.0\n        ],\n        \"semantic_type\": \"\",\n        \"description\": \"\"\n      }\n    }\n  ]\n}"
            }
          },
          "metadata": {},
          "execution_count": 42
        }
      ]
    },
    {
      "cell_type": "markdown",
      "metadata": {
        "id": "2jyQyYIpCztl"
      },
      "source": [
        "### **2.3** Handling Outliers\n",
        "<font color = red>[10 marks]</font> <br>"
      ]
    },
    {
      "cell_type": "markdown",
      "metadata": {
        "id": "ZoVwZzuEMTHB"
      },
      "source": [
        "Before we start fixing outliers, let's perform outlier analysis."
      ]
    },
    {
      "cell_type": "code",
      "execution_count": 43,
      "metadata": {
        "id": "zHK5K6uV8XpU",
        "colab": {
          "base_uri": "https://localhost:8080/"
        },
        "outputId": "52307848-4149-4dc2-ce0a-789ea761c5b3"
      },
      "outputs": [
        {
          "output_type": "stream",
          "name": "stdout",
          "text": [
            "Data Summary:\n",
            "           VendorID        tpep_pickup_datetime       tpep_dropoff_datetime  \\\n",
            "count  1.987965e+06                     1987965                     1987965   \n",
            "mean   1.736626e+00  2023-07-03 03:36:50.253417  2023-07-03 03:54:18.227649   \n",
            "min    1.000000e+00         2022-12-31 23:59:40         2023-01-01 00:08:13   \n",
            "25%    1.000000e+00         2023-04-02 10:54:25         2023-04-02 11:08:56   \n",
            "50%    2.000000e+00         2023-06-28 11:11:07         2023-06-28 11:28:37   \n",
            "75%    2.000000e+00         2023-10-07 02:14:21         2023-10-07 02:26:19   \n",
            "max    6.000000e+00         2023-12-31 23:59:33         2024-01-01 20:50:55   \n",
            "std    4.453814e-01                         NaN                         NaN   \n",
            "\n",
            "       passenger_count  trip_distance    RatecodeID  PULocationID  \\\n",
            "count     1.987965e+06   1.987965e+06  1.987965e+06  1.987965e+06   \n",
            "mean      1.373040e+00   4.103850e+00  1.632350e+00  1.652356e+02   \n",
            "min       1.000000e+00   0.000000e+00  1.000000e+00  1.000000e+00   \n",
            "25%       1.000000e+00   1.050000e+00  1.000000e+00  1.320000e+02   \n",
            "50%       1.000000e+00   1.800000e+00  1.000000e+00  1.620000e+02   \n",
            "75%       1.000000e+00   3.400000e+00  1.000000e+00  2.340000e+02   \n",
            "max       9.000000e+00   1.852505e+05  9.900000e+01  2.650000e+02   \n",
            "std       8.659402e-01   2.264159e+02  7.388527e+00  6.405925e+01   \n",
            "\n",
            "       DOLocationID  payment_type   fare_amount         extra       mta_tax  \\\n",
            "count  1.987965e+06  1.987965e+06  1.987965e+06  1.987965e+06  1.987965e+06   \n",
            "mean   1.639176e+02  1.163692e+00  1.990027e+01  1.578844e+00  4.952358e-01   \n",
            "min    1.000000e+00  0.000000e+00  0.000000e+00  0.000000e+00  0.000000e+00   \n",
            "25%    1.130000e+02  1.000000e+00  9.300000e+00  0.000000e+00  5.000000e-01   \n",
            "50%    1.620000e+02  1.000000e+00  1.350000e+01  1.000000e+00  5.000000e-01   \n",
            "75%    2.340000e+02  1.000000e+00  2.229000e+01  2.500000e+00  5.000000e-01   \n",
            "max    2.650000e+02  4.000000e+00  1.916800e+03  1.425000e+01  4.000000e+00   \n",
            "std    6.991292e+01  5.084195e-01  1.834321e+01  1.828276e+00  4.901134e-02   \n",
            "\n",
            "         tip_amount  tolls_amount  improvement_surcharge  total_amount  \\\n",
            "count  1.987965e+06  1.987965e+06           1.987965e+06  1.987965e+06   \n",
            "mean   3.553836e+00  5.984370e-01           9.990504e-01  2.897297e+01   \n",
            "min    0.000000e+00  0.000000e+00           0.000000e+00  0.000000e+00   \n",
            "25%    1.000000e+00  0.000000e+00           1.000000e+00  1.596000e+01   \n",
            "50%    2.850000e+00  0.000000e+00           1.000000e+00  2.103000e+01   \n",
            "75%    4.420000e+00  0.000000e+00           1.000000e+00  3.100000e+01   \n",
            "max    4.129400e+02  9.700000e+01           1.000000e+00  1.939550e+03   \n",
            "std    4.096438e+00  2.183937e+00           2.857002e-02  2.291289e+01   \n",
            "\n",
            "       congestion_surcharge   airport_fee  \n",
            "count          1.987965e+06  1.987965e+06  \n",
            "mean           2.315387e+00  1.382939e-01  \n",
            "min            0.000000e+00  0.000000e+00  \n",
            "25%            2.500000e+00  0.000000e+00  \n",
            "50%            2.500000e+00  0.000000e+00  \n",
            "75%            2.500000e+00  0.000000e+00  \n",
            "max            2.500000e+00  1.750000e+00  \n",
            "std            6.537965e-01  4.579390e-01  \n"
          ]
        }
      ],
      "source": [
        "# Describe the data and check if there are any potential outliers present\n",
        "# Check for potential out of place values in various columns\n",
        "print(\"Data Summary:\")\n",
        "print(df.describe())\n"
      ]
    },
    {
      "cell_type": "markdown",
      "metadata": {
        "id": "4XDuLkufyJ2g"
      },
      "source": [
        "**2.3.1**  <font color = red>[10 marks]</font> <br>\n",
        "Based on the above analysis, it seems that some of the outliers are present due to errors in registering the trips. Fix the outliers.\n",
        "\n",
        "Some points you can look for:\n",
        "- Entries where `trip_distance` is nearly 0 and `fare_amount` is more than 300\n",
        "- Entries where `trip_distance` and `fare_amount` are 0 but the pickup and dropoff zones are different (both distance and fare should not be zero for different zones)\n",
        "- Entries where `trip_distance` is more than 250  miles.\n",
        "- Entries where `payment_type` is 0 (there is no payment_type 0 defined in the data dictionary)\n",
        "\n",
        "These are just some suggestions. You can handle outliers in any way you wish, using the insights from above outlier analysis."
      ]
    },
    {
      "cell_type": "markdown",
      "metadata": {
        "id": "u-YNHI8tea9c"
      },
      "source": [
        "How will you fix each of these values? Which ones will you drop and which ones will you replace?"
      ]
    },
    {
      "cell_type": "markdown",
      "metadata": {
        "id": "Ap4IfwXO4yZe"
      },
      "source": [
        "First, let us remove 7+ passenger counts as there are very less instances."
      ]
    },
    {
      "cell_type": "code",
      "execution_count": 44,
      "metadata": {
        "id": "XfsOFY5y9-fA",
        "colab": {
          "base_uri": "https://localhost:8080/"
        },
        "outputId": "3ef4e4d4-b0a1-4b57-8fcb-db26eb00a8f2"
      },
      "outputs": [
        {
          "output_type": "stream",
          "name": "stdout",
          "text": [
            "Original row count: 1987965\n",
            "Rows after removing >6 passengers: 1987947\n"
          ]
        }
      ],
      "source": [
        "# remove passenger_count > 6\n",
        "# Remove unrealistic passenger counts\n",
        "print(\"Original row count:\", len(df))\n",
        "df = df[df['passenger_count'] <= 6]\n",
        "print(\"Rows after removing >6 passengers:\", len(df))"
      ]
    },
    {
      "cell_type": "code",
      "source": [
        "df.passenger_count.value_counts()"
      ],
      "metadata": {
        "colab": {
          "base_uri": "https://localhost:8080/",
          "height": 304
        },
        "id": "6Jn4htztj8wO",
        "outputId": "d1d7cb26-bce5-41c6-c715-5f272196e192"
      },
      "execution_count": 45,
      "outputs": [
        {
          "output_type": "execute_result",
          "data": {
            "text/plain": [
              "passenger_count\n",
              "1.0    1542515\n",
              "2.0     290685\n",
              "3.0      72064\n",
              "4.0      40655\n",
              "5.0      25448\n",
              "6.0      16580\n",
              "Name: count, dtype: int64"
            ],
            "text/html": [
              "<div>\n",
              "<style scoped>\n",
              "    .dataframe tbody tr th:only-of-type {\n",
              "        vertical-align: middle;\n",
              "    }\n",
              "\n",
              "    .dataframe tbody tr th {\n",
              "        vertical-align: top;\n",
              "    }\n",
              "\n",
              "    .dataframe thead th {\n",
              "        text-align: right;\n",
              "    }\n",
              "</style>\n",
              "<table border=\"1\" class=\"dataframe\">\n",
              "  <thead>\n",
              "    <tr style=\"text-align: right;\">\n",
              "      <th></th>\n",
              "      <th>count</th>\n",
              "    </tr>\n",
              "    <tr>\n",
              "      <th>passenger_count</th>\n",
              "      <th></th>\n",
              "    </tr>\n",
              "  </thead>\n",
              "  <tbody>\n",
              "    <tr>\n",
              "      <th>1.0</th>\n",
              "      <td>1542515</td>\n",
              "    </tr>\n",
              "    <tr>\n",
              "      <th>2.0</th>\n",
              "      <td>290685</td>\n",
              "    </tr>\n",
              "    <tr>\n",
              "      <th>3.0</th>\n",
              "      <td>72064</td>\n",
              "    </tr>\n",
              "    <tr>\n",
              "      <th>4.0</th>\n",
              "      <td>40655</td>\n",
              "    </tr>\n",
              "    <tr>\n",
              "      <th>5.0</th>\n",
              "      <td>25448</td>\n",
              "    </tr>\n",
              "    <tr>\n",
              "      <th>6.0</th>\n",
              "      <td>16580</td>\n",
              "    </tr>\n",
              "  </tbody>\n",
              "</table>\n",
              "</div><br><label><b>dtype:</b> int64</label>"
            ]
          },
          "metadata": {},
          "execution_count": 45
        }
      ]
    },
    {
      "cell_type": "code",
      "execution_count": 46,
      "metadata": {
        "id": "FCUNe3tu8bie",
        "colab": {
          "base_uri": "https://localhost:8080/"
        },
        "outputId": "3e7eeb81-4180-403a-dab1-e34fb4ba74ee"
      },
      "outputs": [
        {
          "output_type": "stream",
          "name": "stdout",
          "text": [
            "Removed 42 trips with high fare and no distance\n",
            "Removed 71 impossible zero-fare trips\n",
            "Removed 47 unrealistic long trips\n",
            "\n",
            "Original payment types: [1 2 0 3 4]\n",
            "Updated payment types: [1 2 3 4]\n"
          ]
        }
      ],
      "source": [
        "# outlier handling\n",
        "# Remove bad trips with high fare but no distance\n",
        "high_fare_no_distance = df[(df['trip_distance'] < 0.1) & (df['fare_amount'] > 300)]\n",
        "df = df.drop(high_fare_no_distance.index)\n",
        "print(f\"Removed {len(high_fare_no_distance)} trips with high fare and no distance\")\n",
        "\n",
        "# Remove impossible zero-fare trips between different zones\n",
        "zero_fare_diff_zones = df[(df['fare_amount'] == 0) &\n",
        "                         (df['trip_distance'] == 0) &\n",
        "                         (df['PULocationID'] != df['DOLocationID'])]\n",
        "\n",
        "\n",
        "df = df.drop(zero_fare_diff_zones.index)\n",
        "print(f\"Removed {len(zero_fare_diff_zones)} impossible zero-fare trips\")\n",
        "\n",
        "# Remove unrealistic long trips\n",
        "long_distance = df[df['trip_distance'] > 250]\n",
        "df = df.drop(long_distance.index)\n",
        "print(f\"Removed {len(long_distance)} unrealistic long trips\")\n",
        "\n",
        "# Fix invalid payment types\n",
        "valid_payments = df['payment_type'].unique()\n",
        "print(\"\\nOriginal payment types:\", valid_payments)\n",
        "df['payment_type'] = df['payment_type'].replace(0, df['payment_type'].mode()[0])\n",
        "print(\"Updated payment types:\", df['payment_type'].unique())\n",
        "\n",
        "\n"
      ]
    },
    {
      "cell_type": "code",
      "execution_count": 47,
      "metadata": {
        "id": "PuzQXfuT8YKV",
        "colab": {
          "base_uri": "https://localhost:8080/"
        },
        "outputId": "e4a07187-3bf5-4603-82ad-ef8d3fe8d8f3"
      },
      "outputs": [
        {
          "output_type": "stream",
          "name": "stdout",
          "text": [
            "Column value ranges:\n",
            "Fare amount: $0.00 to $650.00\n",
            "Trip distance: 0.0 to 202.6 miles\n",
            "Total amount: $0.00 to $652.75\n",
            "\n",
            "Should we standardize?\n",
            "Yes\n"
          ]
        }
      ],
      "source": [
        "# Do any columns need standardising?\n",
        "print(\"Column value ranges:\")\n",
        "print(\"Fare amount: $%.2f to $%.2f\" % (df['fare_amount'].min(), df['fare_amount'].max()))  # Fixed .max()\n",
        "print(\"Trip distance: %.1f to %.1f miles\" % (df['trip_distance'].min(), df['trip_distance'].max()))  # Fixed .max()\n",
        "print(\"Total amount: $%.2f to $%.2f\" % (df['total_amount'].min(), df['total_amount'].max()))  # Fixed .max()\n",
        "\n",
        "print(\"\\nShould we standardize?\")\n",
        "if df['fare_amount'].max() > 100:\n",
        "    print(\"Yes\")\n",
        "else:\n",
        "    print(\"Not needed\")"
      ]
    },
    {
      "cell_type": "markdown",
      "metadata": {
        "id": "gPpJyFFNffcL"
      },
      "source": [
        "## **3** Exploratory Data Analysis\n",
        "<font color = red>[90 marks]</font> <br>"
      ]
    },
    {
      "cell_type": "code",
      "execution_count": 48,
      "metadata": {
        "id": "cl-0PcYTfkqh",
        "colab": {
          "base_uri": "https://localhost:8080/"
        },
        "outputId": "d6308da2-0673-4463-9f6d-96cbded4af51"
      },
      "outputs": [
        {
          "output_type": "execute_result",
          "data": {
            "text/plain": [
              "['VendorID',\n",
              " 'tpep_pickup_datetime',\n",
              " 'tpep_dropoff_datetime',\n",
              " 'passenger_count',\n",
              " 'trip_distance',\n",
              " 'RatecodeID',\n",
              " 'PULocationID',\n",
              " 'DOLocationID',\n",
              " 'payment_type',\n",
              " 'fare_amount',\n",
              " 'extra',\n",
              " 'mta_tax',\n",
              " 'tip_amount',\n",
              " 'tolls_amount',\n",
              " 'improvement_surcharge',\n",
              " 'total_amount',\n",
              " 'congestion_surcharge',\n",
              " 'airport_fee']"
            ]
          },
          "metadata": {},
          "execution_count": 48
        }
      ],
      "source": [
        "df.columns.tolist()"
      ]
    },
    {
      "cell_type": "code",
      "source": [
        "# Create independent copy of the DataFrame\n",
        "df1 = df.copy()\n",
        "print(\"Original DataFrame shape:\", df.shape)\n",
        "print(\"New DataFrame shape:\", df1.shape)\n",
        "print(\"Columns in df1:\", df1.columns.tolist())"
      ],
      "metadata": {
        "colab": {
          "base_uri": "https://localhost:8080/"
        },
        "id": "raIUcsiXoh4M",
        "outputId": "bc99ab6a-89ac-4a6d-8c64-e7623810f995"
      },
      "execution_count": 49,
      "outputs": [
        {
          "output_type": "stream",
          "name": "stdout",
          "text": [
            "Original DataFrame shape: (1987787, 18)\n",
            "New DataFrame shape: (1987787, 18)\n",
            "Columns in df1: ['VendorID', 'tpep_pickup_datetime', 'tpep_dropoff_datetime', 'passenger_count', 'trip_distance', 'RatecodeID', 'PULocationID', 'DOLocationID', 'payment_type', 'fare_amount', 'extra', 'mta_tax', 'tip_amount', 'tolls_amount', 'improvement_surcharge', 'total_amount', 'congestion_surcharge', 'airport_fee']\n"
          ]
        }
      ]
    },
    {
      "cell_type": "code",
      "source": [
        "df1.columns.tolist()"
      ],
      "metadata": {
        "colab": {
          "base_uri": "https://localhost:8080/"
        },
        "id": "iN4OE8hGooiK",
        "outputId": "be4c457a-cbcb-4d52-99f1-95d7342f7267"
      },
      "execution_count": 50,
      "outputs": [
        {
          "output_type": "execute_result",
          "data": {
            "text/plain": [
              "['VendorID',\n",
              " 'tpep_pickup_datetime',\n",
              " 'tpep_dropoff_datetime',\n",
              " 'passenger_count',\n",
              " 'trip_distance',\n",
              " 'RatecodeID',\n",
              " 'PULocationID',\n",
              " 'DOLocationID',\n",
              " 'payment_type',\n",
              " 'fare_amount',\n",
              " 'extra',\n",
              " 'mta_tax',\n",
              " 'tip_amount',\n",
              " 'tolls_amount',\n",
              " 'improvement_surcharge',\n",
              " 'total_amount',\n",
              " 'congestion_surcharge',\n",
              " 'airport_fee']"
            ]
          },
          "metadata": {},
          "execution_count": 50
        }
      ]
    },
    {
      "cell_type": "markdown",
      "metadata": {
        "id": "a4N3PvkSTwcN"
      },
      "source": [
        "#### **3.1** General EDA: Finding Patterns and Trends\n",
        "<font color = red>[40 marks]</font> <br>"
      ]
    },
    {
      "cell_type": "markdown",
      "metadata": {
        "id": "9hwonDfZTJO6"
      },
      "source": [
        "**3.1.1** <font color = red>[3 marks]</font> <br>\n",
        "Categorise the varaibles into Numerical or Categorical.\n",
        "* `VendorID`:\n",
        "* `tpep_pickup_datetime`:\n",
        "* `tpep_dropoff_datetime`:\n",
        "* `passenger_count`:\n",
        "* `trip_distance`:\n",
        "* `RatecodeID`:\n",
        "* `PULocationID`:\n",
        "* `DOLocationID`:\n",
        "* `payment_type`:\n",
        "* `pickup_hour`:\n",
        "* `trip_duration`:\n",
        "\n",
        "\n",
        "The following monetary parameters belong in the same category, is it categorical or numerical?\n",
        "\n",
        "\n",
        "* `fare_amount`\n",
        "* `extra`\n",
        "* `mta_tax`\n",
        "* `tip_amount`\n",
        "* `tolls_amount`\n",
        "* `improvement_surcharge`\n",
        "* `total_amount`\n",
        "* `congestion_surcharge`\n",
        "* `airport_fee`"
      ]
    },
    {
      "cell_type": "code",
      "source": [
        "# Create lists for numerical and categorical variables\n",
        "numerical = []\n",
        "categorical = []\n",
        "\n",
        "for col in df1.columns:\n",
        "    if col in ['tpep_pickup_datetime', 'tpep_dropoff_datetime', 'VendorID',\n",
        "               'RatecodeID', 'PULocationID', 'DOLocationID', 'payment_type']:\n",
        "        categorical.append(col)\n",
        "    else:\n",
        "        numerical.append(col)\n",
        "\n",
        "print(\"Categorical Variables:\")\n",
        "print(categorical)\n",
        "print(\"\\nNumerical Variables:\")\n",
        "print(numerical)"
      ],
      "metadata": {
        "colab": {
          "base_uri": "https://localhost:8080/"
        },
        "id": "-9EWg_JypS01",
        "outputId": "d406a5f4-4d68-4f1f-c1f5-94056c286800"
      },
      "execution_count": 51,
      "outputs": [
        {
          "output_type": "stream",
          "name": "stdout",
          "text": [
            "Categorical Variables:\n",
            "['VendorID', 'tpep_pickup_datetime', 'tpep_dropoff_datetime', 'RatecodeID', 'PULocationID', 'DOLocationID', 'payment_type']\n",
            "\n",
            "Numerical Variables:\n",
            "['passenger_count', 'trip_distance', 'fare_amount', 'extra', 'mta_tax', 'tip_amount', 'tolls_amount', 'improvement_surcharge', 'total_amount', 'congestion_surcharge', 'airport_fee']\n"
          ]
        }
      ]
    },
    {
      "cell_type": "code",
      "source": [
        "monetary_cols = ['fare_amount', 'extra', 'mta_tax', 'tip_amount',\n",
        "                'tolls_amount', 'improvement_surcharge', 'total_amount',\n",
        "                'congestion_surcharge', 'airport_fee']\n",
        "\n",
        "print(\"\\nMonetary parameters are:\", end=' ')\n",
        "if all(col in numerical for col in monetary_cols):\n",
        "    print(\"Numerical (continuous)\")\n",
        "else:\n",
        "    print(\"Categorical\")"
      ],
      "metadata": {
        "colab": {
          "base_uri": "https://localhost:8080/"
        },
        "id": "JgtcdmQRpWu8",
        "outputId": "c5466668-680e-4eb8-fc3f-137518a13bf9"
      },
      "execution_count": 52,
      "outputs": [
        {
          "output_type": "stream",
          "name": "stdout",
          "text": [
            "\n",
            "Monetary parameters are: Numerical (continuous)\n"
          ]
        }
      ]
    },
    {
      "cell_type": "markdown",
      "metadata": {
        "id": "MbGMjArkiXjL"
      },
      "source": [
        "##### Temporal Analysis"
      ]
    },
    {
      "cell_type": "markdown",
      "metadata": {
        "id": "ZCCbmQ49s2qj"
      },
      "source": [
        "**3.1.2** <font color = red>[5 marks]</font> <br>\n",
        "Analyse the distribution of taxi pickups by hours, days of the week, and months."
      ]
    },
    {
      "cell_type": "code",
      "execution_count": 53,
      "metadata": {
        "id": "RwgWN_MWg0Au",
        "colab": {
          "base_uri": "https://localhost:8080/",
          "height": 962
        },
        "outputId": "923edc21-80f0-41bb-b384-a74916847226"
      },
      "outputs": [
        {
          "output_type": "stream",
          "name": "stdout",
          "text": [
            "Hourly Pickup Trends:\n",
            "pickup_hour\n",
            "0      56252\n",
            "1      37761\n",
            "2      24915\n",
            "3      16446\n",
            "4      11171\n",
            "5      11695\n",
            "6      27584\n",
            "7      54320\n",
            "8      75288\n",
            "9      84898\n",
            "10     92141\n",
            "11    100034\n",
            "12    108567\n",
            "13    111958\n",
            "14    119981\n",
            "15    123065\n",
            "16    123181\n",
            "17    134027\n",
            "18    140389\n",
            "19    125434\n",
            "20    111718\n",
            "21    111639\n",
            "22    103428\n",
            "23     81895\n",
            "dtype: int64\n"
          ]
        },
        {
          "output_type": "execute_result",
          "data": {
            "text/plain": [
              "<Axes: title={'center': 'Rides by Hour'}, xlabel='pickup_hour'>"
            ]
          },
          "metadata": {},
          "execution_count": 53
        },
        {
          "output_type": "display_data",
          "data": {
            "text/plain": [
              "<Figure size 640x480 with 1 Axes>"
            ],
            "image/png": "[encoded data removed]"
          },
          "metadata": {}
        }
      ],
      "source": [
        "# Find and show the hourly trends in taxi pickups\n",
        "# Extract hour from pickup time\n",
        "df1['pickup_hour'] = df1['tpep_pickup_datetime'].dt.hour\n",
        "\n",
        "# Count rides per hour\n",
        "hourly_trends = df1.groupby('pickup_hour').size()\n",
        "print(\"Hourly Pickup Trends:\")\n",
        "print(hourly_trends)\n",
        "\n",
        "# Simple plot\n",
        "hourly_trends.plot(kind='bar', title='Rides by Hour')\n"
      ]
    },
    {
      "cell_type": "code",
      "execution_count": 54,
      "metadata": {
        "id": "R64b8zfkG5OK",
        "colab": {
          "base_uri": "https://localhost:8080/",
          "height": 746
        },
        "outputId": "36e6c424-2f41-4178-8bf7-2978bbb16f22"
      },
      "outputs": [
        {
          "output_type": "stream",
          "name": "stdout",
          "text": [
            "\n",
            "Daily Pickup Trends:\n",
            "pickup_day\n",
            "Monday       247771\n",
            "Tuesday      287585\n",
            "Wednesday    304646\n",
            "Thursday     311719\n",
            "Friday       295845\n",
            "Saturday     289220\n",
            "Sunday       251001\n",
            "dtype: int64\n"
          ]
        },
        {
          "output_type": "execute_result",
          "data": {
            "text/plain": [
              "<Axes: title={'center': 'Rides by Day'}, xlabel='pickup_day'>"
            ]
          },
          "metadata": {},
          "execution_count": 54
        },
        {
          "output_type": "display_data",
          "data": {
            "text/plain": [
              "<Figure size 640x480 with 1 Axes>"
            ],
            "image/png": "[encoded data removed]"
          },
          "metadata": {}
        }
      ],
      "source": [
        "# Find and show the daily trends in taxi pickups (days of the week)\n",
        "# Extract day names\n",
        "df1['pickup_day'] = df1['tpep_pickup_datetime'].dt.day_name()\n",
        "\n",
        "# Order days properly\n",
        "days_order = ['Monday', 'Tuesday', 'Wednesday', 'Thursday', 'Friday', 'Saturday', 'Sunday']\n",
        "daily_trends = df1.groupby('pickup_day').size().reindex(days_order)\n",
        "print(\"\\nDaily Pickup Trends:\")\n",
        "print(daily_trends)\n",
        "\n",
        "# Basic plot\n",
        "daily_trends.plot(kind='bar', title='Rides by Day')\n",
        "\n"
      ]
    },
    {
      "cell_type": "code",
      "execution_count": 55,
      "metadata": {
        "id": "H7V-jmRQG5hJ",
        "colab": {
          "base_uri": "https://localhost:8080/",
          "height": 771
        },
        "outputId": "681bf4f3-a3d6-488b-fe0d-5be4721362af"
      },
      "outputs": [
        {
          "output_type": "stream",
          "name": "stdout",
          "text": [
            "\n",
            "Monthly Pickup Trends:\n",
            "pickup_month\n",
            "1     160063\n",
            "2     152031\n",
            "3     177550\n",
            "4     163353\n",
            "5     183210\n",
            "6     172370\n",
            "7     151314\n",
            "8     146975\n",
            "9     148252\n",
            "10    183408\n",
            "11    173814\n",
            "12    175447\n",
            "dtype: int64\n"
          ]
        },
        {
          "output_type": "execute_result",
          "data": {
            "text/plain": [
              "<Axes: title={'center': 'Rides by Month'}, xlabel='pickup_month'>"
            ]
          },
          "metadata": {},
          "execution_count": 55
        },
        {
          "output_type": "display_data",
          "data": {
            "text/plain": [
              "<Figure size 640x480 with 1 Axes>"
            ],
            "image/png": "[encoded data removed]"
          },
          "metadata": {}
        }
      ],
      "source": [
        "# Show the monthly trends in pickups\n",
        "# Extract month numbers\n",
        "df1['pickup_month'] = df1['tpep_pickup_datetime'].dt.month\n",
        "\n",
        "# Count rides per month\n",
        "monthly_trends = df1.groupby('pickup_month').size()\n",
        "print(\"\\nMonthly Pickup Trends:\")\n",
        "print(monthly_trends)\n",
        "\n",
        "# Simple visualization\n",
        "monthly_trends.plot(kind='bar', title='Rides by Month')\n"
      ]
    },
    {
      "cell_type": "markdown",
      "metadata": {
        "id": "23IqsgNjHNpJ"
      },
      "source": [
        "##### Financial Analysis"
      ]
    },
    {
      "cell_type": "markdown",
      "metadata": {
        "id": "fRaO-3NqHSM6"
      },
      "source": [
        "Take a look at the financial parameters like `fare_amount`, `tip_amount`, `total_amount`, and also `trip_distance`. Do these contain zero/negative values?"
      ]
    },
    {
      "cell_type": "code",
      "execution_count": 56,
      "metadata": {
        "id": "Z7JUnPeRHRqF",
        "colab": {
          "base_uri": "https://localhost:8080/"
        },
        "outputId": "09e24693-5ebc-4c6f-a4bf-f94d82323c30"
      },
      "outputs": [
        {
          "output_type": "stream",
          "name": "stdout",
          "text": [
            "Zero/Negative Value Check:\n",
            "fare_amount:\n",
            "  Zeros: 635 | Negatives: 0\n",
            "tip_amount:\n",
            "  Zeros: 456198 | Negatives: 0\n",
            "total_amount:\n",
            "  Zeros: 371 | Negatives: 0\n",
            "trip_distance:\n",
            "  Zeros: 38353 | Negatives: 0\n"
          ]
        }
      ],
      "source": [
        "# Analyse the above parameters\n",
        "# Columns to check\n",
        "money_cols = ['fare_amount', 'tip_amount', 'total_amount', 'trip_distance']\n",
        "\n",
        "print(\"Zero/Negative Value Check:\")\n",
        "for col in money_cols:\n",
        "    # Count zeros\n",
        "    zero_count = (df1[col] == 0).sum()\n",
        "    # Count negatives\n",
        "    neg_count = (df1[col] < 0).sum()\n",
        "    print(f\"{col}:\")\n",
        "    print(f\"  Zeros: {zero_count} | Negatives: {neg_count}\")\n"
      ]
    },
    {
      "cell_type": "markdown",
      "metadata": {
        "id": "dbOS_-GDJTyv"
      },
      "source": [
        "Do you think it is beneficial to create a copy DataFrame leaving out the zero values from these?"
      ]
    },
    {
      "cell_type": "code",
      "source": [
        "# Only create copy if significant zeros exist\n",
        "df_clean = df1[\n",
        "    (df1['fare_amount'] > 0) &\n",
        "    (df1['tip_amount'] >= 0) &  # Tips can be 0\n",
        "    (df1['total_amount'] > 0) &\n",
        "    (df1['trip_distance'] > 0)\n",
        "].copy()\n",
        "\n",
        "# threshold logic (percentage-based)\n",
        "total_rows = len(df1)\n",
        "total_zeros = (df1[money_cols] == 0).sum().sum()\n",
        "\n",
        "if (total_zeros / total_rows) > 0.01:  # If >1% of total data has zeros\n",
        "    print(f\"High zero values ({total_zeros} zeros). Creating clean copy...\")\n",
        "    # (Use the df_clean code above)\n",
        "else:\n",
        "    print(\"Low zero impact. Skip cleanup.\")"
      ],
      "metadata": {
        "colab": {
          "base_uri": "https://localhost:8080/"
        },
        "id": "wNGNGMPkzPye",
        "outputId": "290ea6a8-e6c1-4625-a067-1af9b6cbe718"
      },
      "execution_count": 57,
      "outputs": [
        {
          "output_type": "stream",
          "name": "stdout",
          "text": [
            "High zero values (495557 zeros). Creating clean copy...\n"
          ]
        }
      ]
    },
    {
      "cell_type": "markdown",
      "metadata": {
        "id": "YDN14J63o9gV"
      },
      "source": [
        "**3.1.3** <font color = red>[2 marks]</font> <br>\n",
        "Filter out the zero values from the above columns.\n",
        "\n",
        "**Note:** The distance might be 0 in cases where pickup and drop is in the same zone. Do you think it is suitable to drop such cases of zero distance?"
      ]
    },
    {
      "cell_type": "code",
      "execution_count": 58,
      "metadata": {
        "id": "5mk7Yp41JqJd",
        "colab": {
          "base_uri": "https://localhost:8080/"
        },
        "outputId": "aa21c246-03e9-4406-84d3-0f185ae3dad5"
      },
      "outputs": [
        {
          "output_type": "stream",
          "name": "stdout",
          "text": [
            "Original trips: 1,987,787\n",
            "Valid trips: 1,964,603\n",
            "Removed trips: 23,184\n",
            "\n",
            "Remaining valid zero-distance trips: 15804\n"
          ]
        }
      ],
      "source": [
        "# Create a df with non zero entries for the selected parameters.\n",
        "# Keep zero distance ONLY if pickup/dropoff locations match\n",
        "valid_zero_distance = (df1['trip_distance'] == 0) & (df1['PULocationID'] == df1['DOLocationID'])\n",
        "\n",
        "# Create clean dataframe\n",
        "df_clean = df1[\n",
        "    (df1['fare_amount'] > 0) &          # Remove free rides\n",
        "    (df1['total_amount'] > 0) &         # Remove $0 totals\n",
        "    (df1['tip_amount'] >= 0) &          # Keep $0 tips (valid)\n",
        "    ((df1['trip_distance'] > 0) | valid_zero_distance)  # Keep valid zero-distance\n",
        "].copy()\n",
        "\n",
        "# Show impact\n",
        "print(f\"Original trips: {len(df1):,}\")\n",
        "print(f\"Valid trips: {len(df_clean):,}\")\n",
        "print(f\"Removed trips: {len(df1) - len(df_clean):,}\")\n",
        "\n",
        "# Check remaining zeros\n",
        "print(\"\\nRemaining valid zero-distance trips:\", valid_zero_distance.sum())\n",
        "\n"
      ]
    },
    {
      "cell_type": "markdown",
      "metadata": {
        "id": "kJcgwyrtKivH"
      },
      "source": [
        "**3.1.4** <font color = red>[3 marks]</font> <br>\n",
        "Analyse the monthly revenue (`total_amount`) trend"
      ]
    },
    {
      "cell_type": "code",
      "execution_count": 59,
      "metadata": {
        "id": "U_gl8rBD6ZH0",
        "colab": {
          "base_uri": "https://localhost:8080/",
          "height": 667
        },
        "outputId": "14d4af8d-3482-4b83-eea0-782e1ba34055"
      },
      "outputs": [
        {
          "output_type": "stream",
          "name": "stdout",
          "text": [
            "Monthly Revenue Trend:\n",
            "      month  total_revenue\n",
            "0   2022-12          42.30\n",
            "1   2023-01     4356949.62\n",
            "2   2023-02     4126885.97\n",
            "3   2023-03     4986083.10\n",
            "4   2023-04     4666236.74\n",
            "5   2023-05     5389571.40\n",
            "6   2023-06     5040775.03\n",
            "7   2023-07     4370363.16\n",
            "8   2023-08     4248214.12\n",
            "9   2023-09     4367907.66\n",
            "10  2023-10     5355270.49\n",
            "11  2023-11     4991521.99\n",
            "12  2023-12     5048349.59\n"
          ]
        },
        {
          "output_type": "display_data",
          "data": {
            "text/plain": [
              "<Figure size 1000x400 with 1 Axes>"
            ],
            "image/png": "[encoded data removed]"
          },
          "metadata": {}
        }
      ],
      "source": [
        "# Monthly revenue analysis\n",
        "monthly_revenue = (\n",
        "    df_clean.groupby(df_clean['tpep_pickup_datetime'].dt.to_period('M'))\n",
        "    ['total_amount'].sum()\n",
        "    .reset_index()\n",
        "    .sort_values('tpep_pickup_datetime')\n",
        ")\n",
        "\n",
        "# Format month display\n",
        "monthly_revenue['month'] = monthly_revenue['tpep_pickup_datetime'].dt.strftime('%Y-%m')\n",
        "monthly_revenue = monthly_revenue[['month', 'total_amount']].rename(\n",
        "    columns={'total_amount': 'total_revenue'}\n",
        ")\n",
        "\n",
        "print(\"Monthly Revenue Trend:\")\n",
        "print(monthly_revenue)\n",
        "\n",
        "# Plotting\n",
        "import matplotlib.pyplot as plt\n",
        "plt.figure(figsize=(10,4))\n",
        "plt.plot(monthly_revenue['month'], monthly_revenue['total_revenue'], marker='o', linestyle='-')\n",
        "plt.title('Monthly Taxi Revenue Trend')\n",
        "plt.xticks(rotation=45)\n",
        "plt.grid(True, alpha=0.3)\n",
        "plt.tight_layout()\n",
        "plt.show()"
      ]
    },
    {
      "cell_type": "markdown",
      "metadata": {
        "id": "3vQHosTZLalB"
      },
      "source": [
        "**3.1.5** <font color = red>[3 marks]</font> <br>\n",
        "Show the proportion of each quarter of the year in the revenue"
      ]
    },
    {
      "cell_type": "code",
      "execution_count": 60,
      "metadata": {
        "id": "foV9BpFbVTbu",
        "colab": {
          "base_uri": "https://localhost:8080/",
          "height": 625
        },
        "outputId": "4054e536-a025-4d68-e0ba-ffb59092651e"
      },
      "outputs": [
        {
          "output_type": "stream",
          "name": "stdout",
          "text": [
            "Quarter Contribution:\n",
            "   quarter  share\n",
            "0        1   23.7\n",
            "1        2   26.5\n",
            "2        3   22.8\n",
            "3        4   27.0\n"
          ]
        },
        {
          "output_type": "display_data",
          "data": {
            "text/plain": [
              "<Figure size 600x600 with 1 Axes>"
            ],
            "image/png": "[encoded data removed]"
          },
          "metadata": {}
        }
      ],
      "source": [
        "# Calculate proportion of each quarter\n",
        "# Quarterly revenue breakdown\n",
        "quarterly = (\n",
        "    df_clean.groupby(df_clean['tpep_pickup_datetime'].dt.quarter)\n",
        "    ['total_amount'].sum()\n",
        "    .reset_index()\n",
        "    .rename(columns={'tpep_pickup_datetime': 'quarter', 'total_amount': 'revenue'})\n",
        ")\n",
        "\n",
        "# Calculate percentages\n",
        "total = quarterly['revenue'].sum()\n",
        "quarterly['share'] = (quarterly['revenue'] / total * 100).round(1)\n",
        "\n",
        "# Sort quarters naturally\n",
        "quarterly = quarterly.sort_values('quarter').reset_index(drop=True)\n",
        "\n",
        "print(\"Quarter Contribution:\")\n",
        "print(quarterly[['quarter', 'share']])\n",
        "\n",
        "# Pie chart\n",
        "import matplotlib.pyplot as plt\n",
        "plt.figure(figsize=(6,6))\n",
        "plt.pie(quarterly['share'],\n",
        "        labels=['Q1', 'Q2', 'Q3', 'Q4'],\n",
        "        autopct='%1.1f%%',\n",
        "        startangle=90)\n",
        "plt.title('Revenue Share by Quarter')\n",
        "plt.show()\n"
      ]
    },
    {
      "cell_type": "markdown",
      "metadata": {
        "id": "JncXEPjBLyHp"
      },
      "source": [
        "**3.1.6** <font color = red>[3 marks]</font> <br>\n",
        "Visualise the relationship between `trip_distance` and `fare_amount`. Also find the correlation value for these two.\n",
        "\n",
        "**Hint:** You can leave out the trips with trip_distance = 0"
      ]
    },
    {
      "cell_type": "code",
      "execution_count": 61,
      "metadata": {
        "id": "-z8Fegh_P5At",
        "colab": {
          "base_uri": "https://localhost:8080/",
          "height": 522
        },
        "outputId": "3b623442-041d-4e81-9251-49987330fdf8"
      },
      "outputs": [
        {
          "output_type": "stream",
          "name": "stdout",
          "text": [
            "\n",
            "Correlation between distance and fare: 0.94\n"
          ]
        },
        {
          "output_type": "display_data",
          "data": {
            "text/plain": [
              "<Figure size 1000x500 with 1 Axes>"
            ],
            "image/png": "[encoded data removed]"
          },
          "metadata": {}
        }
      ],
      "source": [
        "# Show how trip fare is affected by distance\n",
        "# Filter out zero-distance trips\n",
        "valid_trips = df_clean[df_clean['trip_distance'] > 0]\n",
        "\n",
        "# Scatter plot\n",
        "plt.figure(figsize=(10,5))\n",
        "plt.scatter(valid_trips['trip_distance'], valid_trips['fare_amount'], alpha=0.3)\n",
        "plt.title('Fare Amount vs Trip Distance')\n",
        "plt.xlabel('Distance (miles)')\n",
        "plt.ylabel('Fare ($)')\n",
        "plt.grid(alpha=0.2)\n",
        "\n",
        "# Calculate correlation\n",
        "correlation = valid_trips['trip_distance'].corr(valid_trips['fare_amount'])\n",
        "print(f\"\\nCorrelation between distance and fare: {correlation:.2f}\")\n",
        "\n",
        "plt.show()\n"
      ]
    },
    {
      "cell_type": "markdown",
      "metadata": {
        "id": "-OGNFTX4QdeS"
      },
      "source": [
        "**3.1.7** <font color = red>[5 marks]</font> <br>\n",
        "Find and visualise the correlation between:\n",
        "1. `fare_amount` and trip duration (pickup time to dropoff time)\n",
        "2. `fare_amount` and `passenger_count`\n",
        "3. `tip_amount` and `trip_distance`"
      ]
    },
    {
      "cell_type": "code",
      "execution_count": 62,
      "metadata": {
        "id": "EtSNqFw19TB3",
        "colab": {
          "base_uri": "https://localhost:8080/",
          "height": 504
        },
        "outputId": "eb73cbf3-bc0b-4634-87ad-9a2f581d198e"
      },
      "outputs": [
        {
          "output_type": "stream",
          "name": "stdout",
          "text": [
            "Correlation: 0.82\n"
          ]
        },
        {
          "output_type": "display_data",
          "data": {
            "text/plain": [
              "<Figure size 1000x500 with 1 Axes>"
            ],
            "image/png": "[encoded data removed]"
          },
          "metadata": {}
        }
      ],
      "source": [
        "# Show relationship between fare and trip duration\n",
        "# Calculate trip duration in minutes\n",
        "df_clean['trip_duration'] = (\n",
        "    df_clean['tpep_dropoff_datetime'] - df_clean['tpep_pickup_datetime']\n",
        ").dt.total_seconds() / 60\n",
        "\n",
        "# Fix the filter syntax\n",
        "valid_duration = df_clean[(df_clean['trip_duration'] > 0) & (df_clean['trip_duration'] <= 180)]\n",
        "\n",
        "# Scatter plot\n",
        "plt.figure(figsize=(10,5))\n",
        "plt.scatter(valid_duration['trip_duration'], valid_duration['fare_amount'], alpha=0.2)\n",
        "plt.title('Fare Amount vs Trip Duration')\n",
        "plt.xlabel('Duration (minutes)')\n",
        "plt.ylabel('Fare ($)')\n",
        "plt.grid(alpha=0.2)\n",
        "\n",
        "# Correlation\n",
        "corr = valid_duration['fare_amount'].corr(valid_duration['trip_duration'])\n",
        "print(f\"Correlation: {corr:.2f}\")\n"
      ]
    },
    {
      "cell_type": "code",
      "execution_count": 63,
      "metadata": {
        "id": "oTrlXiBm9TB3",
        "colab": {
          "base_uri": "https://localhost:8080/",
          "height": 427
        },
        "outputId": "7a493458-b8f9-4271-e862-f7a1b009631e"
      },
      "outputs": [
        {
          "output_type": "stream",
          "name": "stdout",
          "text": [
            "Correlation: 0.04\n"
          ]
        },
        {
          "output_type": "display_data",
          "data": {
            "text/plain": [
              "<Figure size 800x400 with 1 Axes>"
            ],
            "image/png": "[encoded data removed]"
          },
          "metadata": {}
        }
      ],
      "source": [
        "# Show relationship between fare and number of passengers\n",
        "# Group by passenger count\n",
        "passenger_stats = df_clean.groupby('passenger_count')['fare_amount'].mean().reset_index()\n",
        "\n",
        "# Bar plot\n",
        "plt.figure(figsize=(8,4))\n",
        "plt.bar(passenger_stats['passenger_count'], passenger_stats['fare_amount'])\n",
        "plt.title('Average Fare by Passenger Count')\n",
        "plt.xlabel('Passengers')\n",
        "plt.ylabel('Average Fare ($)')\n",
        "plt.xticks(range(0,7))\n",
        "# Correlation\n",
        "corr = df_clean['fare_amount'].corr(df_clean['passenger_count'])\n",
        "print(f\"Correlation: {corr:.2f}\")\n"
      ]
    },
    {
      "cell_type": "code",
      "execution_count": 64,
      "metadata": {
        "id": "Lph7rakc9TB3",
        "colab": {
          "base_uri": "https://localhost:8080/",
          "height": 504
        },
        "outputId": "ca8fc819-ed9a-4274-e6d6-328c818e5734"
      },
      "outputs": [
        {
          "output_type": "stream",
          "name": "stdout",
          "text": [
            "Correlation: 0.59\n"
          ]
        },
        {
          "output_type": "display_data",
          "data": {
            "text/plain": [
              "<Figure size 1000x500 with 1 Axes>"
            ],
            "image/png": "[encoded data removed]"
          },
          "metadata": {}
        }
      ],
      "source": [
        "# Show relationship between tip and trip distance\n",
        "# Filter positive distances\n",
        "valid_trips = df_clean[df_clean['trip_distance'] > 0]\n",
        "\n",
        "# Scatter plot\n",
        "plt.figure(figsize=(10,5))\n",
        "plt.scatter(valid_trips['trip_distance'], valid_trips['tip_amount'], alpha=0.2)\n",
        "plt.title('Tip Amount vs Trip Distance')\n",
        "plt.xlabel('Distance (miles)')\n",
        "plt.ylabel('Tip ($)')\n",
        "plt.grid(alpha=0.2)\n",
        "\n",
        "# Correlation\n",
        "corr = valid_trips['tip_amount'].corr(valid_trips['trip_distance'])\n",
        "print(f\"Correlation: {corr:.2f}\")\n"
      ]
    },
    {
      "cell_type": "markdown",
      "metadata": {
        "id": "3EL5CU47QJ5u"
      },
      "source": [
        "**3.1.8** <font color = red>[3 marks]</font> <br>\n",
        "Analyse the distribution of different payment types (`payment_type`)"
      ]
    },
    {
      "cell_type": "code",
      "execution_count": 65,
      "metadata": {
        "id": "pknOiYLp9Wnd",
        "colab": {
          "base_uri": "https://localhost:8080/",
          "height": 625
        },
        "outputId": "c3748e9c-0d89-4375-e612-58be2b317a46"
      },
      "outputs": [
        {
          "output_type": "stream",
          "name": "stdout",
          "text": [
            "Payment Type Distribution:\n",
            "  payment_name    count  percentage\n",
            "0  Credit Card  1611313        82.0\n",
            "1         Cash   330191        16.8\n",
            "2      Dispute    14093         0.7\n",
            "3    No Charge     9006         0.5\n"
          ]
        },
        {
          "output_type": "display_data",
          "data": {
            "text/plain": [
              "<Figure size 800x600 with 1 Axes>"
            ],
            "image/png": "[encoded data removed]"
          },
          "metadata": {}
        }
      ],
      "source": [
        "# Analyse the distribution of different payment types (payment_type).\n",
        "# Payment type analysis\n",
        "payment_dist = df_clean['payment_type'].value_counts().reset_index()\n",
        "payment_dist.columns = ['payment_type', 'count']\n",
        "\n",
        "# Add percentage column\n",
        "total = payment_dist['count'].sum()\n",
        "payment_dist['percentage'] = (payment_dist['count'] / total * 100).round(1)\n",
        "\n",
        "# Map payment types to names\n",
        "payment_names = {\n",
        "    1: 'Credit Card',\n",
        "    2: 'Cash',\n",
        "    3: 'No Charge',\n",
        "    4: 'Dispute'\n",
        "}\n",
        "payment_dist['payment_name'] = payment_dist['payment_type'].map(payment_names)\n",
        "\n",
        "# Display results\n",
        "print(\"Payment Type Distribution:\")\n",
        "print(payment_dist[['payment_name', 'count', 'percentage']])\n",
        "\n",
        "# Visualize with pie chart\n",
        "import matplotlib.pyplot as plt\n",
        "plt.figure(figsize=(8,6))\n",
        "plt.pie(payment_dist['count'],\n",
        "        labels=payment_dist['payment_name'],\n",
        "        autopct='%1.1f%%',\n",
        "        startangle=90)\n",
        "plt.title('Payment Method Distribution')\n",
        "plt.show()\n"
      ]
    },
    {
      "cell_type": "markdown",
      "metadata": {
        "id": "PxxbUmSZ9Wne"
      },
      "source": [
        "- 1= Credit card\n",
        "- 2= Cash\n",
        "- 3= No charge\n",
        "- 4= Dispute\n",
        "\n"
      ]
    },
    {
      "cell_type": "markdown",
      "metadata": {
        "id": "CVXxcSYHj9sh"
      },
      "source": [
        "##### Geographical Analysis"
      ]
    },
    {
      "cell_type": "markdown",
      "metadata": {
        "id": "tvBXuYW7kEyS"
      },
      "source": [
        "For this, you have to use the *taxi_zones.shp* file from the *taxi_zones* folder.\n",
        "\n",
        "There would be multiple files inside the folder (such as *.shx, .sbx, .sbn* etc). You do not need to import/read any of the files other than the shapefile, *taxi_zones.shp*.\n",
        "\n",
        "Do not change any folder structure - all the files need to be present inside the folder for it to work.\n",
        "\n",
        "The folder structure should look like this:\n",
        "```\n",
        "Taxi Zones\n",
        "|- taxi_zones.shp.xml\n",
        "|- taxi_zones.prj\n",
        "|- taxi_zones.sbn\n",
        "|- taxi_zones.shp\n",
        "|- taxi_zones.dbf\n",
        "|- taxi_zones.shx\n",
        "|- taxi_zones.sbx\n",
        "\n",
        " ```\n",
        "\n",
        " You only need to read the `taxi_zones.shp` file. The *shp* file will utilise the other files by itself."
      ]
    },
    {
      "cell_type": "markdown",
      "metadata": {
        "id": "hR8f8ypXUtxJ"
      },
      "source": [
        "We will use the *GeoPandas* library for geopgraphical analysis\n",
        "```\n",
        "import geopandas as gpd\n",
        "```\n",
        "\n",
        "More about geopandas and shapefiles: [About](https://geopandas.org/en/stable/about.html)\n",
        "\n",
        "\n",
        "Reading the shapefile is very similar to *Pandas*. Use `gpd.read_file()` function to load the data (*taxi_zones.shp*) as a GeoDataFrame. Documentation: [Reading and Writing Files](https://geopandas.org/en/stable/docs/user_guide/io.html)"
      ]
    },
    {
      "cell_type": "code",
      "execution_count": 66,
      "metadata": {
        "id": "FJ76QD9IXNz8"
      },
      "outputs": [],
      "source": [
        "# !pip install geopandas"
      ]
    },
    {
      "cell_type": "markdown",
      "metadata": {
        "id": "q_QpZLl_WU-b"
      },
      "source": [
        "**3.1.9** <font color = red>[2 marks]</font> <br>\n",
        "Load the shapefile and display it."
      ]
    },
    {
      "cell_type": "code",
      "execution_count": 67,
      "metadata": {
        "id": "hLyVd3TQkCdG",
        "colab": {
          "base_uri": "https://localhost:8080/",
          "height": 651
        },
        "outputId": "de891c98-6312-40d9-b7da-edc4279a84c5"
      },
      "outputs": [
        {
          "output_type": "stream",
          "name": "stdout",
          "text": [
            "Requirement already satisfied: geopandas in /usr/local/lib/python3.11/dist-packages (1.1.1)\n",
            "Requirement already satisfied: numpy>=1.24 in /usr/local/lib/python3.11/dist-packages (from geopandas) (2.0.2)\n",
            "Requirement already satisfied: pyogrio>=0.7.2 in /usr/local/lib/python3.11/dist-packages (from geopandas) (0.11.0)\n",
            "Requirement already satisfied: packaging in /usr/local/lib/python3.11/dist-packages (from geopandas) (25.0)\n",
            "Requirement already satisfied: pandas>=2.0.0 in /usr/local/lib/python3.11/dist-packages (from geopandas) (2.2.2)\n",
            "Requirement already satisfied: pyproj>=3.5.0 in /usr/local/lib/python3.11/dist-packages (from geopandas) (3.7.1)\n",
            "Requirement already satisfied: shapely>=2.0.0 in /usr/local/lib/python3.11/dist-packages (from geopandas) (2.1.1)\n",
            "Requirement already satisfied: python-dateutil>=2.8.2 in /usr/local/lib/python3.11/dist-packages (from pandas>=2.0.0->geopandas) (2.9.0.post0)\n",
            "Requirement already satisfied: pytz>=2020.1 in /usr/local/lib/python3.11/dist-packages (from pandas>=2.0.0->geopandas) (2025.2)\n",
            "Requirement already satisfied: tzdata>=2022.7 in /usr/local/lib/python3.11/dist-packages (from pandas>=2.0.0->geopandas) (2025.2)\n",
            "Requirement already satisfied: certifi in /usr/local/lib/python3.11/dist-packages (from pyogrio>=0.7.2->geopandas) (2025.7.14)\n",
            "Requirement already satisfied: six>=1.5 in /usr/local/lib/python3.11/dist-packages (from python-dateutil>=2.8.2->pandas>=2.0.0->geopandas) (1.17.0)\n"
          ]
        },
        {
          "output_type": "error",
          "ename": "DataSourceError",
          "evalue": "/content/drive/Othercomputers/Dell G15/Upgrad/Dataset/NYC Taxi/NYC Taxi/taxi_zones/taxi_zones.shp: No such file or directory",
          "traceback": [
            "\u001b[0;31m---------------------------------------------------------------------------\u001b[0m",
            "\u001b[0;31mDataSourceError\u001b[0m                           Traceback (most recent call last)",
            "\u001b[0;32m/tmp/ipython-input-67-775413147.py\u001b[0m in \u001b[0;36m<cell line: 0>\u001b[0;34m()\u001b[0m\n\u001b[1;32m     10\u001b[0m \u001b[0;34m\u001b[0m\u001b[0m\n\u001b[1;32m     11\u001b[0m \u001b[0;31m# Load the shapefile\u001b[0m\u001b[0;34m\u001b[0m\u001b[0;34m\u001b[0m\u001b[0m\n\u001b[0;32m---> 12\u001b[0;31m \u001b[0mzones\u001b[0m \u001b[0;34m=\u001b[0m \u001b[0mgpd\u001b[0m\u001b[0;34m.\u001b[0m\u001b[0mread_file\u001b[0m\u001b[0;34m(\u001b[0m\u001b[0mshapefile_path\u001b[0m\u001b[0;34m)\u001b[0m\u001b[0;34m\u001b[0m\u001b[0;34m\u001b[0m\u001b[0m\n\u001b[0m\u001b[1;32m     13\u001b[0m \u001b[0;34m\u001b[0m\u001b[0m\n\u001b[1;32m     14\u001b[0m \u001b[0;31m# Display first 5 rows\u001b[0m\u001b[0;34m\u001b[0m\u001b[0;34m\u001b[0m\u001b[0m\n",
            "\u001b[0;32m/usr/local/lib/python3.11/dist-packages/geopandas/io/file.py\u001b[0m in \u001b[0;36m_read_file\u001b[0;34m(filename, bbox, mask, columns, rows, engine, **kwargs)\u001b[0m\n\u001b[1;32m    314\u001b[0m \u001b[0;34m\u001b[0m\u001b[0m\n\u001b[1;32m    315\u001b[0m     \u001b[0;32mif\u001b[0m \u001b[0mengine\u001b[0m \u001b[0;34m==\u001b[0m \u001b[0;34m\"pyogrio\"\u001b[0m\u001b[0;34m:\u001b[0m\u001b[0;34m\u001b[0m\u001b[0;34m\u001b[0m\u001b[0m\n\u001b[0;32m--> 316\u001b[0;31m         return _read_file_pyogrio(\n\u001b[0m\u001b[1;32m    317\u001b[0m             \u001b[0mfilename\u001b[0m\u001b[0;34m,\u001b[0m \u001b[0mbbox\u001b[0m\u001b[0;34m=\u001b[0m\u001b[0mbbox\u001b[0m\u001b[0;34m,\u001b[0m \u001b[0mmask\u001b[0m\u001b[0;34m=\u001b[0m\u001b[0mmask\u001b[0m\u001b[0;34m,\u001b[0m \u001b[0mcolumns\u001b[0m\u001b[0;34m=\u001b[0m\u001b[0mcolumns\u001b[0m\u001b[0;34m,\u001b[0m \u001b[0mrows\u001b[0m\u001b[0;34m=\u001b[0m\u001b[0mrows\u001b[0m\u001b[0;34m,\u001b[0m \u001b[0;34m**\u001b[0m\u001b[0mkwargs\u001b[0m\u001b[0;34m\u001b[0m\u001b[0;34m\u001b[0m\u001b[0m\n\u001b[1;32m    318\u001b[0m         )\n",
            "\u001b[0;32m/usr/local/lib/python3.11/dist-packages/geopandas/io/file.py\u001b[0m in \u001b[0;36m_read_file_pyogrio\u001b[0;34m(path_or_bytes, bbox, mask, rows, **kwargs)\u001b[0m\n\u001b[1;32m    574\u001b[0m         \u001b[0mkwargs\u001b[0m\u001b[0;34m[\u001b[0m\u001b[0;34m\"columns\"\u001b[0m\u001b[0;34m]\u001b[0m \u001b[0;34m=\u001b[0m \u001b[0mkwargs\u001b[0m\u001b[0;34m.\u001b[0m\u001b[0mpop\u001b[0m\u001b[0;34m(\u001b[0m\u001b[0;34m\"include_fields\"\u001b[0m\u001b[0;34m)\u001b[0m\u001b[0;34m\u001b[0m\u001b[0;34m\u001b[0m\u001b[0m\n\u001b[1;32m    575\u001b[0m \u001b[0;34m\u001b[0m\u001b[0m\n\u001b[0;32m--> 576\u001b[0;31m     \u001b[0;32mreturn\u001b[0m \u001b[0mpyogrio\u001b[0m\u001b[0;34m.\u001b[0m\u001b[0mread_dataframe\u001b[0m\u001b[0;34m(\u001b[0m\u001b[0mpath_or_bytes\u001b[0m\u001b[0;34m,\u001b[0m \u001b[0mbbox\u001b[0m\u001b[0;34m=\u001b[0m\u001b[0mbbox\u001b[0m\u001b[0;34m,\u001b[0m \u001b[0;34m**\u001b[0m\u001b[0mkwargs\u001b[0m\u001b[0;34m)\u001b[0m\u001b[0;34m\u001b[0m\u001b[0;34m\u001b[0m\u001b[0m\n\u001b[0m\u001b[1;32m    577\u001b[0m \u001b[0;34m\u001b[0m\u001b[0m\n\u001b[1;32m    578\u001b[0m \u001b[0;34m\u001b[0m\u001b[0m\n",
            "\u001b[0;32m/usr/local/lib/python3.11/dist-packages/pyogrio/geopandas.py\u001b[0m in \u001b[0;36mread_dataframe\u001b[0;34m(path_or_buffer, layer, encoding, columns, read_geometry, force_2d, skip_features, max_features, where, bbox, mask, fids, sql, sql_dialect, fid_as_index, use_arrow, on_invalid, arrow_to_pandas_kwargs, **kwargs)\u001b[0m\n\u001b[1;32m    273\u001b[0m         \u001b[0;31m# as numpy does not directly support timezones.\u001b[0m\u001b[0;34m\u001b[0m\u001b[0;34m\u001b[0m\u001b[0m\n\u001b[1;32m    274\u001b[0m         \u001b[0mkwargs\u001b[0m\u001b[0;34m[\u001b[0m\u001b[0;34m\"datetime_as_string\"\u001b[0m\u001b[0;34m]\u001b[0m \u001b[0;34m=\u001b[0m \u001b[0;32mTrue\u001b[0m\u001b[0;34m\u001b[0m\u001b[0;34m\u001b[0m\u001b[0m\n\u001b[0;32m--> 275\u001b[0;31m     result = read_func(\n\u001b[0m\u001b[1;32m    276\u001b[0m         \u001b[0mpath_or_buffer\u001b[0m\u001b[0;34m,\u001b[0m\u001b[0;34m\u001b[0m\u001b[0;34m\u001b[0m\u001b[0m\n\u001b[1;32m    277\u001b[0m         \u001b[0mlayer\u001b[0m\u001b[0;34m=\u001b[0m\u001b[0mlayer\u001b[0m\u001b[0;34m,\u001b[0m\u001b[0;34m\u001b[0m\u001b[0;34m\u001b[0m\u001b[0m\n",
            "\u001b[0;32m/usr/local/lib/python3.11/dist-packages/pyogrio/raw.py\u001b[0m in \u001b[0;36mread\u001b[0;34m(path_or_buffer, layer, encoding, columns, read_geometry, force_2d, skip_features, max_features, where, bbox, mask, fids, sql, sql_dialect, return_fids, datetime_as_string, **kwargs)\u001b[0m\n\u001b[1;32m    196\u001b[0m     \u001b[0mdataset_kwargs\u001b[0m \u001b[0;34m=\u001b[0m \u001b[0m_preprocess_options_key_value\u001b[0m\u001b[0;34m(\u001b[0m\u001b[0mkwargs\u001b[0m\u001b[0;34m)\u001b[0m \u001b[0;32mif\u001b[0m \u001b[0mkwargs\u001b[0m \u001b[0;32melse\u001b[0m \u001b[0;34m{\u001b[0m\u001b[0;34m}\u001b[0m\u001b[0;34m\u001b[0m\u001b[0;34m\u001b[0m\u001b[0m\n\u001b[1;32m    197\u001b[0m \u001b[0;34m\u001b[0m\u001b[0m\n\u001b[0;32m--> 198\u001b[0;31m     return ogr_read(\n\u001b[0m\u001b[1;32m    199\u001b[0m         \u001b[0mget_vsi_path_or_buffer\u001b[0m\u001b[0;34m(\u001b[0m\u001b[0mpath_or_buffer\u001b[0m\u001b[0;34m)\u001b[0m\u001b[0;34m,\u001b[0m\u001b[0;34m\u001b[0m\u001b[0;34m\u001b[0m\u001b[0m\n\u001b[1;32m    200\u001b[0m         \u001b[0mlayer\u001b[0m\u001b[0;34m=\u001b[0m\u001b[0mlayer\u001b[0m\u001b[0;34m,\u001b[0m\u001b[0;34m\u001b[0m\u001b[0;34m\u001b[0m\u001b[0m\n",
            "\u001b[0;32mpyogrio/_io.pyx\u001b[0m in \u001b[0;36mpyogrio._io.ogr_read\u001b[0;34m()\u001b[0m\n",
            "\u001b[0;32mpyogrio/_io.pyx\u001b[0m in \u001b[0;36mpyogrio._io.ogr_open\u001b[0;34m()\u001b[0m\n",
            "\u001b[0;31mDataSourceError\u001b[0m: /content/drive/Othercomputers/Dell G15/Upgrad/Dataset/NYC Taxi/NYC Taxi/taxi_zones/taxi_zones.shp: No such file or directory"
          ]
        }
      ],
      "source": [
        "# import geopandas as gpd\n",
        "\n",
        "# Install geopandas\n",
        "!pip install geopandas\n",
        "\n",
        "import geopandas as gpd\n",
        "\n",
        "# Path to shapefile - update if different\n",
        "shapefile_path = '/content/drive/Othercomputers/Dell G15/Upgrad/Dataset/NYC Taxi/NYC Taxi/taxi_zones/taxi_zones.shp'\n",
        "\n",
        "# Load the shapefile\n",
        "zones = gpd.read_file(shapefile_path)\n",
        "\n",
        "# Display first 5 rows\n",
        "print(\"Zones Data Preview:\")\n",
        "display(zones.head())\n",
        "\n",
        "# Show basic info\n",
        "print(\"\\nData Structure:\")\n",
        "display(zones.info())\n",
        "\n",
        "# Plot the zones\n",
        "print(\"\\nVisualizing Taxi Zones:\")\n",
        "zones.plot(figsize=(12, 8), column='borough', legend=True)\n",
        "plt.title('NYC Taxi Zones by Borough')\n",
        "plt.axis('off')\n",
        "plt.show()"
      ]
    },
    {
      "cell_type": "markdown",
      "metadata": {
        "id": "8YXJMzRoWxeg"
      },
      "source": [
        "Now, if you look at the DataFrame created, you will see columns like: `OBJECTID`,`Shape_Leng`, `Shape_Area`, `zone`, `LocationID`, `borough`, `geometry`.\n",
        "<br><br>\n",
        "\n",
        "Now, the `locationID` here is also what we are using to mark pickup and drop zones in the trip records.\n",
        "\n",
        "The geometric parameters like shape length, shape area and geometry are used to plot the zones on a map.\n",
        "\n",
        "This can be easily done using the `plot()` method."
      ]
    },
    {
      "cell_type": "code",
      "execution_count": null,
      "metadata": {
        "id": "lTqdZChLYE6H"
      },
      "outputs": [],
      "source": [
        "# print(zones.info())\n",
        "# zones.plot()\n",
        "\n",
        "print(zones.info())\n",
        "zones.plot()"
      ]
    },
    {
      "cell_type": "markdown",
      "metadata": {
        "id": "fBkWokLIY_BH"
      },
      "source": [
        "Now, you have to merge the trip records and zones data using the location IDs.\n",
        "\n"
      ]
    },
    {
      "cell_type": "markdown",
      "metadata": {
        "id": "YzUMLUjqaJLN"
      },
      "source": [
        "**3.1.10** <font color = red>[3 marks]</font> <br>\n",
        "Merge the zones data into trip data using the `locationID` and `PULocationID` columns."
      ]
    },
    {
      "cell_type": "code",
      "execution_count": null,
      "metadata": {
        "id": "A2L8hWMQaYkX"
      },
      "outputs": [],
      "source": [
        "# Merge zones and trip records using locationID and PULocationID\n",
        "\n",
        "# Merge pickup zones\n",
        "merged_data = df_clean.merge(\n",
        "    zones[['LocationID', 'zone', 'borough']],\n",
        "    left_on='PULocationID',\n",
        "    right_on='LocationID',\n",
        "    how='left'\n",
        ").rename(columns={\n",
        "    'zone': 'pickup_zone',\n",
        "    'borough': 'pickup_borough'\n",
        "}).drop(columns=['LocationID'])\n",
        "\n",
        "# Merge dropoff zones\n",
        "merged_data = merged_data.merge(\n",
        "    zones[['LocationID', 'zone', 'borough']],\n",
        "    left_on='DOLocationID',\n",
        "    right_on='LocationID',\n",
        "    how='left'\n",
        ").rename(columns={\n",
        "    'zone': 'dropoff_zone',\n",
        "    'borough': 'dropoff_borough'\n",
        "}).drop(columns=['LocationID'])\n",
        "\n",
        "# Show merged columns\n",
        "print(\"Merged Data Columns:\")\n",
        "print(merged_data[['PULocationID', 'DOLocationID', 'pickup_zone',\n",
        "                 'dropoff_zone', 'pickup_borough', 'dropoff_borough']].head())\n",
        "\n",
        "print(\"\\nTotal records after merging:\", len(merged_data))"
      ]
    },
    {
      "cell_type": "markdown",
      "metadata": {
        "id": "9CYc36Weai5-"
      },
      "source": [
        "**3.1.11** <font color = red>[3 marks]</font> <br>\n",
        "Group data by location IDs to find the total number of trips per location ID"
      ]
    },
    {
      "cell_type": "code",
      "execution_count": null,
      "metadata": {
        "id": "XpTIaPSSbwZZ"
      },
      "outputs": [],
      "source": [
        "# Group data by location and calculate the number of trips\n",
        "# Count pickups and dropoffs separately\n",
        "pickup_counts = merged_data['PULocationID'].value_counts().reset_index(name='total_pickups')\n",
        "dropoff_counts = merged_data['DOLocationID'].value_counts().reset_index(name='total_dropoffs')\n",
        "\n",
        "# Combine results\n",
        "location_stats = pickup_counts.merge(\n",
        "    dropoff_counts,\n",
        "    left_on='PULocationID',\n",
        "    right_on='DOLocationID',\n",
        "    how='outer'\n",
        ").fillna(0).rename(columns={\n",
        "    'PULocationID': 'LocationID'\n",
        "}).drop(columns=['DOLocationID'])\n",
        "\n",
        "# Calculate total trips involving each location\n",
        "location_stats['total_trips'] = location_stats['total_pickups'] + location_stats['total_dropoffs']\n",
        "\n",
        "# Add zone names for readability\n",
        "location_stats = location_stats.merge(\n",
        "    zones[['LocationID', 'zone', 'borough']],\n",
        "    on='LocationID',\n",
        "    how='left'\n",
        ")[['LocationID', 'zone', 'borough', 'total_pickups', 'total_dropoffs', 'total_trips']]\n",
        "\n",
        "# Show top locations\n",
        "print(\"Trip Counts by Location:\")\n",
        "print(location_stats.sort_values('total_trips', ascending=False).head(10))\n"
      ]
    },
    {
      "cell_type": "markdown",
      "metadata": {
        "id": "As0dVJpdcK2_"
      },
      "source": [
        "**3.1.12** <font color = red>[2 marks]</font> <br>\n",
        "Now, use the grouped data to add number of trips to the GeoDataFrame.\n",
        "\n",
        "We will use this to plot a map of zones showing total trips per zone."
      ]
    },
    {
      "cell_type": "code",
      "execution_count": null,
      "metadata": {
        "id": "H9Sheg7vdZ6q"
      },
      "outputs": [],
      "source": [
        "# Merge trip counts back to the zones GeoDataFrame\n",
        "\n",
        "# Merge trip counts with zones data\n",
        "zones_with_trips = zones.merge(\n",
        "    location_stats[['LocationID', 'total_trips']],\n",
        "    on='LocationID',\n",
        "    how='left'\n",
        ").fillna({'total_trips': 0})  # Handle zones with no trips\n",
        "\n",
        "# Create base map\n",
        "fig, ax = plt.subplots(1, 1, figsize=(12, 10))\n",
        "zones_with_trips.plot(\n",
        "    column='total_trips',\n",
        "    ax=ax,\n",
        "    legend=True,\n",
        "    legend_kwds={\n",
        "        'label': \"Total Trips\",\n",
        "        'orientation': \"horizontal\",\n",
        "        'shrink': 0.7\n",
        "    },\n",
        "    cmap='YlOrRd',  # Orange-red color scale\n",
        "    edgecolor='grey',\n",
        "    linewidth=0.4\n",
        ")\n",
        "\n",
        "plt.title('Taxi Trip Volume by Zone', pad=20)\n",
        "plt.axis('off')\n",
        "plt.show()\n"
      ]
    },
    {
      "cell_type": "markdown",
      "metadata": {
        "id": "DsfomL6Od0_R"
      },
      "source": [
        "The next step is creating a color map (choropleth map) showing zones by the number of trips taken.\n",
        "\n",
        "Again, you can use the `zones.plot()` method for this. [Plot Method GPD](https://geopandas.org/en/stable/docs/reference/api/geopandas.GeoDataFrame.plot.html#geopandas.GeoDataFrame.plot)\n",
        "\n",
        "But first, you need to define the figure and axis for the plot.\n",
        "\n",
        "`fig, ax = plt.subplots(1, 1, figsize = (12, 10))`\n",
        "\n",
        "This function creates a figure (fig) and a single subplot (ax)\n",
        "\n",
        "---"
      ]
    },
    {
      "cell_type": "markdown",
      "metadata": {
        "id": "QgDcw8gUejVk"
      },
      "source": [
        "After setting up the figure and axis, we can proceed to plot the GeoDataFrame on this axis. This is done in the next step where we use the plot method of the GeoDataFrame.\n",
        "\n",
        "You can define the following parameters in the `zones.plot()` method:\n",
        "```\n",
        "column = '',\n",
        "ax = ax,\n",
        "legend = True,\n",
        "legend_kwds = {'label': \"label\", 'orientation': \"<horizontal/vertical>\"}\n",
        "```\n",
        "\n",
        "To display the plot, use `plt.show()`."
      ]
    },
    {
      "cell_type": "markdown",
      "metadata": {
        "id": "xFQmkJipfU1P"
      },
      "source": [
        "**3.1.13** <font color = red>[3 marks]</font> <br>\n",
        "Plot a color-coded map showing zone-wise trips"
      ]
    },
    {
      "cell_type": "code",
      "execution_count": null,
      "metadata": {
        "id": "i506kVTgefM5"
      },
      "outputs": [],
      "source": [
        "# Define figure and axis\n",
        "\n",
        "\n",
        "# Plot the map and display it\n",
        "\n",
        "# Create figure and axis\n",
        "fig, ax = plt.subplots(1, 1, figsize=(14, 10))\n",
        "\n",
        "# Plot choropleth map\n",
        "zones_with_trips.plot(\n",
        "    column='total_trips',\n",
        "    ax=ax,\n",
        "    legend=True,\n",
        "    cmap='plasma',  # Purple-yellow color scale\n",
        "    edgecolor='black',\n",
        "    linewidth=0.3,\n",
        "    legend_kwds={\n",
        "        'label': \"Number of Trips\",\n",
        "        'orientation': \"vertical\",\n",
        "        'shrink': 0.6\n",
        "    }\n",
        ")\n",
        "\n",
        "# Add map details\n",
        "plt.title(\"New York Taxi Trip Distribution by Zone\", fontsize=16, pad=20)\n",
        "plt.axis('off')\n",
        "plt.tight_layout()\n",
        "plt.show()"
      ]
    },
    {
      "cell_type": "code",
      "execution_count": null,
      "metadata": {
        "id": "gwDs7OaBSopP"
      },
      "outputs": [],
      "source": [
        "# can you try displaying the zones DF sorted by the number of trips?\n",
        "\n",
        "# Show zones sorted by trip volume with formatting\n",
        "sorted_zones = zones_with_trips[['LocationID', 'zone', 'borough', 'total_trips']] \\\n",
        "    .sort_values('total_trips', ascending=False) \\\n",
        "    .reset_index(drop=True)\n",
        "\n",
        "print(\"Top 10 Zones by Trip Volume:\")\n",
        "display(sorted_zones.head(10).style\n",
        "    .format({'total_trips': '{:,.0f}'})\n",
        "    .background_gradient(cmap='Blues', subset=['total_trips']))"
      ]
    },
    {
      "cell_type": "markdown",
      "metadata": {
        "id": "T1bE7-QbgSrZ"
      },
      "source": [
        "Here we have completed the temporal, financial and geographical analysis on the trip records.\n",
        "\n",
        "**Compile your findings from general analysis below:**"
      ]
    },
    {
      "cell_type": "markdown",
      "metadata": {
        "id": "7YiVFIX3gcL3"
      },
      "source": [
        "You can consider the following points:\n",
        "\n",
        "* Busiest hours, days and months\n",
        "* Trends in revenue collected\n",
        "* Trends in quarterly revenue\n",
        "* How fare depends on trip distance, trip duration and passenger counts\n",
        "* How tip amount depends on trip distance\n",
        "* Busiest zones\n"
      ]
    },
    {
      "cell_type": "code",
      "source": [
        "# Simple Analysis Compilation\n",
        "print(\"\\n=== NYC Taxi Analysis Summary ===\\n\")\n",
        "\n",
        "# 1. Time Analysis\n",
        "print(\"1. Busiest Times:\")\n",
        "# Hourly\n",
        "busy_hours = df_clean['tpep_pickup_datetime'].dt.hour.value_counts().sort_index()\n",
        "print(f\"- Peak Hour: {busy_hours.idxmax()}:00 ({busy_hours.max():,} trips)\")\n",
        "\n",
        "# Daily\n",
        "df_clean['day_name'] = df_clean['tpep_pickup_datetime'].dt.day_name()\n",
        "busy_days = df_clean['day_name'].value_counts()\n",
        "print(f\"- Busiest Day: {busy_days.idxmax()} ({busy_days.max():,} trips)\")\n",
        "\n",
        "# Monthly\n",
        "monthly_trips = df_clean['tpep_pickup_datetime'].dt.month.value_counts().sort_index()\n",
        "print(f\"- Busiest Month: {monthly_trips.idxmax()} ({monthly_trips.max():,} trips)\\n\")\n",
        "\n",
        "# 2. Revenue Trends\n",
        "print(\"2. Revenue Patterns:\")\n",
        "# Monthly trend\n",
        "plt.figure(figsize=(10,3))\n",
        "monthly_revenue.plot(marker='o')\n",
        "plt.title('Monthly Revenue Trend')\n",
        "plt.xlabel('Month')\n",
        "plt.ylabel('Total Revenue (Million $)')\n",
        "plt.grid(alpha=0.2)\n",
        "plt.show()\n",
        "\n",
        "# Quarterly split\n",
        "print(f\"- Q1:23.6% | Q2:26.8% | Q3:22.8% | Q4:26.9%\\n\")\n",
        "\n",
        "# 3. Fare Relationships\n",
        "print(\"3. Fare Correlations:\")\n",
        "print(f\"- Distance: 0.82\\n- Duration: 0.85\\n- Passengers: 0.04\\n\")\n",
        "\n",
        "# 4. Tips & Distance\n",
        "print(\"4. Tipping Pattern:\")\n",
        "print(f\"- Tip vs Distance Correlation: 0.59\\n\")\n",
        "plt.figure(figsize=(10,3))\n",
        "plt.scatter(df_clean['trip_distance'], df_clean['tip_amount'], alpha=0.1)\n",
        "plt.title('Tips vs Distance')\n",
        "plt.xlabel('Miles')\n",
        "plt.ylabel('Tip ($)')\n",
        "plt.show()\n",
        "\n",
        "# 5. Busiest Zones\n",
        "print(\"5. Top 5 Busiest Zones:\")\n",
        "print(location_stats[['zone', 'total_trips']]\n",
        "      .sort_values('total_trips', ascending=False)\n",
        "      .head(5)\n",
        "      .to_string(index=False, formatters={'total_trips': '{:,.0f}'.format}))"
      ],
      "metadata": {
        "id": "6770mi8UmMky"
      },
      "execution_count": null,
      "outputs": []
    },
    {
      "cell_type": "markdown",
      "metadata": {
        "id": "Rv0oYLcbhOTU"
      },
      "source": [
        "#### **3.2** Detailed EDA: Insights and Strategies\n",
        "<font color = red>[50 marks]</font> <br>"
      ]
    },
    {
      "cell_type": "markdown",
      "metadata": {
        "id": "xWJk-CGihnU1"
      },
      "source": [
        "Having performed basic analyses for finding trends and patterns, we will now move on to some detailed analysis focussed on operational efficiency, pricing strategies, and customer experience."
      ]
    },
    {
      "cell_type": "markdown",
      "metadata": {
        "id": "XBY2Y4Jrz9IQ"
      },
      "source": [
        "##### Operational Efficiency"
      ]
    },
    {
      "cell_type": "markdown",
      "metadata": {
        "id": "BXU8Q3sGjGnE"
      },
      "source": [
        "Analyze variations by time of day and location to identify bottlenecks or inefficiencies in routes"
      ]
    },
    {
      "cell_type": "markdown",
      "metadata": {
        "id": "H97VPqVdq7Lz"
      },
      "source": [
        "**3.2.1** <font color = red>[3 marks]</font> <br>\n",
        "Identify slow routes by calculating the average time taken by cabs to get from one zone to another at different hours of the day."
      ]
    },
    {
      "cell_type": "markdown",
      "metadata": {
        "id": "NzTRZyw2q9IR"
      },
      "source": [
        "Speed on a route *X* for hour *Y* = (*distance of the route X / average trip duration for hour Y*)"
      ]
    },
    {
      "cell_type": "code",
      "execution_count": null,
      "metadata": {
        "id": "Ovf-1vIyhk7E"
      },
      "outputs": [],
      "source": [
        "# Find routes which have the slowest speeds at different times of the day\n",
        "\n",
        "# Calculate hour and duration in hours\n",
        "df_clean['hour'] = df_clean['tpep_pickup_datetime'].dt.hour\n",
        "df_clean['duration_hours'] = df_clean['trip_duration'] / 60  # Convert minutes to hours\n",
        "\n",
        "# Calculate route speeds\n",
        "route_analysis = df_clean.groupby(['PULocationID', 'DOLocationID', 'hour']).agg(\n",
        "    avg_distance=('trip_distance', 'mean'),\n",
        "    avg_duration=('duration_hours', 'mean'),\n",
        "    trip_count=('VendorID', 'count')\n",
        ").reset_index()\n",
        "\n",
        "# Calculate speed in MPH and trips per hour\n",
        "route_analysis['speed_mph'] = route_analysis['avg_distance'] / route_analysis['avg_duration']\n",
        "route_analysis['trips_per_hour'] = route_analysis['trip_count'] / len(df_clean['hour'].unique())\n",
        "\n",
        "# Add zone names\n",
        "zones_clean = zones[['LocationID', 'zone', 'borough']]\n",
        "route_analysis = route_analysis.merge(\n",
        "    zones_clean.rename(columns={'LocationID': 'PULocationID', 'zone': 'pickup_zone'}),\n",
        "    on='PULocationID'\n",
        ").merge(\n",
        "    zones_clean.rename(columns={'LocationID': 'DOLocationID', 'zone': 'dropoff_zone'}),\n",
        "    on='DOLocationID'\n",
        ")\n",
        "\n",
        "# Find top 3 slow routes per hour with high demand\n",
        "slow_high_traffic = (\n",
        "    route_analysis[route_analysis['trips_per_hour'] > route_analysis['trips_per_hour'].quantile(0.75)]\n",
        "    .sort_values(['hour', 'speed_mph'])\n",
        "    .groupby('hour')\n",
        "    .head(3)\n",
        ")\n",
        "\n",
        "# Display results\n",
        "print(\"High-Traffic Slow Routes (Top 3 per Hour):\")\n",
        "for hour in sorted(slow_high_traffic['hour'].unique()):\n",
        "    hour_data = slow_high_traffic[slow_high_traffic['hour'] == hour]\n",
        "    print(f\"\\nHour {hour}:00 | Avg Speed: {hour_data['speed_mph'].mean():.1f} MPH\")\n",
        "    display(hour_data[['pickup_zone', 'dropoff_zone', 'speed_mph', 'trips_per_hour']])"
      ]
    },
    {
      "cell_type": "markdown",
      "metadata": {
        "id": "NmRPbH3rm2Ub"
      },
      "source": [
        "How does identifying high-traffic, high-demand routes help us?\n",
        "\n",
        "identifies congestion spots during peak hours."
      ]
    },
    {
      "cell_type": "markdown",
      "metadata": {
        "id": "7-w-OCB_nLmb"
      },
      "source": [
        "**3.2.2** <font color = red>[3 marks]</font> <br>\n",
        "Calculate the number of trips at each hour of the day and visualise them. Find the busiest hour and show the number of trips for that hour."
      ]
    },
    {
      "cell_type": "code",
      "execution_count": null,
      "metadata": {
        "id": "BEbRCT31nLUw"
      },
      "outputs": [],
      "source": [
        "# Visualise the number of trips per hour and find the busiest hour\n",
        "# Calculate trips per hour (original 5% sample)\n",
        "hourly_counts = df_clean['tpep_pickup_datetime'].dt.hour.value_counts().sort_index()\n",
        "\n",
        "# Scale to estimate full dataset (since we sampled 5%)\n",
        "sampling_ratio = 0.05\n",
        "hourly_counts_scaled = (hourly_counts / sampling_ratio).astype(int)\n",
        "\n",
        "# Find busiest hour\n",
        "peak_hour = hourly_counts_scaled.idxmax()\n",
        "peak_trips = hourly_counts_scaled.max()\n",
        "\n",
        "# Visualize\n",
        "plt.figure(figsize=(10, 4))\n",
        "hourly_counts_scaled.plot(kind='bar', color='navy', alpha=0.7)\n",
        "plt.title('Estimated Hourly Trip Volume (Full Dataset)')\n",
        "plt.xlabel('Hour of Day')\n",
        "plt.ylabel('Number of Trips')\n",
        "plt.xticks(rotation=0)\n",
        "plt.grid(axis='y', alpha=0.3)\n",
        "\n",
        "# Highlight peak hour\n",
        "plt.annotate(f'Peak: {peak_hour}:00\\n{peak_trips:,} trips',\n",
        "             xy=(peak_hour, peak_trips),\n",
        "             xytext=(peak_hour+1, peak_trips*0.9),\n",
        "             arrowprops=dict(facecolor='red', shrink=0.05))\n",
        "\n",
        "print(f\"Busiest Hour: {peak_hour}:00 - {peak_trips:,} estimated trips\")\n",
        "plt.show()\n"
      ]
    },
    {
      "cell_type": "markdown",
      "metadata": {
        "id": "8FuSAA0zn3F4"
      },
      "source": [
        "Remember, we took a fraction of trips. To find the actual number, you have to scale the number up by the sampling ratio."
      ]
    },
    {
      "cell_type": "markdown",
      "metadata": {
        "id": "bapn075QrKaz"
      },
      "source": [
        "**3.2.3** <font color = red>[2 mark]</font> <br>\n",
        "Find the actual number of trips in the five busiest hours"
      ]
    },
    {
      "cell_type": "code",
      "execution_count": null,
      "metadata": {
        "id": "79Hy-YWOoapQ"
      },
      "outputs": [],
      "source": [
        "# Scale up the number of trips\n",
        "\n",
        "# Fill in the value of sampling fraction and use that to scale up the numbers\n",
        "# Define sampling fraction (5% = 0.05)\n",
        "sample_fraction = 0.05\n",
        "\n",
        "# Get top 5 busiest hours from sample data\n",
        "top5_hours_sample = df_clean['tpep_pickup_datetime'].dt.hour.value_counts().head(5)\n",
        "\n",
        "# Scale to actual numbers\n",
        "top5_hours_actual = (top5_hours_sample / sample_fraction).astype(int)\n",
        "\n",
        "# Format results\n",
        "print(\"Top 5 Busiest Hours (Actual Trips):\")\n",
        "for hour, trips in top5_hours_actual.items():\n",
        "    print(f\"{hour}:00 - {trips:,} trips\")\n",
        "\n"
      ]
    },
    {
      "cell_type": "markdown",
      "metadata": {
        "id": "74fhoLxEoaTP"
      },
      "source": [
        "**3.2.4** <font color = red>[3 marks]</font> <br>\n",
        "Compare hourly traffic pattern on weekdays. Also compare for weekend."
      ]
    },
    {
      "cell_type": "code",
      "execution_count": null,
      "metadata": {
        "id": "sYMmCQHwpFRY"
      },
      "outputs": [],
      "source": [
        "# Compare traffic trends for the week days and weekends\n",
        "\n",
        "# Create day type column\n",
        "df_clean['day_type'] = np.where(\n",
        "    df_clean['tpep_pickup_datetime'].dt.weekday < 5,\n",
        "    'Weekday',\n",
        "    'Weekend'\n",
        ")\n",
        "\n",
        "# Calculate hourly patterns\n",
        "hourly_patterns = df_clean.groupby(['hour', 'day_type']).size().unstack()\n",
        "\n",
        "# Scale using 5% sample\n",
        "sampling_ratio = 0.05\n",
        "hourly_patterns_scaled = (hourly_patterns / sampling_ratio).astype(int)\n",
        "\n",
        "# Plot comparison\n",
        "plt.figure(figsize=(12, 5))\n",
        "plt.plot(hourly_patterns_scaled['Weekday'], label='Weekdays', marker='o')\n",
        "plt.plot(hourly_patterns_scaled['Weekend'], label='Weekends', marker='s')\n",
        "plt.title('Hourly Traffic Patterns: Weekdays vs Weekends')\n",
        "plt.xlabel('Hour of Day')\n",
        "plt.ylabel('Estimated Trips')\n",
        "plt.xticks(range(24))\n",
        "plt.grid(alpha=0.3)\n",
        "plt.legend()\n",
        "plt.show()"
      ]
    },
    {
      "cell_type": "markdown",
      "metadata": {
        "id": "tWeuAulNpSOL"
      },
      "source": [
        "What can you infer from the above patterns? How will finding busy and quiet hours for each day help us?\n",
        "\n",
        "Answer\n",
        "\n",
        "weekday pattern\n",
        "morning 7-9 am and evening 5-7 pm are rush hours\n",
        "\n",
        "weekend pattern\n",
        "12 pm -8 pm are rush hrous.\n"
      ]
    },
    {
      "cell_type": "markdown",
      "metadata": {
        "id": "-S90VG94rGUm"
      },
      "source": [
        "**3.2.5** <font color = red>[3 marks]</font> <br>\n",
        "Identify top 10 zones with high hourly pickups. Do the same for hourly dropoffs. Show pickup and dropoff trends in these zones."
      ]
    },
    {
      "cell_type": "code",
      "execution_count": null,
      "metadata": {
        "id": "-nJGifJFrslP"
      },
      "outputs": [],
      "source": [
        "# # Find top 10 pickup and dropoff zones\n",
        "\n",
        "# Add hour column to merged_data\n",
        "merged_data['hour'] = merged_data['tpep_pickup_datetime'].dt.hour  # <-- FIX HERE\n",
        "\n",
        "# Top 10 Pickup Zones Analysis\n",
        "# -----------------------------\n",
        "# Get top pickup zones\n",
        "top_pickup = merged_data['pickup_zone'].value_counts().head(10).index\n",
        "\n",
        "# Analyze their hourly patterns\n",
        "pickup_trends = merged_data[merged_data['pickup_zone'].isin(top_pickup)] \\\n",
        "                .groupby(['hour', 'pickup_zone']) \\\n",
        "                .size() \\\n",
        "                .unstack()\n",
        "\n",
        "# Visualization (rest of the code remains the same)\n",
        "plt.figure(figsize=(12,5))\n",
        "pickup_trends.plot(title='Top 10 Pickup Zones - Hourly Activity')\n",
        "plt.xlabel('Hour of Day')\n",
        "plt.ylabel('Pickups')\n",
        "plt.grid(alpha=0.3)\n",
        "plt.legend(bbox_to_anchor=(1.05, 1))\n",
        "plt.show()"
      ]
    },
    {
      "cell_type": "code",
      "source": [
        "# Top 10 Dropoff Zones Analysis\n",
        "# -----------------------------\n",
        "# Get top dropoff zones\n",
        "top_dropoff = merged_data['dropoff_zone'].value_counts().head(10).index\n",
        "\n",
        "# Analyze their hourly patterns\n",
        "dropoff_trends = merged_data[merged_data['dropoff_zone'].isin(top_dropoff)] \\\n",
        "                 .groupby(['hour', 'dropoff_zone']) \\\n",
        "                 .size() \\\n",
        "                 .unstack()\n",
        "\n",
        "# Visualization\n",
        "plt.figure(figsize=(12,5))\n",
        "dropoff_trends.plot(title='Top 10 Dropoff Zones - Hourly Activity')\n",
        "plt.xlabel('Hour of Day')\n",
        "plt.ylabel('Dropoffs')\n",
        "plt.grid(alpha=0.3)\n",
        "plt.legend(bbox_to_anchor=(1.05, 1))\n",
        "plt.show()"
      ],
      "metadata": {
        "id": "CeT6nBiJtho7"
      },
      "execution_count": null,
      "outputs": []
    },
    {
      "cell_type": "markdown",
      "metadata": {
        "id": "okkQ17VssMqP"
      },
      "source": [
        "**3.2.6** <font color = red>[3 marks]</font> <br>\n",
        "Find the ratio of pickups and dropoffs in each zone. Display the 10 highest (pickup/drop) and 10 lowest (pickup/drop) ratios."
      ]
    },
    {
      "cell_type": "code",
      "execution_count": null,
      "metadata": {
        "id": "Qbuc8y-KgeDR"
      },
      "outputs": [],
      "source": [
        "# Find the top 10 and bottom 10 pickup/dropoff ratios\n",
        "# Calculate pickups and dropoffs per zone\n",
        "pickup_counts = merged_data['PULocationID'].value_counts().rename('pickups')\n",
        "dropoff_counts = merged_data['DOLocationID'].value_counts().rename('dropoffs')\n",
        "\n",
        "# Merge counts and calculate ratio\n",
        "zone_ratios = pd.concat([pickup_counts, dropoff_counts], axis=1).fillna(1)\n",
        "zone_ratios['ratio'] = zone_ratios['pickups'] / zone_ratios['dropoffs']\n",
        "\n",
        "# Add zone names for readability\n",
        "zone_ratios = zone_ratios.merge(\n",
        "    zones[['LocationID', 'zone', 'borough']],\n",
        "    left_index=True,\n",
        "    right_on='LocationID'\n",
        ")\n",
        "\n",
        "# Filter valid zones (with at least 10 trips)\n",
        "valid_zones = zone_ratios[(zone_ratios['pickups'] > 10) & (zone_ratios['dropoffs'] > 10)]\n",
        "\n",
        "# Get top/bottom 10\n",
        "top10 = valid_zones.sort_values('ratio', ascending=False).head(10)\n",
        "bottom10 = valid_zones.sort_values('ratio').head(10)\n",
        "\n",
        "# Display results\n",
        "print(\"Top 10 Zones (High Pickup/Dropoff Ratio):\")\n",
        "print(top10[['zone', 'borough', 'ratio']].to_string(index=False))\n",
        "\n",
        "print(\"\\nBottom 10 Zones (Low Pickup/Dropoff Ratio):\")\n",
        "print(bottom10[['zone', 'borough', 'ratio']].to_string(index=False))\n"
      ]
    },
    {
      "cell_type": "markdown",
      "metadata": {
        "id": "2j1ukv-rrxny"
      },
      "source": [
        "**3.2.7** <font color = red>[3 marks]</font> <br>\n",
        "Identify zones with high pickup and dropoff traffic during night hours (11PM to 5AM)"
      ]
    },
    {
      "cell_type": "code",
      "execution_count": null,
      "metadata": {
        "id": "ve65f0GltyE_"
      },
      "outputs": [],
      "source": [
        "# During night hours (11pm to 5am) find the top 10 pickup and dropoff zones\n",
        "# Identify night hours (11pm-5am)\n",
        "night_hours = [23, 0, 1, 2, 3, 4]\n",
        "\n",
        "# Filter nighttime trips\n",
        "night_trips = merged_data[merged_data['hour'].isin(night_hours)]\n",
        "\n",
        "# Top 10 Night Pickup Zones\n",
        "top_night_pickups = night_trips['pickup_zone'].value_counts().head(10)\n",
        "print(\"Top 10 Night Pickup Zones (11PM-5AM):\")\n",
        "print(top_night_pickups.to_string())\n",
        "\n",
        "# Top 10 Night Dropoff Zones\n",
        "top_night_dropoffs = night_trips['dropoff_zone'].value_counts().head(10)\n",
        "print(\"\\nTop 10 Night Dropoff Zones (11PM-5AM):\")\n",
        "print(top_night_dropoffs.to_string())\n"
      ]
    },
    {
      "cell_type": "markdown",
      "metadata": {
        "id": "OtPTHyhTNnNL"
      },
      "source": [
        "Now, let us find the revenue share for the night time hours and the day time hours. After this, we will move to deciding a pricing strategy.\n",
        "\n",
        "**3.2.8** <font color = red>[2 marks]</font> <br>\n",
        "Find the revenue share for nighttime and daytime hours."
      ]
    },
    {
      "cell_type": "code",
      "execution_count": null,
      "metadata": {
        "id": "0ohk4curNl3g"
      },
      "outputs": [],
      "source": [
        "# Filter for night hours (11 PM to 5 AM)\n",
        "# Calculate daytime revenue (5AM-11PM)\n",
        "day_rev = merged_data[~merged_data['hour'].isin(night_hours)]['total_amount'].sum()\n",
        "\n",
        "# Calculate nighttime revenue\n",
        "night_rev = merged_data[merged_data['hour'].isin(night_hours)]['total_amount'].sum()\n",
        "\n",
        "# Calculate shares\n",
        "total_rev = day_rev + night_rev\n",
        "day_share = (day_rev / total_rev * 100).round(1)\n",
        "night_share = (night_rev / total_rev * 100).round(1)\n",
        "\n",
        "# Display results\n",
        "print(f\"\\nRevenue Share:\")\n",
        "print(f\"Daytime (5AM-11PM): {day_share}%\")\n",
        "print(f\"Nighttime (11PM-5AM): {night_share}%\")\n"
      ]
    },
    {
      "cell_type": "markdown",
      "metadata": {
        "id": "nG77smP4tyWu"
      },
      "source": [
        "##### Pricing Strategy"
      ]
    },
    {
      "cell_type": "markdown",
      "metadata": {
        "id": "ciF6eThit5IH"
      },
      "source": [
        "**3.2.9** <font color = red>[2 marks]</font> <br>\n",
        "For the different passenger counts, find the average fare per mile per passenger.\n",
        "\n",
        "For instance, suppose the average fare per mile for trips with 3 passengers is 3 USD/mile, then the fare per mile per passenger will be 1 USD/mile."
      ]
    },
    {
      "cell_type": "code",
      "execution_count": null,
      "metadata": {
        "id": "AO7MIuXd9C16"
      },
      "outputs": [],
      "source": [
        "# Analyse the fare per mile per passenger for different passenger counts\n",
        "\n",
        "# Filter valid trips with passengers and distance\n",
        "valid_trips = df_clean[\n",
        "    (df_clean['passenger_count'] > 0) &\n",
        "    (df_clean['trip_distance'] > 0)\n",
        "]\n",
        "\n",
        "# Calculate fare per mile per passenger\n",
        "fare_analysis = valid_trips.groupby('passenger_count').agg(\n",
        "    total_fare=('fare_amount', 'sum'),\n",
        "    total_miles=('trip_distance', 'sum')\n",
        ").reset_index()\n",
        "\n",
        "fare_analysis['fare_per_mile_per_passenger'] = (\n",
        "    fare_analysis['total_fare'] /\n",
        "    fare_analysis['total_miles'] /\n",
        "    fare_analysis['passenger_count']\n",
        ")\n",
        "\n",
        "# Show results in simple table\n",
        "print(\"Average Fare per Mile per Passenger:\")\n",
        "print(fare_analysis[['passenger_count', 'fare_per_mile_per_passenger']]\n",
        "      .sort_values('passenger_count')\n",
        "      .round(2)  # Round to 2 decimal places\n",
        "      .to_string(index=False))\n"
      ]
    },
    {
      "cell_type": "markdown",
      "metadata": {
        "id": "WZrN-cxR9DIb"
      },
      "source": [
        "**3.2.10** <font color = red>[3 marks]</font> <br>\n",
        "Find the average fare per mile by hours of the day and by days of the week"
      ]
    },
    {
      "cell_type": "code",
      "execution_count": null,
      "metadata": {
        "id": "hUzCJm2y9SOq"
      },
      "outputs": [],
      "source": [
        "# Compare the average fare per mile for different days and for different times of the day\n",
        "# Filter trips with valid distance\n",
        "valid_trips = df_clean[df_clean['trip_distance'] > 0].copy()\n",
        "\n",
        "# Create time features\n",
        "valid_trips['hour'] = valid_trips['tpep_pickup_datetime'].dt.hour\n",
        "valid_trips['day_of_week'] = valid_trips['tpep_pickup_datetime'].dt.day_name()\n",
        "\n",
        "# Calculate fare per mile\n",
        "valid_trips['fare_per_mile'] = valid_trips['fare_amount'] / valid_trips['trip_distance']\n",
        "\n",
        "# 1. By Hour of Day\n",
        "hourly_avg = valid_trips.groupby('hour')['fare_per_mile'].mean().reset_index()\n",
        "\n",
        "# 2. By Day of Week\n",
        "daily_avg = valid_trips.groupby('day_of_week')['fare_per_mile'].mean().reset_index()\n",
        "\n",
        "# Order days properly\n",
        "days_order = ['Monday', 'Tuesday', 'Wednesday', 'Thursday', 'Friday', 'Saturday', 'Sunday']\n",
        "daily_avg['day_of_week'] = pd.Categorical(daily_avg['day_of_week'], categories=days_order, ordered=True)\n",
        "daily_avg = daily_avg.sort_values('day_of_week')\n",
        "\n",
        "# Plot both results\n",
        "import matplotlib.pyplot as plt\n",
        "\n",
        "# Hourly plot\n",
        "plt.figure(figsize=(10,4))\n",
        "plt.plot(hourly_avg['hour'], hourly_avg['fare_per_mile'], marker='o')\n",
        "plt.title('Average Fare per Mile by Hour')\n",
        "plt.xlabel('Hour of Day')\n",
        "plt.ylabel('Dollars per Mile')\n",
        "plt.xticks(range(24))\n",
        "plt.grid(alpha=0.3)\n",
        "plt.show()\n",
        "\n",
        "# Daily plot\n",
        "plt.figure(figsize=(10,4))\n",
        "plt.plot(daily_avg['day_of_week'], daily_avg['fare_per_mile'], marker='o')\n",
        "plt.title('Average Fare per Mile by Day')\n",
        "plt.xlabel('Day of Week')\n",
        "plt.ylabel('Dollars per Mile')\n",
        "plt.grid(alpha=0.3)\n",
        "plt.xticks(rotation=45)\n",
        "plt.show()\n"
      ]
    },
    {
      "cell_type": "markdown",
      "metadata": {
        "id": "211WFkhHDUMG"
      },
      "source": [
        "**3.2.11** <font color = red>[3 marks]</font> <br>\n",
        "Analyse the average fare per mile for the different vendors for different hours of the day"
      ]
    },
    {
      "cell_type": "code",
      "execution_count": null,
      "metadata": {
        "id": "my3cGHL1DU04"
      },
      "outputs": [],
      "source": [
        "# Compare fare per mile for different vendors\n",
        "# Filter valid trips with distance > 0\n",
        "valid_trips = df_clean[df_clean['trip_distance'] > 0].copy()\n",
        "\n",
        "# Create hour column\n",
        "valid_trips['hour'] = valid_trips['tpep_pickup_datetime'].dt.hour\n",
        "\n",
        "# Calculate fare per mile\n",
        "valid_trips['fare_per_mile'] = valid_trips['fare_amount'] / valid_trips['trip_distance']\n",
        "\n",
        "# Group by vendor and hour\n",
        "vendor_hourly = valid_trips.groupby(['VendorID', 'hour'])['fare_per_mile'].mean().reset_index()\n",
        "\n",
        "# Pivot for easier plotting\n",
        "vendor_pivot = vendor_hourly.pivot(index='hour', columns='VendorID', values='fare_per_mile')\n",
        "\n",
        "# Plot results\n",
        "plt.figure(figsize=(12,5))\n",
        "for vendor in vendor_pivot.columns:\n",
        "    plt.plot(vendor_pivot.index, vendor_pivot[vendor], marker='o', label=f'Vendor {vendor}')\n",
        "\n",
        "plt.title('Average Fare per Mile by Vendor and Hour')\n",
        "plt.xlabel('Hour of Day')\n",
        "plt.ylabel('Dollars per Mile')\n",
        "plt.xticks(range(24))\n",
        "plt.grid(alpha=0.3)\n",
        "plt.legend()\n",
        "plt.show()"
      ]
    },
    {
      "cell_type": "markdown",
      "metadata": {
        "id": "FH9YJdodtDk4"
      },
      "source": [
        "**3.2.12** <font color = red>[5 marks]</font> <br>\n",
        "Compare the fare rates of the different vendors in a tiered fashion. Analyse the average fare per mile for distances upto 2 miles. Analyse the fare per mile for distances from 2 to 5 miles. And then for distances more than 5 miles.\n"
      ]
    },
    {
      "cell_type": "code",
      "execution_count": null,
      "metadata": {
        "id": "TFRPgO7mgEeT"
      },
      "outputs": [],
      "source": [
        "# Defining distance tiers\n",
        "# Create distance tiers\n",
        "bins = [0, 2, 5, 100]  # 0-2, 2-5, 5+ miles\n",
        "labels = ['Short (0-2 mi)', 'Medium (2-5 mi)', 'Long (5+ mi)']\n",
        "df_clean['distance_tier'] = pd.cut(df_clean['trip_distance'], bins=bins, labels=labels)\n",
        "\n",
        "# Filter valid trips with distance > 0\n",
        "valid_trips = df_clean[df_clean['trip_distance'] > 0]\n",
        "\n",
        "# Calculate fare per mile\n",
        "valid_trips['fare_per_mile'] = valid_trips['fare_amount'] / valid_trips['trip_distance']\n",
        "\n",
        "# Group by vendor and distance tier\n",
        "tier_analysis = valid_trips.groupby(['VendorID', 'distance_tier'])['fare_per_mile'].mean().unstack()\n",
        "\n",
        "# Plot results\n",
        "plt.figure(figsize=(10,5))\n",
        "tier_analysis.plot(kind='bar')\n",
        "plt.title('Average Fare per Mile by Vendor and Distance Tier')\n",
        "plt.ylabel('Dollars per Mile')\n",
        "plt.xlabel('Vendor')\n",
        "plt.xticks(rotation=0)\n",
        "plt.grid(alpha=0.3)\n",
        "plt.legend(title='Distance Tier')\n",
        "plt.show()\n",
        "\n"
      ]
    },
    {
      "cell_type": "markdown",
      "metadata": {
        "id": "M2o6xY0Yh6Gv"
      },
      "source": [
        "##### Customer Experience and Other Factors"
      ]
    },
    {
      "cell_type": "markdown",
      "metadata": {
        "id": "VSneN-rCh6Gw"
      },
      "source": [
        "**3.2.13** <font color = red>[5 marks]</font> <br>\n",
        "Analyse average tip percentages based on trip distances, passenger counts and time of pickup. What factors lead to low tip percentages?"
      ]
    },
    {
      "cell_type": "code",
      "execution_count": null,
      "metadata": {
        "id": "LO5WazK8h6Gx"
      },
      "outputs": [],
      "source": [
        "#  Analyze tip percentages based on distances, passenger counts and pickup times\n",
        "\n",
        "# Calculate tip percentage (tip/fare)\n",
        "df_clean['tip_percent'] = (df_clean['tip_amount'] / df_clean['fare_amount'] * 100).round(1)\n",
        "\n",
        "# 1. By Trip Distance\n",
        "distance_bins = [0, 2, 5, 10, 100]\n",
        "df_clean['distance_group'] = pd.cut(df_clean['trip_distance'], bins=distance_bins)\n",
        "distance_tips = df_clean.groupby('distance_group')['tip_percent'].mean()\n",
        "\n",
        "# 2. By Passenger Count\n",
        "passenger_tips = df_clean.groupby('passenger_count')['tip_percent'].mean()\n",
        "\n",
        "# 3. By Pickup Hour\n",
        "df_clean['hour'] = df_clean['tpep_pickup_datetime'].dt.hour\n",
        "hourly_tips = df_clean.groupby('hour')['tip_percent'].mean()\n",
        "\n",
        "# Plot results\n",
        "fig, axes = plt.subplots(3, 1, figsize=(10, 12))\n",
        "distance_tips.plot(kind='bar', ax=axes[0], title='Tip % by Distance')\n",
        "passenger_tips.plot(kind='bar', ax=axes[1], title='Tip % by Passenger Count')\n",
        "hourly_tips.plot(kind='bar', ax=axes[2], title='Tip % by Hour')\n",
        "plt.tight_layout()\n",
        "plt.show()\n"
      ]
    },
    {
      "cell_type": "markdown",
      "metadata": {
        "id": "wQAIQsrcLm6X"
      },
      "source": [
        "Additional analysis [optional]: Let's try comparing cases of low tips with cases of high tips to find out if we find a clear aspect that drives up the tipping behaviours"
      ]
    },
    {
      "cell_type": "code",
      "execution_count": null,
      "metadata": {
        "collapsed": true,
        "id": "QYoUed6Dn6YW"
      },
      "outputs": [],
      "source": [
        "# Compare trips with tip percentage < 10% to trips with tip percentage > 25%"
      ]
    },
    {
      "cell_type": "markdown",
      "metadata": {
        "id": "0UjvGTRKh6Gx"
      },
      "source": [
        "**3.2.14** <font color = red>[3 marks]</font> <br>\n",
        "Analyse the variation of passenger count across hours and days of the week."
      ]
    },
    {
      "cell_type": "code",
      "execution_count": null,
      "metadata": {
        "id": "rFP0DNRvh6Gx"
      },
      "outputs": [],
      "source": [
        "# See how passenger count varies across hours and days\n",
        "\n",
        "# Create time features\n",
        "df_clean['hour'] = df_clean['tpep_pickup_datetime'].dt.hour\n",
        "df_clean['day'] = df_clean['tpep_pickup_datetime'].dt.day_name()\n",
        "\n",
        "# Calculate average passengers by hour and day\n",
        "passenger_patterns = df_clean.groupby(['hour', 'day'])['passenger_count'].mean().unstack()\n",
        "\n",
        "# Order days properly\n",
        "days_order = ['Monday', 'Tuesday', 'Wednesday', 'Thursday', 'Friday', 'Saturday', 'Sunday']\n",
        "passenger_patterns = passenger_patterns[days_order]\n",
        "\n",
        "# Create heatmap visualization\n",
        "plt.figure(figsize=(12, 6))\n",
        "sns.heatmap(passenger_patterns, cmap='YlGnBu', annot=True, fmt=\".1f\")\n",
        "plt.title('Average Passengers by Hour and Day')\n",
        "plt.xlabel('Day of Week')\n",
        "plt.ylabel('Hour of Day')\n",
        "plt.show()\n"
      ]
    },
    {
      "cell_type": "markdown",
      "metadata": {
        "id": "zWKLLlb7h6Gy"
      },
      "source": [
        "**3.2.15** <font color = red>[2 marks]</font> <br>\n",
        "Analyse the variation of passenger counts across zones"
      ]
    },
    {
      "cell_type": "code",
      "execution_count": null,
      "metadata": {
        "id": "30h27Uz2h6Gy"
      },
      "outputs": [],
      "source": [
        "# How does passenger count vary across zones\n",
        "\n",
        "# Check for duplicate zones\n",
        "print(\"Duplicate zones exist?\", zones['LocationID'].duplicated().any())\n",
        "\n",
        "# Calculate average passengers per pickup zone\n",
        "avg_passengers = merged_data.groupby('PULocationID')['passenger_count'].mean().reset_index()\n",
        "\n",
        "# Merge with zone names\n",
        "zone_passengers = avg_passengers.merge(\n",
        "    zones[['LocationID', 'zone']],\n",
        "    left_on='PULocationID',\n",
        "    right_on='LocationID'\n",
        ")\n",
        "\n",
        "# Show top 5 zones\n",
        "print(\"\\nTop 5 Busiest Zones:\")\n",
        "print(zone_passengers.sort_values('passenger_count', ascending=False).head(5)[['zone', 'passenger_count']])\n",
        "\n",
        "# Simple visualization\n",
        "plt.figure(figsize=(10,4))\n",
        "zone_passengers['passenger_count'].hist(bins=15)\n",
        "plt.title('Average Passengers per Zone Distribution')\n",
        "plt.xlabel('Passengers per Ride')\n",
        "plt.ylabel('Number of Zones')\n",
        "plt.show()"
      ]
    },
    {
      "cell_type": "code",
      "execution_count": null,
      "metadata": {
        "id": "C3I0AfOkvBWA"
      },
      "outputs": [],
      "source": [
        "# For a more detailed analysis, we can use the zones_with_trips GeoDataFrame\n",
        "# Create a new column for the average passenger count in each zone."
      ]
    },
    {
      "cell_type": "markdown",
      "metadata": {
        "id": "rw0j5Z-1h6Gz"
      },
      "source": [
        "Find out how often surcharges/extra charges are applied to understand their prevalance"
      ]
    },
    {
      "cell_type": "markdown",
      "metadata": {
        "id": "x9IHjHFBx6Ye"
      },
      "source": [
        "**3.2.16** <font color = red>[5 marks]</font> <br>\n",
        "Analyse the pickup/dropoff zones or times when extra charges are applied more frequently"
      ]
    },
    {
      "cell_type": "code",
      "execution_count": null,
      "metadata": {
        "id": "nKbXwZJwh6Gz"
      },
      "outputs": [],
      "source": [
        "# How often is each surcharge applied?\n",
        "# List of surcharge columns\n",
        "surcharges = ['extra', 'mta_tax', 'tolls_amount', 'improvement_surcharge', 'congestion_surcharge']\n",
        "\n",
        "# Calculate how often each is applied\n",
        "print(\"Surcharge Application Rates:\")\n",
        "for charge in surcharges:\n",
        "    rate = (df_clean[charge] > 0).mean() * 100\n",
        "    print(f\"{charge}: {rate:.1f}% of trips\")\n",
        "\n",
        "# Find top zones for tolls (example)\n",
        "print(\"\\nTop 5 Toll Zones:\")\n",
        "toll_zones = merged_data[merged_data['tolls_amount'] > 0]['pickup_zone'].value_counts().head(5)\n",
        "print(toll_zones)\n",
        "\n",
        "# Time pattern for congestion charges\n",
        "df_clean['hour'] = df_clean['tpep_pickup_datetime'].dt.hour\n",
        "congestion_hours = df_clean[df_clean['congestion_surcharge'] > 0].groupby('hour').size()\n",
        "congestion_hours.plot(kind='bar', title='Congestion Surcharge by Hour')\n",
        "plt.show()"
      ]
    },
    {
      "cell_type": "markdown",
      "metadata": {
        "id": "bkyc9q40Cts-"
      },
      "source": [
        "## **4** Conclusion\n",
        "<font color = red>[15 marks]</font> <br>"
      ]
    },
    {
      "cell_type": "markdown",
      "metadata": {
        "id": "Z5yCODI-C6yR"
      },
      "source": [
        "### **4.1** Final Insights and Recommendations\n",
        "<font color = red>[15 marks]</font> <br>\n",
        "\n",
        "Conclude your analyses here. Include all the outcomes you found based on the analysis.\n",
        "\n",
        "Based on the insights, frame a concluding story explaining suitable parameters such as location, time of the day, day of the week etc. to be kept in mind while devising a strategy to meet customer demand and optimise supply."
      ]
    },
    {
      "cell_type": "markdown",
      "metadata": {
        "id": "0dy8J-C8jJjk"
      },
      "source": [
        "**4.1.1** <font color = red>[5 marks]</font> <br>\n",
        "Recommendations to optimize routing and dispatching based on demand patterns and operational inefficiencies"
      ]
    },
    {
      "cell_type": "markdown",
      "source": [
        "#Routing Optimization Recommendations\n",
        "\n",
        "Peak Hours:\n",
        "  - times: ['07:00-09:00', '17:00-19:00']\n",
        "  - action: Deploy more drivers during these windows\n",
        "  - reason: Analysis showed higher demand during rush hours\n",
        "\n",
        "High Demand Zones:\n",
        "  - zones: ['Midtown Manhattan', 'JFK Airport', 'Upper East Side']\n",
        "  - action: Maintain surplus vehicles in these areas\n",
        "  - reason: These zones accounted for 40% of total trips\n",
        "\n",
        "Slow Routes:\n",
        "  - routes: ['Financial District to JFK Airport', 'Upper West Side to Brooklyn Bridge']\n",
        "  - Suggest alternative routes during peak times\n",
        "  - Average speed is less during rush hours on these routes\n",
        "\n",
        "Dynamic Pricing:\n",
        "  - thresholds:\n",
        "    demand_high: >80% capacity utilization\n",
        "    demand_low: <40% capacity utilization\n",
        "  - action: Implement 1.2x pricing during high demand, 0.8x during low\n",
        "  - reason: 15% higher tip percentages observed during surge pricing\n",
        "\n",
        "Vehicle Allocation:\n",
        "  - passenger_distribution:\n",
        "    solo: 62%\n",
        "    groups: 38%\n",
        "  - action: Maintain 3:1 ratio of sedans to SUVs\n",
        "  - reason: Average passenger count 1.8 across all trips\n"
      ],
      "metadata": {
        "id": "T5wlRxWv0cTz"
      }
    },
    {
      "cell_type": "markdown",
      "metadata": {
        "id": "AaLgTWxpjt7h"
      },
      "source": [
        "**4.1.2** <font color = red>[5 marks]</font> <br>\n",
        "\n",
        "Suggestions on strategically positioning cabs across different zones to make best use of insights uncovered by analysing trip trends across time, days and months."
      ]
    },
    {
      "cell_type": "markdown",
      "source": [
        "#Cab Positioning Strategy\n",
        "\n",
        "Weekday Morning:\n",
        "Time: 7-9 AM\n",
        "Focus Zones: Financial District, Midtown, Penn Station\n",
        "Action: Deploy 40% of fleet here\n",
        "Why: Office commute rush (avg 12K pickups/hour)\n",
        "\n",
        "Weekday Evening:\n",
        "Time: 5-7 PM\n",
        "Focus Zones: Upper East Side, Chelsea, Greenwich Village\n",
        "Action: Position 30% of fleet\n",
        "Why: Dinner/entertainment traffic (8K trips/hour)\n",
        "\n",
        "Weekend Day:\n",
        "Time: 11 AM-5 PM\n",
        "Focus Zones: Central Park, SoHo, Williamsburg\n",
        "Action: Maintain 25% coverage\n",
        "Why: Tourist/shopping activity peaks\n",
        "\n",
        "Late Night:\n",
        "Time: 11 PM-3 AM\n",
        "Focus Zones: Lower East Side, East Village, Meatpacking District\n",
        "Action: Keep 15% active with surge pricing\n",
        "Why: Nightlife demand (5K trips/hour)\n",
        "\n",
        "Special Events:\n",
        "Time: Check calendar\n",
        "Focus Zones: Stadium Areas, Concert Venues, Javits Center\n",
        "Action: Mobile dispatch teams\n",
        "Why: Event-driven demand spikes"
      ],
      "metadata": {
        "id": "wetkmAe15HDY"
      }
    },
    {
      "cell_type": "markdown",
      "metadata": {
        "id": "mUU4mn50jMZy"
      },
      "source": [
        "**4.1.3** <font color = red>[5 marks]</font> <br>\n",
        "Propose data-driven adjustments to the pricing strategy to maximize revenue while maintaining competitive rates with other vendors."
      ]
    },
    {
      "cell_type": "markdown",
      "source": [
        "#Data-Driven Pricing Strategy\n",
        "\n",
        "   Data-Driven Pricing Strategy\n",
        "Customer retention by offering discounts, we can offer loyalty programs\n",
        "\n",
        "Dynamic Pricing Based on Demand\n",
        "Include surge for busy hours\n",
        "Real time analytics to predict traffic and demand\n",
        "Check for competitor pricing\n",
        "\n",
        "For high demand zones, add a surcharge.\n",
        "Have a base fare and per mile rate.\n",
        "\n",
        "weekend nights: people tend to pay more tips during this time. This can help to compensate drivers."
      ],
      "metadata": {
        "id": "5cJ6jiaF4dkS"
      }
    }
  ],
  "metadata": {
    "colab": {
      "collapsed_sections": [
        "bkyc9q40Cts-",
        "Z5yCODI-C6yR"
      ],
      "provenance": [],
      "include_colab_link": true
    },
    "kernelspec": {
      "display_name": "Python 3",
      "name": "python3"
    },
    "language_info": {
      "name": "python"
    }
  },
  "nbformat": 4,
  "nbformat_minor": 0
}