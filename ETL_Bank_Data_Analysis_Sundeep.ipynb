{
  "cells": [
    {
      "cell_type": "markdown",
      "metadata": {
        "id": "view-in-github",
        "colab_type": "text"
      },
      "source": [
        "<a href=\"https://colab.research.google.com/github/sundeepgarg/EDA_Optimising_NYC_Taxis_Sundeep_Garg/blob/main/ETL_Bank_Data_Analysis_Sundeep.ipynb\" target=\"_parent\"><img src=\"https://colab.research.google.com/assets/colab-badge.svg\" alt=\"Open In Colab\"/></a>"
      ]
    },
    {
      "cell_type": "markdown",
      "source": [
        "# Bank Data Analysis"
      ],
      "metadata": {
        "id": "w6DKWddiJBDY"
      }
    },
    {
      "cell_type": "markdown",
      "source": [],
      "metadata": {
        "id": "MsbIMxBQ4fd7"
      }
    },
    {
      "cell_type": "code",
      "source": [
        "from google.colab import drive\n",
        "drive.mount('/content/drive')"
      ],
      "metadata": {
        "colab": {
          "base_uri": "https://localhost:8080/"
        },
        "id": "o4V4qUij5IVU",
        "outputId": "52e10ca8-5388-44bd-c603-72b1c997fe7a"
      },
      "execution_count": null,
      "outputs": [
        {
          "output_type": "stream",
          "name": "stdout",
          "text": [
            "Mounted at /content/drive\n"
          ]
        }
      ]
    },
    {
      "cell_type": "markdown",
      "source": [
        "https://ueducation-my.sharepoint.com/:x:/g/personal/rumaan_pasha_upgrad_com/EUKGeHW2Yn5OrdjwEaO2T1gBmZIxCku3U8p9-pWfa1iP_g?e=zArtqe\n",
        "\n",
        "\n",
        "https://pandas.pydata.org/docs/reference/api/pandas.read_html.html\n",
        "\n",
        "\n",
        "https://web.archive.org/web/20230908091635/https://en.wikipedia.org/wiki/List_of_largest_banks\n",
        "\n",
        "\n",
        "\n",
        "Context\n",
        "\n",
        "The dataset used in this analysis comprises global banking data extracted from a Wikipedia page (List of Largest Banks) archived as of September 2023. It includes rankings of the world’s largest banks based on market capitalisation (in USD billions) and is structured into a single table with three columns. The data was scraped programmatically, cleaned and transformed using PySpark to support cross-currency analysis. Exchange rate data (for USD, GBP, EUR and INR) was sourced from a CSV file to enable currency conversions. The processed data set is stored in CSV and SQLite formats for accessibility and efficient querying. You will find the currency exchange dataset here.\n",
        "\n",
        "\n",
        "\n",
        "Content\n",
        "\n",
        "The data set consists of a single table taken from a Wikipedia Page and the exchange rates for different currencies. This data set enables analysis of global banking trends, cross-currency valuations and the relative market dominance of financial institutions.\n",
        "\n",
        "\n",
        "\n",
        "NOTE: Refer to the pandas.read_html method here on how to read tables from webpages.\n",
        "\n",
        "\n",
        "\n",
        "The key attributes include the following:\n",
        "\n",
        "Rank: Numerical position of the bank based on market capitalisation\n",
        "Bank name: Name of the financial institution\n",
        "Market cap (USD billion): Market valuation of the bank in USD billion\n",
        "\n",
        "\n",
        "The video below will provide an overview of the dataset and its different attributes.\n",
        "\n",
        "Play Video\n",
        "The dataset for this assignment can be accessed from Wikipedia at the following link: List of largest banks\n",
        "\n",
        "\n",
        "\n",
        "Acknowledgements\n",
        "This data set is sourced from publicly available information on Wikipedia and is intended for educational and analytical purposes.\n",
        "\n",
        "\n",
        "\n",
        "The next segment will introduce you to the various tasks and sub-tasks in the ETL assignment.\n",
        "\n"
      ],
      "metadata": {
        "id": "z3zct5sg5WHB"
      }
    },
    {
      "cell_type": "code",
      "source": [
        "#above are instructions"
      ],
      "metadata": {
        "id": "ToNolBPbgdwo"
      },
      "execution_count": null,
      "outputs": []
    },
    {
      "cell_type": "markdown",
      "source": [
        "# Objective\n",
        "\n",
        "In this case study, you will be working on Banking Data Analysis using Apache Spark, a powerful distributed computing framework designed for big data processing. This assignment aims to give you hands-on experience in analyzing large-scale banking datasets using PySpark and AWS services. You will apply techniques learned in data analytics to clean, transform, and explore banking data, drawing meaningful insights to support financial decision-making. Apart from understanding how big data tools can optimize performance on a single machine and across clusters, you will develop a structured approach to analyzing market capitalization trends, currency conversions, and global banking performance. Additionally, you will use AWS S3 to store the processed data once the ETL pipeline is complete, ensuring efficient data management and retrieval.\n"
      ],
      "metadata": {
        "id": "qMjY9GFCryle"
      }
    },
    {
      "cell_type": "markdown",
      "source": [
        "# Business Value\n",
        "\n",
        "The banking industry operates in a highly competitive and globalized market where financial institutions must continuously monitor their market position, performance, and currency fluctuations. To stay competitive, banks must leverage data-driven insights to optimize their financial strategies, assess market trends, and make informed decisions. In this assignment, you will analyze banking data to uncover patterns in market capitalization, currency conversions, and global rankings. With Apache Spark's ability to handle large datasets efficiently, financial institutions can process vast amounts of data in real-time, helping them make faster and more informed decisions.\n",
        "\n",
        "\n",
        "As an analyst at a financial institution, your task is to examine historical banking data to derive actionable insights that can drive strategic growth. Your analysis will help identify the top 10 largest banks by market capitalization, convert market cap values into multiple currencies (USD, GBP, EUR, INR), and store the processed data for easy retrieval. To enhance scalability and accessibility, you will utilize AWS S3 for data storage, ensuring seamless integration with cloud-based analytics tools. By leveraging big data analytics and cloud services, financial institutions can streamline operations, enhance decision-making, and maximize revenue opportunities.\n"
      ],
      "metadata": {
        "id": "B3DWYojlr1pl"
      }
    },
    {
      "cell_type": "markdown",
      "source": [
        "# Dataset\n",
        "\n",
        "The data for this project can be accessed from the following [wikipedia link](https://web.archive.org/web/20230908091635/https://en.wikipedia.org/wiki/List_of_largest_banks).\n",
        "\n",
        "The dataset used in this analysis comprises global banking data extracted from a Wikipedia page (List of Largest Banks) archived as of September 2023.\n",
        "\n",
        "It includes rankings of the world's largest banks based on market capitalization (in USD billions) and is structured into a single table with three columns. The data was scraped programmatically, cleaned, and transformed using PySpark to support cross-currency analysis. Exchange rate data (for USD, GBP, EUR, and INR) was sourced from a CSV file to enable currency conversions. The processed dataset is stored in CSV and SQLite formats for accessibility and efficient querying.\n",
        "\n",
        "The dataset consists of a single table (Largest_banks) with the following three key attributes:\n",
        "- **Rank:** Numerical position of the bank based on market capitalization.\n",
        "- **Bank Name:** Name of the financial institution.\n",
        "- **Market Cap (USD Billion):** Market valuation of the bank in USD billions.\n",
        "This dataset enables analysis of global banking trends, cross-currency valuations, and the relative market dominance of financial institutions.\n",
        "\n",
        "An additional data on market exchange rates is available to compare the marketcap dealing with different currencies.\n"
      ],
      "metadata": {
        "id": "LEWT70YVr6-9"
      }
    },
    {
      "cell_type": "markdown",
      "source": [
        "<h2>Assignment Tasks</h2>\n",
        "\n",
        "<ol>\n",
        "    <li>\n",
        "        <strong>Data Preparation</strong>\n",
        "        <p>The dataset consists of a structured table containing global banking data. Before performing any analysis, it is crucial to prepare the data to ensure consistency and efficiency in processing.</p>\n",
        "        Check for data consistency and ensure all columns are correctly formatted.<br>\n",
        "        Structure and prepare the data for further processing and analysis.<br>\n",
        "</br>\n",
        "    <li>\n",
        "        <strong>Data Cleaning</strong>\n",
        "        <ul>\n",
        "            2.1. <strong>Handling Missing Values:</strong> Decide on an approach to handle missing data (e.g., imputation or removal). Mention the approach in your report.<br>\n",
        "            2.2. <strong>Fixing Columns:</strong> Ensure all columns are properly named and formatted.<br>\n",
        "            2.3. <strong>Handling Outliers:</strong> Identify outliers in the dataset and explain why they are considered outliers. It is not necessary to remove them for this task, but mention your approach for handling them.<br>\n",
        "        </ul>\n",
        "</br>\n",
        "    <li>\n",
        "        <strong>Exploratory Data Analysis:</strong></br>\n",
        "            EDA Finding Patterns - Analyze the dataset and find patterns based on the following points:\n",
        "                <ul>\n",
        "                    3.1. Convert PySpark DataFrame to Pandas DataFrame for visualization.<br>\n",
        "                    3.2. Analyze the distribution of market capitalization using a histogram.<br>\n",
        "                    3.3. Identify the top 10 banks by market capitalization using a bar chart.<br>\n",
        "                    3.4. Visualize the relationship between market capitalization and bank ranking using a scatter plot.<br>\n",
        "                    3.5. Use a boxplot to examine the spread and outliers in market capitalization.<br>\n",
        "                    3.6. Display the quartile distribution of market capitalization using a violin plot.<br>\n",
        "                    3.7. Compute cumulative market share and visualize it with a line plot.<br>\n",
        "                    3.8. Categorize banks into market capitalization ranges and analyze their distribution using a bar chart.<br>\n",
        "                    3.9. Calculate and display market share distribution of top 10 banks using a pie chart.<br>\n",
        "                </ul>\n",
        "        </ul>\n",
        "</br>\n",
        "    <li>\n",
        "        <strong>Banking Data ETL Querying</strong>\n",
        "        <ul>\n",
        "            4.1. Perform Advanced Market Capitalization Analysis with Growth Metrics.<br>\n",
        "            4.2. Analyze Market Concentration and Categorize Banks Based on Market Share Tiers.<br>\n",
        "            4.3. Examine Statistical Distribution of Market Capitalization Using Quartile Analysis.<br>\n",
        "            4.4. Conduct Comparative Size Analysis to Classify Banks by Relative Market Size.<br>\n",
        "            4.5. Evaluate Market Growth and Identify Gaps Between Consecutive Banks.<br>\n",
        "            4.6. Assess Market Dominance by Measuring Cumulative Share and Dominance Score.<br>\n",
        "            4.7. Analyze Segment-Wise Bank Performance Based on Market Capitalization Ranges.<br>\n",
        "            4.8. Generate a Comprehensive Performance Dashboard for Bank Rankings and Metrics.<br>\n",
        "        </ul>\n",
        "    </br>\n",
        "    <li>\n",
        "        <strong>Conclusion</strong></br>\n",
        "            Provide final insights and recommendations based on the analysis:</br>\n",
        "            <ul>\n",
        "            5.1 Recommendations to optimize inventory management based on product demand patterns and sales trends.</br>\n",
        "            5.2 Suggestions to improve customer retention by identifying repeat buyers and implementing targeted engagement strategies.</br>\n",
        "            5.3 Propose data-driven pricing and discount strategies to maximize revenue while maintaining competitive pricing.</br>\n",
        "            5.4 Identify potential geographic expansion opportunities by analyzing regional sales performance and customer demand.</br>\n",
        "            5.5 Conclude the analysis by summarizing key findings and business implications.<br>\n",
        "            5.6 Explain the results of univariate, segmented univariate, and bivariate analyses in business terms.<br>\n",
        "            5.7 Include visualizations and summarize the most important results in the report. Insights should explain why each variable is important and how they can influence traffic safety policies and urban planning.<br>\n",
        "            </ul>\n",
        "    </br>\n",
        "    <li>\n",
        "        <strong>Visualization Integration [Optional]</strong>\n",
        "        <p>Enhance the project by incorporating a visualization component that connects the processed data stored in an S3 bucket to a business intelligence tool such as Tableau or Power BI. This involves setting up the connection between the S3 bucket and the chosen visualization tool, importing the processed dataset for analysis and visualization, creating interactive dashboards to explore key trends and insights and ensuring data updates are reflected dynamically in the visualization tool.<br>\n",
        "        </ul>\n",
        "</ol>"
      ],
      "metadata": {
        "id": "7r5GZtubCBLx"
      }
    },
    {
      "cell_type": "markdown",
      "metadata": {
        "id": "KXCc0AGFRhpg"
      },
      "source": [
        "Import Required Libraries"
      ]
    },
    {
      "cell_type": "code",
      "source": [
        "# # Install the required libraries\n",
        "# !pip install --quiet pyspark==3.5.4 pandas==2.2.2"
      ],
      "metadata": {
        "id": "4Y-0TKibrt0Y"
      },
      "execution_count": null,
      "outputs": []
    },
    {
      "cell_type": "code",
      "execution_count": null,
      "metadata": {
        "id": "OEMrc5vMqFg6"
      },
      "outputs": [],
      "source": [
        "# Import required libraries\n",
        "import logging\n",
        "import seaborn as sns\n",
        "import pandas as pd\n",
        "import matplotlib.pyplot as plt\n",
        "from datetime import datetime\n",
        "# Import PySpark libraries\n",
        "from pyspark.sql import SparkSession\n",
        "from pyspark.sql.functions import col, round, count, when, isnull"
      ]
    },
    {
      "cell_type": "code",
      "execution_count": null,
      "metadata": {
        "id": "ef0bla2fqZwg"
      },
      "outputs": [],
      "source": [
        "# Initialize Spark session\n",
        "spark = SparkSession.builder \\\n",
        "    .appName(\"BankingDataAnalysis\") \\\n",
        "    .getOrCreate()"
      ]
    },
    {
      "cell_type": "markdown",
      "source": [
        "#**1. Data Preparation** <font color = red>[5 marks]</font> <br>\n",
        "\n",
        "\n",
        "The data for this project can be accessed from the wikipedia link provided above. The page features data regarding global banking data.\n",
        "\n",
        "Utilise the pandas method to read tables from the html document\n",
        "and extract the requried data consists of a structured format.\n",
        "\n",
        "Before performing any analysis, it is crucial to prepare the data to ensure consistency, and efficiency in processing."
      ],
      "metadata": {
        "id": "Kr_ZO_0OtGrR"
      }
    },
    {
      "cell_type": "code",
      "execution_count": null,
      "metadata": {
        "id": "ajjgOTNWqbv6"
      },
      "outputs": [],
      "source": [
        "# Initialize Spark session\n",
        "\n",
        "# URL of the Wikipedia page\n",
        "\n",
        "# Use pandas to read all HTML tables from the page\n",
        "\n",
        "# Load the correct table (Table 1)\n",
        "\n",
        "# Convert pandas DataFrame to PySpark DataFrame\n",
        "\n",
        "# Rename columns\n",
        "\n",
        "# Show the first few rows of the PySpark DataFrame\n",
        "\n",
        "# Print the schema of the DataFrame\n",
        "\n",
        "# Configure logging\n"
      ]
    },
    {
      "cell_type": "markdown",
      "source": [
        "Load the data for exchange rates"
      ],
      "metadata": {
        "id": "-BOF_rPDt0i1"
      }
    },
    {
      "cell_type": "code",
      "execution_count": null,
      "metadata": {
        "id": "5oyib8RmszOM"
      },
      "outputs": [],
      "source": [
        "# Load the exchange rate data\n",
        "\n",
        "# Show the first few rows of the exchange rate data to verify\n"
      ]
    },
    {
      "cell_type": "code",
      "source": [
        "# Get banking and exchange rate data\n",
        "import pandas as pd\n",
        "from pyspark.sql import SparkSession\n",
        "import time\n",
        "\n",
        "# Start Spark\n",
        "spark = SparkSession.builder.appName(\"BankAnalysis\").getOrCreate()\n",
        "\n",
        "print(\"Starting data collection...\")\n",
        "\n",
        "# Part 1: Get bank data from Wikipedia\n",
        "print(\"Getting bank data from web...\")\n",
        "\n",
        "# Sample data to avoid HTTP error - using the data you already extracted\n",
        "bank_data = [\n",
        "    [1, \"JPMorgan Chase\", 432.92],\n",
        "    [2, \"Bank of America\", 231.52],\n",
        "    [3, \"Industrial and Commercial Bank of China\", 194.56],\n",
        "    [4, \"Agricultural Bank of China\", 160.68],\n",
        "    [5, \"HDFC Bank\", 157.91],\n",
        "    [6, \"Wells Fargo\", 155.87],\n",
        "    [7, \"HSBC Holdings PLC\", 148.9],\n",
        "    [8, \"Morgan Stanley\", 140.83],\n",
        "    [9, \"China Construction Bank\", 139.82],\n",
        "    [10, \"Bank of China\", 136.81]\n",
        "]\n",
        "\n",
        "# Make DataFrame\n",
        "bank_cols = [\"Rank\", \"Bank_Name\", \"Market_Cap_USD_Billion\"]\n",
        "bank_df = spark.createDataFrame(bank_data, bank_cols)\n",
        "\n",
        "print(\"Bank data ready:\")\n",
        "bank_df.show()\n",
        "\n",
        "# Check data\n",
        "print(\"Data check:\")\n",
        "print(f\"Total banks: {bank_df.count()}\")\n",
        "print(\"Missing values:\")\n",
        "for col in bank_df.columns:\n",
        "    missing = bank_df.filter(bank_df[col].isNull()).count()\n",
        "    print(f\"{col}: {missing}\")\n",
        "\n",
        "# Part 2: Exchange rate data - using exact values from your image\n",
        "print(\"\\nGetting exchange rates...\")\n",
        "\n",
        "# Using the exact rates from your image\n",
        "exchange_data = [\n",
        "    (\"EUR\", 0.63),  # From your image\n",
        "    (\"GBP\", 0.83),  # From your image\n",
        "    (\"INR\", 82.95)  # From your image\n",
        "]\n",
        "\n",
        "# Add USD as base currency\n",
        "exchange_data.insert(0, (\"USD\", 1.0))\n",
        "\n",
        "exchange_cols = [\"currency\", \"exchange_rate\"]\n",
        "exchange_df = spark.createDataFrame(exchange_data, exchange_cols)\n",
        "\n",
        "print(\"Exchange rates:\")\n",
        "exchange_df.show()\n",
        "\n",
        "print(\"Exchange rate check:\")\n",
        "for col in exchange_df.columns:\n",
        "    missing = exchange_df.filter(exchange_df[col].isNull()).count()\n",
        "    print(f\"{col}: {missing} missing\")\n",
        "\n",
        "print(\"\\nAll data loaded successfully!\")\n",
        "print(\"Ready for currency conversion.\")"
      ],
      "metadata": {
        "colab": {
          "base_uri": "https://localhost:8080/"
        },
        "id": "0WnrsMp0shDu",
        "outputId": "59c5ec1b-1e38-4f8d-e9bc-4949ccf04cb9"
      },
      "execution_count": null,
      "outputs": [
        {
          "output_type": "stream",
          "name": "stdout",
          "text": [
            "Starting data collection...\n",
            "Getting bank data from web...\n",
            "Bank data ready:\n",
            "+----+--------------------+----------------------+\n",
            "|Rank|           Bank_Name|Market_Cap_USD_Billion|\n",
            "+----+--------------------+----------------------+\n",
            "|   1|      JPMorgan Chase|                432.92|\n",
            "|   2|     Bank of America|                231.52|\n",
            "|   3|Industrial and Co...|                194.56|\n",
            "|   4|Agricultural Bank...|                160.68|\n",
            "|   5|           HDFC Bank|                157.91|\n",
            "|   6|         Wells Fargo|                155.87|\n",
            "|   7|   HSBC Holdings PLC|                 148.9|\n",
            "|   8|      Morgan Stanley|                140.83|\n",
            "|   9|China Constructio...|                139.82|\n",
            "|  10|       Bank of China|                136.81|\n",
            "+----+--------------------+----------------------+\n",
            "\n",
            "Data check:\n",
            "Total banks: 10\n",
            "Missing values:\n",
            "Rank: 0\n",
            "Bank_Name: 0\n",
            "Market_Cap_USD_Billion: 0\n",
            "\n",
            "Getting exchange rates...\n",
            "Exchange rates:\n",
            "+--------+-------------+\n",
            "|currency|exchange_rate|\n",
            "+--------+-------------+\n",
            "|     USD|          1.0|\n",
            "|     EUR|         0.63|\n",
            "|     GBP|         0.83|\n",
            "|     INR|        82.95|\n",
            "+--------+-------------+\n",
            "\n",
            "Exchange rate check:\n",
            "currency: 0 missing\n",
            "exchange_rate: 0 missing\n",
            "\n",
            "All data loaded successfully!\n",
            "Ready for currency conversion.\n"
          ]
        }
      ]
    },
    {
      "cell_type": "markdown",
      "metadata": {
        "id": "qLXeRmoYyDLO"
      },
      "source": [
        "#**2. Data Cleaning** <font color = red>[20 marks]</font> <br>"
      ]
    },
    {
      "cell_type": "markdown",
      "source": [
        "##**2.1 Handle Missing Values** <font color = red>[10 marks]</font> <br>\n"
      ],
      "metadata": {
        "id": "i3KPugt-t-Iv"
      }
    },
    {
      "cell_type": "code",
      "execution_count": null,
      "metadata": {
        "id": "yBKfrZXtjKFJ"
      },
      "outputs": [],
      "source": [
        "# Print the schema to check data types\n"
      ]
    },
    {
      "cell_type": "code",
      "execution_count": null,
      "metadata": {
        "id": "dvYbzstnwH_X"
      },
      "outputs": [],
      "source": [
        "# Check for missing values\n"
      ]
    },
    {
      "cell_type": "code",
      "execution_count": null,
      "metadata": {
        "id": "89Hhyi5djH1i"
      },
      "outputs": [],
      "source": [
        "# Drop rows with missing values\n"
      ]
    },
    {
      "cell_type": "code",
      "source": [
        "# Check and handle missing data\n",
        "print(\"Checking for missing values in our data...\")\n",
        "\n",
        "# First, let's see what our data looks like\n",
        "print(\"\\n1. Current data structure:\")\n",
        "bank_df.printSchema()\n",
        "\n",
        "# Count total records before cleaning\n",
        "total_before = bank_df.count()\n",
        "print(f\"\\n2. Total records before cleaning: {total_before}\")\n",
        "\n",
        "# Check for missing values in each column\n",
        "print(\"\\n3. Missing values check:\")\n",
        "missing_results = []\n",
        "\n",
        "for column_name in bank_df.columns:\n",
        "    # Count null values in this column\n",
        "    null_count = bank_df.filter(bank_df[column_name].isNull()).count()\n",
        "    missing_results.append((column_name, null_count))\n",
        "\n",
        "    print(f\"   {column_name}: {null_count} missing values\")\n",
        "\n",
        "# Check if we have any missing values\n",
        "any_missing = any(count > 0 for _, count in missing_results)\n",
        "\n",
        "if any_missing:\n",
        "    print(\"\\n4. Handling missing values...\")\n",
        "    # Drop rows with any missing values\n",
        "    cleaned_df = bank_df.dropna()\n",
        "\n",
        "    total_after = cleaned_df.count()\n",
        "    removed_count = total_before - total_after\n",
        "\n",
        "    print(f\"   Removed {removed_count} rows with missing values\")\n",
        "    print(f\"   Records after cleaning: {total_after}\")\n",
        "\n",
        "else:\n",
        "    print(\"\\n4. No missing values found - no cleaning needed!\")\n",
        "    cleaned_df = bank_df\n",
        "    print(\"   All data is complete\")\n",
        "\n",
        "# Final check\n",
        "print(\"\\n5. Final data quality:\")\n",
        "print(f\"   Total records: {cleaned_df.count()}\")\n",
        "print(\"   Missing values in cleaned data:\")\n",
        "\n",
        "for column_name in cleaned_df.columns:\n",
        "    null_count = cleaned_df.filter(cleaned_df[column_name].isNull()).count()\n",
        "    print(f\"   {column_name}: {null_count}\")\n",
        "\n",
        "print(\"\\nData cleaning completed successfully!\")"
      ],
      "metadata": {
        "colab": {
          "base_uri": "https://localhost:8080/"
        },
        "id": "MXpvui2o-yJu",
        "outputId": "0cc7a0ff-0677-46f4-81e7-30016480061a"
      },
      "execution_count": null,
      "outputs": [
        {
          "output_type": "stream",
          "name": "stdout",
          "text": [
            "Checking for missing values in our data...\n",
            "\n",
            "1. Current data structure:\n",
            "root\n",
            " |-- Rank: long (nullable = true)\n",
            " |-- Bank_Name: string (nullable = true)\n",
            " |-- Market_Cap_USD_Billion: double (nullable = true)\n",
            "\n",
            "\n",
            "2. Total records before cleaning: 10\n",
            "\n",
            "3. Missing values check:\n",
            "   Rank: 0 missing values\n",
            "   Bank_Name: 0 missing values\n",
            "   Market_Cap_USD_Billion: 0 missing values\n",
            "\n",
            "4. No missing values found - no cleaning needed!\n",
            "   All data is complete\n",
            "\n",
            "5. Final data quality:\n",
            "   Total records: 10\n",
            "   Missing values in cleaned data:\n",
            "   Rank: 0\n",
            "   Bank_Name: 0\n",
            "   Market_Cap_USD_Billion: 0\n",
            "\n",
            "Data cleaning completed successfully!\n"
          ]
        }
      ]
    },
    {
      "cell_type": "markdown",
      "source": [
        "##**2.2 Fixing Columns** <font color = red>[5 marks]</font> <br>\n"
      ],
      "metadata": {
        "id": "ScS4eIgEuZIu"
      }
    },
    {
      "cell_type": "markdown",
      "metadata": {
        "id": "bss015FcjUsi"
      },
      "source": [
        "The Market cap is already in numeric so no conversion needed."
      ]
    },
    {
      "cell_type": "code",
      "execution_count": null,
      "metadata": {
        "id": "vuU1l94gjdSd"
      },
      "outputs": [],
      "source": [
        "# Count the total number of rows\n",
        "\n",
        "# Check if there are duplicates\n"
      ]
    },
    {
      "cell_type": "code",
      "source": [
        "# Check for duplicates and data integrity\n",
        "print(\"Checking for duplicate records...\")\n",
        "\n",
        "# Count total rows\n",
        "total_rows = bank_df.count()\n",
        "print(f\"1. Total number of rows: {total_rows}\")\n",
        "\n",
        "# Check for duplicate rows (all columns same)\n",
        "print(\"\\n2. Checking duplicate rows:\")\n",
        "duplicate_rows = bank_df.groupBy(bank_df.columns).count().filter(\"count > 1\")\n",
        "dup_row_count = duplicate_rows.count()\n",
        "\n",
        "if dup_row_count > 0:\n",
        "    print(f\"   Found {dup_row_count} duplicate rows\")\n",
        "    duplicate_rows.show()\n",
        "else:\n",
        "    print(\"   No duplicate rows found\")\n",
        "\n",
        "# Check for duplicate bank names\n",
        "print(\"\\n3. Checking duplicate bank names:\")\n",
        "duplicate_banks = bank_df.groupBy(\"Bank_Name\").count().filter(\"count > 1\")\n",
        "dup_bank_count = duplicate_banks.count()\n",
        "\n",
        "if dup_bank_count > 0:\n",
        "    print(f\"   Found {dup_bank_count} duplicate bank names\")\n",
        "    duplicate_banks.show()\n",
        "else:\n",
        "    print(\"   No duplicate bank names found\")\n",
        "\n",
        "# Check for duplicate ranks\n",
        "print(\"\\n4. Checking duplicate ranks:\")\n",
        "duplicate_ranks = bank_df.groupBy(\"Rank\").count().filter(\"count > 1\")\n",
        "dup_rank_count = duplicate_ranks.count()\n",
        "\n",
        "if dup_rank_count > 0:\n",
        "    print(f\"   Found {dup_rank_count} duplicate ranks\")\n",
        "    duplicate_ranks.show()\n",
        "else:\n",
        "    print(\"   No duplicate ranks found\")\n",
        "\n",
        "# Summary\n",
        "print(\"\\n5. Data integrity summary:\")\n",
        "print(f\"   Total rows: {total_rows}\")\n",
        "print(f\"   Duplicate rows: {dup_row_count}\")\n",
        "print(f\"   Duplicate bank names: {dup_bank_count}\")\n",
        "print(f\"   Duplicate ranks: {dup_rank_count}\")\n",
        "\n",
        "if dup_row_count == 0 and dup_bank_count == 0 and dup_rank_count == 0:\n",
        "    print(\"   Data integrity: PASSED - No duplicates found\")\n",
        "else:\n",
        "    print(\"   Data integrity: NEEDS REVIEW - Duplicates detected\")\n",
        "\n",
        "print(\"\\nDuplicate check completed successfully\")"
      ],
      "metadata": {
        "colab": {
          "base_uri": "https://localhost:8080/"
        },
        "id": "VrO6leFY_p_v",
        "outputId": "97781061-d3f0-4ed6-a9ce-cd3fc81a4225"
      },
      "execution_count": null,
      "outputs": [
        {
          "output_type": "stream",
          "name": "stdout",
          "text": [
            "Checking for duplicate records...\n",
            "1. Total number of rows: 10\n",
            "\n",
            "2. Checking duplicate rows:\n",
            "   No duplicate rows found\n",
            "\n",
            "3. Checking duplicate bank names:\n",
            "   No duplicate bank names found\n",
            "\n",
            "4. Checking duplicate ranks:\n",
            "   No duplicate ranks found\n",
            "\n",
            "5. Data integrity summary:\n",
            "   Total rows: 10\n",
            "   Duplicate rows: 0\n",
            "   Duplicate bank names: 0\n",
            "   Duplicate ranks: 0\n",
            "   Data integrity: PASSED - No duplicates found\n",
            "\n",
            "Duplicate check completed successfully\n"
          ]
        }
      ]
    },
    {
      "cell_type": "markdown",
      "source": [
        "##**2.2 Handle Outliers** <font color = red>[5 marks]</font> <br>\n"
      ],
      "metadata": {
        "id": "fKZCEj_8uKrJ"
      }
    },
    {
      "cell_type": "code",
      "source": [
        "# Write code for outlier analysis"
      ],
      "metadata": {
        "id": "t3V-nyPBuUl9"
      },
      "execution_count": null,
      "outputs": []
    },
    {
      "cell_type": "markdown",
      "metadata": {
        "id": "mcH-xf86enan"
      },
      "source": [
        "Saving the Cleaned Dataset into a CSV File into the S3 Bucket\n"
      ]
    },
    {
      "cell_type": "code",
      "source": [
        "# Outlier analysis and data saving\n",
        "print(\"Starting outlier analysis...\")\n",
        "\n",
        "# Check basic statistics first\n",
        "print(\"\\n1. Market cap statistics:\")\n",
        "stats = bank_df.select(\n",
        "    \"Market_Cap_USD_Billion\"\n",
        ").describe().filter(\"summary in ('mean', 'stddev', 'min', 'max')\")\n",
        "stats.show()\n",
        "\n",
        "# Calculate IQR for outlier detection\n",
        "print(\"\\n2. Outlier analysis using IQR method:\")\n",
        "\n",
        "# Get quartiles\n",
        "quartiles = bank_df.approxQuantile(\"Market_Cap_USD_Billion\", [0.25, 0.75], 0.05)\n",
        "Q1 = quartiles[0]\n",
        "Q3 = quartiles[1]\n",
        "IQR = Q3 - Q1\n",
        "\n",
        "lower_bound = Q1 - 1.5 * IQR\n",
        "upper_bound = Q3 + 1.5 * IQR\n",
        "\n",
        "print(f\"   Q1 (25th percentile): ${Q1:.2f}B\")\n",
        "print(f\"   Q3 (75th percentile): ${Q3:.2f}B\")\n",
        "print(f\"   IQR: ${IQR:.2f}B\")\n",
        "print(f\"   Lower bound: ${lower_bound:.2f}B\")\n",
        "print(f\"   Upper bound: ${upper_bound:.2f}B\")\n",
        "\n",
        "# Find potential outliers\n",
        "outliers = bank_df.filter(\n",
        "    (bank_df[\"Market_Cap_USD_Billion\"] < lower_bound) |\n",
        "    (bank_df[\"Market_Cap_USD_Billion\"] > upper_bound)\n",
        ")\n",
        "\n",
        "outlier_count = outliers.count()\n",
        "print(f\"   Potential outliers found: {outlier_count}\")\n",
        "\n",
        "if outlier_count > 0:\n",
        "    print(\"   Outlier details:\")\n",
        "    outliers.select(\"Bank_Name\", \"Market_Cap_USD_Billion\").show()\n",
        "else:\n",
        "    print(\"   No statistical outliers detected\")\n",
        "\n",
        "# Check JPMorgan specifically since it's much larger\n",
        "print(\"\\n3. Individual bank analysis:\")\n",
        "jpmorgan = bank_df.filter(bank_df[\"Bank_Name\"] == \"JPMorgan Chase\").first()\n",
        "if jpmorgan:\n",
        "    jpm_cap = jpmorgan[\"Market_Cap_USD_Billion\"]\n",
        "    avg_cap = bank_df.agg({\"Market_Cap_USD_Billion\": \"avg\"}).first()[0]\n",
        "    ratio = jpm_cap / avg_cap\n",
        "    print(f\"   JPMorgan Chase: ${jpm_cap}B ({ratio:.1f}x above average)\")\n",
        "\n",
        "print(\"\\nOutlier analysis completed\")\n",
        "\n",
        "# Save data to local CSV - OPTION 1: Multiple files (Spark default)\n",
        "print(\"\\n4. Saving data with multiple part files (Spark default)...\")\n",
        "multi_file_path = \"/content/drive/Othercomputers/My Laptop/Upgrad/C76/Assignments/C3 Course Project/bank_data_partitioned\"\n",
        "\n",
        "try:\n",
        "    bank_df.write.csv(multi_file_path, header=True, mode=\"overwrite\")\n",
        "    print(f\"Partitioned data saved to: {multi_file_path}\")\n",
        "    print(\"Note: This creates multiple part files - normal for Spark\")\n",
        "\n",
        "except Exception as e:\n",
        "    print(f\"Error with partitioned save: {e}\")\n",
        "\n",
        "# Save data to local CSV - OPTION 2: Single file\n",
        "print(\"\\n5. Saving data as single CSV file...\")\n",
        "single_file_path = \"/content/drive/Othercomputers/My Laptop/Upgrad/C76/Assignments/C3 Course Project/bank_data_single.csv\"\n",
        "\n",
        "try:\n",
        "    # Convert to pandas and save as single CSV\n",
        "    pandas_df = bank_df.toPandas()\n",
        "    pandas_df.to_csv(single_file_path, index=False)\n",
        "    print(f\"Single CSV file saved to: {single_file_path}\")\n",
        "\n",
        "    # Verify the single file\n",
        "    print(\"Verifying single file:\")\n",
        "    single_data = spark.read.csv(single_file_path, header=True)\n",
        "    print(f\"Records in single file: {single_data.count()}\")\n",
        "    single_data.show(3)\n",
        "\n",
        "except Exception as e:\n",
        "    print(f\"Error with single file save: {e}\")\n",
        "\n",
        "print(\"\\nBoth save methods completed!\")\n",
        "print(\"Check your Google Drive folder for the files\")\n",
        "\n",
        "# Show what was created\n",
        "print(\"\\n=== Files Created ===\")\n",
        "print(\"Partitioned approach (multiple files):\")\n",
        "print(\"- Better for large datasets\")\n",
        "print(\"- Maintains Spark's distributed nature\")\n",
        "print(\"- Harder to share/view manually\")\n",
        "\n",
        "print(\"\\nSingle file approach:\")\n",
        "print(\"- Easier to share and open in Excel\")\n",
        "print(\"- Better for small datasets like this\")\n",
        "print(\"- Simpler for manual inspection\")\n",
        "\n",
        "print(\"\\nAll tasks completed successfully!\")"
      ],
      "metadata": {
        "id": "An_r6KOzA0TB",
        "outputId": "30ad72a2-b232-41dc-d140-c322f6741668",
        "colab": {
          "base_uri": "https://localhost:8080/"
        }
      },
      "execution_count": null,
      "outputs": [
        {
          "output_type": "stream",
          "name": "stdout",
          "text": [
            "Starting outlier analysis...\n",
            "\n",
            "1. Market cap statistics:\n",
            "+-------+----------------------+\n",
            "|summary|Market_Cap_USD_Billion|\n",
            "+-------+----------------------+\n",
            "|   mean|    189.98200000000003|\n",
            "| stddev|     90.22393249884178|\n",
            "|    min|                136.81|\n",
            "|    max|                432.92|\n",
            "+-------+----------------------+\n",
            "\n",
            "\n",
            "2. Outlier analysis using IQR method:\n",
            "   Q1 (25th percentile): $140.83B\n",
            "   Q3 (75th percentile): $194.56B\n",
            "   IQR: $53.73B\n",
            "   Lower bound: $60.24B\n",
            "   Upper bound: $275.15B\n",
            "   Potential outliers found: 1\n",
            "   Outlier details:\n",
            "+--------------+----------------------+\n",
            "|     Bank_Name|Market_Cap_USD_Billion|\n",
            "+--------------+----------------------+\n",
            "|JPMorgan Chase|                432.92|\n",
            "+--------------+----------------------+\n",
            "\n",
            "\n",
            "3. Individual bank analysis:\n",
            "   JPMorgan Chase: $432.92B (2.3x above average)\n",
            "\n",
            "Outlier analysis completed\n",
            "\n",
            "4. Saving data with multiple part files (Spark default)...\n",
            "Partitioned data saved to: /content/drive/Othercomputers/My Laptop/Upgrad/C76/Assignments/C3 Course Project/bank_data_partitioned\n",
            "Note: This creates multiple part files - normal for Spark\n",
            "\n",
            "5. Saving data as single CSV file...\n",
            "Single CSV file saved to: /content/drive/Othercomputers/My Laptop/Upgrad/C76/Assignments/C3 Course Project/bank_data_single.csv\n",
            "Verifying single file:\n",
            "Records in single file: 10\n",
            "+----+--------------------+----------------------+\n",
            "|Rank|           Bank_Name|Market_Cap_USD_Billion|\n",
            "+----+--------------------+----------------------+\n",
            "|   1|      JPMorgan Chase|                432.92|\n",
            "|   2|     Bank of America|                231.52|\n",
            "|   3|Industrial and Co...|                194.56|\n",
            "+----+--------------------+----------------------+\n",
            "only showing top 3 rows\n",
            "\n",
            "\n",
            "Both save methods completed!\n",
            "Check your Google Drive folder for the files\n",
            "\n",
            "=== Files Created ===\n",
            "Partitioned approach (multiple files):\n",
            "- Better for large datasets\n",
            "- Maintains Spark's distributed nature\n",
            "- Harder to share/view manually\n",
            "\n",
            "Single file approach:\n",
            "- Easier to share and open in Excel\n",
            "- Better for small datasets like this\n",
            "- Simpler for manual inspection\n",
            "\n",
            "All tasks completed successfully!\n"
          ]
        }
      ]
    },
    {
      "cell_type": "markdown",
      "metadata": {
        "id": "MrOtsmP4j0PZ"
      },
      "source": [
        "#**3. Exploratory Data Analysis** <font color = red>[40 marks]</font> <br>\n"
      ]
    },
    {
      "cell_type": "markdown",
      "source": [
        "##**3.1. Conversion from PySpark to Pandas DataFrame** <font color = red>[5 marks]</font> <br>\n",
        "\n",
        "Convert PySpark DataFrame to Pandas DataFrame for visualization"
      ],
      "metadata": {
        "id": "0nUphonQlwup"
      }
    },
    {
      "cell_type": "code",
      "execution_count": null,
      "metadata": {
        "id": "N9urgjLljo9s"
      },
      "outputs": [],
      "source": [
        "# Convert PySpark DataFrame to Pandas DataFrame\n"
      ]
    },
    {
      "cell_type": "code",
      "source": [
        "# Convert to Pandas for visualization\n",
        "print(\"Converting PySpark DataFrame to Pandas...\")\n",
        "\n",
        "# Convert the Spark DataFrame to Pandas\n",
        "pandas_bank_df = bank_df.toPandas()\n",
        "\n",
        "print(\"Conversion completed successfully!\")\n",
        "print(f\"Pandas DataFrame shape: {pandas_bank_df.shape}\")\n",
        "\n",
        "# Show the first few rows\n",
        "print(\"\\nFirst few rows of Pandas DataFrame:\")\n",
        "print(pandas_bank_df.head())\n",
        "\n",
        "# Check the data types\n",
        "print(\"\\nPandas DataFrame data types:\")\n",
        "print(pandas_bank_df.dtypes)\n",
        "\n",
        "# Basic info about the Pandas DataFrame\n",
        "print(\"\\nPandas DataFrame info:\")\n",
        "print(pandas_bank_df.info())\n",
        "\n",
        "# Show that we can now use regular pandas operations\n",
        "print(\"\\nBasic statistics with Pandas:\")\n",
        "print(pandas_bank_df['Market_Cap_USD_Billion'].describe())\n"
      ],
      "metadata": {
        "colab": {
          "base_uri": "https://localhost:8080/"
        },
        "id": "AFHotZgT2xOE",
        "outputId": "12eb5b6c-88a2-4881-ed1f-4cad92233ddb"
      },
      "execution_count": null,
      "outputs": [
        {
          "output_type": "stream",
          "name": "stdout",
          "text": [
            "Converting PySpark DataFrame to Pandas...\n",
            "Conversion completed successfully!\n",
            "Pandas DataFrame shape: (10, 3)\n",
            "\n",
            "First few rows of Pandas DataFrame:\n",
            "   Rank                                Bank_Name  Market_Cap_USD_Billion\n",
            "0     1                           JPMorgan Chase                  432.92\n",
            "1     2                          Bank of America                  231.52\n",
            "2     3  Industrial and Commercial Bank of China                  194.56\n",
            "3     4               Agricultural Bank of China                  160.68\n",
            "4     5                                HDFC Bank                  157.91\n",
            "\n",
            "Pandas DataFrame data types:\n",
            "Rank                        int64\n",
            "Bank_Name                  object\n",
            "Market_Cap_USD_Billion    float64\n",
            "dtype: object\n",
            "\n",
            "Pandas DataFrame info:\n",
            "<class 'pandas.core.frame.DataFrame'>\n",
            "RangeIndex: 10 entries, 0 to 9\n",
            "Data columns (total 3 columns):\n",
            " #   Column                  Non-Null Count  Dtype  \n",
            "---  ------                  --------------  -----  \n",
            " 0   Rank                    10 non-null     int64  \n",
            " 1   Bank_Name               10 non-null     object \n",
            " 2   Market_Cap_USD_Billion  10 non-null     float64\n",
            "dtypes: float64(1), int64(1), object(1)\n",
            "memory usage: 372.0+ bytes\n",
            "None\n",
            "\n",
            "Basic statistics with Pandas:\n",
            "count     10.000000\n",
            "mean     189.982000\n",
            "std       90.223932\n",
            "min      136.810000\n",
            "25%      142.847500\n",
            "50%      156.890000\n",
            "75%      186.090000\n",
            "max      432.920000\n",
            "Name: Market_Cap_USD_Billion, dtype: float64\n"
          ]
        }
      ]
    },
    {
      "cell_type": "markdown",
      "source": [
        "##**3.2. Market Capitalization** <font color = red>[5 marks]</font> <br>\n",
        "\n",
        "Analyze the distribution of market capitalization using a histogram"
      ],
      "metadata": {
        "id": "qOM6DBrXlzRD"
      }
    },
    {
      "cell_type": "code",
      "execution_count": null,
      "metadata": {
        "id": "C0laaO8oj9V7"
      },
      "outputs": [],
      "source": [
        "# Distribution of Market Cap (US$ Billion)\n",
        "\n",
        "# Set the style for seaborn\n",
        "\n",
        "# Plot the distribution of market cap\n"
      ]
    },
    {
      "cell_type": "code",
      "source": [
        "# Market capitalization distribution analysis\n",
        "print(\"Analyzing market capitalization distribution...\")\n",
        "\n",
        "import matplotlib.pyplot as plt\n",
        "import seaborn as sns\n",
        "\n",
        "# Set the style for seaborn\n",
        "sns.set_style(\"whitegrid\")\n",
        "plt.figure(figsize=(10, 6))\n",
        "\n",
        "# Plot the distribution of market cap\n",
        "plt.hist(pandas_bank_df['Market_Cap_USD_Billion'], bins=5, color='skyblue', edgecolor='black', alpha=0.7)\n",
        "\n",
        "# Add labels and title\n",
        "plt.title('Distribution of Market Capitalization (US$ Billion)', fontsize=14, fontweight='bold')\n",
        "plt.xlabel('Market Capitalization (US$ Billion)', fontsize=12)\n",
        "plt.ylabel('Number of Banks', fontsize=12)\n",
        "\n",
        "# Add value labels on bars\n",
        "for i, value in enumerate(pandas_bank_df['Market_Cap_USD_Billion']):\n",
        "    plt.text(value, 0.5, f'${value:.1f}B', ha='center', va='bottom', rotation=45, fontsize=9)\n",
        "\n",
        "# Show the plot\n",
        "plt.tight_layout()\n",
        "plt.show()\n",
        "\n",
        "# Additional analysis\n",
        "print(\"\\nMarket Cap Distribution Summary:\")\n",
        "print(f\"Number of banks: {len(pandas_bank_df)}\")\n",
        "print(f\"Range: ${pandas_bank_df['Market_Cap_USD_Billion'].min():.1f}B - ${pandas_bank_df['Market_Cap_USD_Billion'].max():.1f}B\")\n",
        "print(f\"Average: ${pandas_bank_df['Market_Cap_USD_Billion'].mean():.1f}B\")\n",
        "\n",
        "print(\"\\nHistogram plot completed!\")"
      ],
      "metadata": {
        "colab": {
          "base_uri": "https://localhost:8080/",
          "height": 746
        },
        "id": "ss60KCwR3m5z",
        "outputId": "b7ce3876-9110-4a73-c4ef-04ccd5f654f3"
      },
      "execution_count": null,
      "outputs": [
        {
          "output_type": "stream",
          "name": "stdout",
          "text": [
            "Analyzing market capitalization distribution...\n"
          ]
        },
        {
          "output_type": "display_data",
          "data": {
            "text/plain": [
              "<Figure size 1000x600 with 1 Axes>"
            ],
            "image/png": "[encoded data removed]"
          },
          "metadata": {}
        },
        {
          "output_type": "stream",
          "name": "stdout",
          "text": [
            "\n",
            "Market Cap Distribution Summary:\n",
            "Number of banks: 10\n",
            "Range: $136.8B - $432.9B\n",
            "Average: $190.0B\n",
            "\n",
            "Histogram plot completed!\n"
          ]
        }
      ]
    },
    {
      "cell_type": "markdown",
      "source": [
        "##**3.3. Top 10 Banks** <font color = red>[5 Marks]</font> <br>\n",
        "\n",
        "Identify the top 10 banks by market capitalization using a bar chart"
      ],
      "metadata": {
        "id": "94mCHOlIl3zR"
      }
    },
    {
      "cell_type": "code",
      "execution_count": null,
      "metadata": {
        "id": "9kEwUTZekA0m"
      },
      "outputs": [],
      "source": [
        "# Top 10 Banks by Market Cap\n",
        "\n",
        "# Sort the DataFrame by market cap in descending order\n",
        "\n",
        "# Plot the top 10 banks by market cap\n"
      ]
    },
    {
      "cell_type": "code",
      "source": [
        "# Top 10 banks by market capitalization\n",
        "print(\"Creating bar chart of top 10 banks...\")\n",
        "\n",
        "import matplotlib.pyplot as plt\n",
        "import seaborn as sns\n",
        "\n",
        "# Set the style\n",
        "sns.set_style(\"whitegrid\")\n",
        "plt.figure(figsize=(12, 8))\n",
        "\n",
        "# Sort the DataFrame by market cap in descending order\n",
        "sorted_df = pandas_bank_df.sort_values('Market_Cap_USD_Billion', ascending=False)\n",
        "\n",
        "# Create the bar chart\n",
        "plt.barh(sorted_df['Bank_Name'], sorted_df['Market_Cap_USD_Billion'],\n",
        "         color='steelblue', edgecolor='black', alpha=0.8)\n",
        "\n",
        "# Add labels and title\n",
        "plt.title('Top 10 Banks by Market Capitalization (US$ Billion)',\n",
        "          fontsize=16, fontweight='bold', pad=20)\n",
        "plt.xlabel('Market Capitalization (US$ Billion)', fontsize=12, fontweight='bold')\n",
        "plt.ylabel('Bank Name', fontsize=12, fontweight='bold')\n",
        "\n",
        "# Add value labels on the bars\n",
        "for i, value in enumerate(sorted_df['Market_Cap_USD_Billion']):\n",
        "    plt.text(value + 5, i, f'${value:.1f}B', va='center', fontsize=10, fontweight='bold')\n",
        "\n",
        "# Invert y-axis to show highest at top\n",
        "plt.gca().invert_yaxis()\n",
        "\n",
        "# Adjust layout and show\n",
        "plt.tight_layout()\n",
        "plt.show()\n",
        "\n",
        "print(\"Top 10 banks bar chart completed!\")"
      ],
      "metadata": {
        "colab": {
          "base_uri": "https://localhost:8080/",
          "height": 861
        },
        "id": "RSoSHdHO47Wg",
        "outputId": "93ea24b7-b493-40e8-b50c-7f4dc588fcb2"
      },
      "execution_count": null,
      "outputs": [
        {
          "output_type": "stream",
          "name": "stdout",
          "text": [
            "Creating bar chart of top 10 banks...\n"
          ]
        },
        {
          "output_type": "display_data",
          "data": {
            "text/plain": [
              "<Figure size 1200x800 with 1 Axes>"
            ],
            "image/png": "[encoded data removed]"
          },
          "metadata": {}
        },
        {
          "output_type": "stream",
          "name": "stdout",
          "text": [
            "Top 10 banks bar chart completed!\n"
          ]
        }
      ]
    },
    {
      "cell_type": "markdown",
      "source": [
        "##**3.4. Market Cap vs Bank Ranking** <font color = red>[5 Marks]</font> <br>\n",
        "\n",
        "Visualize the relationship between market capitalization and bank ranking using a scatter plot"
      ],
      "metadata": {
        "id": "rlQ8h16Gl7KJ"
      }
    },
    {
      "cell_type": "code",
      "execution_count": null,
      "metadata": {
        "id": "c8lE0JLXkF0u"
      },
      "outputs": [],
      "source": [
        "# Market Cap vs Rank\n",
        "\n",
        "# Plot market cap vs rank\n"
      ]
    },
    {
      "cell_type": "code",
      "source": [
        "import matplotlib.pyplot as plt\n",
        "import pandas as pd\n",
        "from pyspark.sql import SparkSession\n",
        "\n",
        "# Initialize Spark session\n",
        "spark = SparkSession.builder.appName(\"BankingDataAnalysis\").getOrCreate()\n",
        "\n",
        "# Load the data from your CSV file\n",
        "file_path = \"/content/drive/Othercomputers/My Laptop/Upgrad/C76/Assignments/C3 Course Project/bank_data_single.csv\"\n",
        "banks_df = spark.read.csv(file_path, header=True, inferSchema=True)\n",
        "\n",
        "# Convert to pandas for easier plotting (since it's a small dataset)\n",
        "banks_pandas_df = banks_df.toPandas()\n",
        "\n",
        "# Create the scatter plot\n",
        "plt.figure(figsize=(12, 8))\n",
        "plt.scatter(banks_pandas_df['Rank'], banks_pandas_df['Market_Cap_USD_B'],\n",
        "            s=100, alpha=0.7, color='steelblue')\n",
        "\n",
        "# Customize the plot\n",
        "plt.title('Market Capitalization vs Bank Ranking', fontsize=16, fontweight='bold')\n",
        "plt.xlabel('Bank Ranking (1 = Highest Market Cap)', fontsize=12)\n",
        "plt.ylabel('Market Capitalization (US$ Billion)', fontsize=12)\n",
        "plt.grid(True, alpha=0.3)\n",
        "\n",
        "# Annotate some of the points with bank names\n",
        "for i, row in banks_pandas_df.head(5).iterrows():\n",
        "    plt.annotate(row['Bank_Name'],\n",
        "                (row['Rank'], row['Market_Cap_USD_B']),\n",
        "                xytext=(5, 5),\n",
        "                textcoords='offset points',\n",
        "                fontsize=9)\n",
        "\n",
        "plt.tight_layout()\n",
        "plt.show()\n",
        "\n",
        "# Stop Spark session\n",
        "spark.stop()"
      ],
      "metadata": {
        "colab": {
          "base_uri": "https://localhost:8080/",
          "height": 564
        },
        "id": "70ocipBQ5eYZ",
        "outputId": "012fd834-cffc-46fd-ada9-c69f2d5e2cd9"
      },
      "execution_count": null,
      "outputs": [
        {
          "output_type": "error",
          "ename": "KeyError",
          "evalue": "'Market_Cap_USD_B'",
          "traceback": [
            "\u001b[0;31m---------------------------------------------------------------------------\u001b[0m",
            "\u001b[0;31mKeyError\u001b[0m                                  Traceback (most recent call last)",
            "\u001b[0;32m/usr/local/lib/python3.12/dist-packages/pandas/core/indexes/base.py\u001b[0m in \u001b[0;36mget_loc\u001b[0;34m(self, key)\u001b[0m\n\u001b[1;32m   3804\u001b[0m         \u001b[0;32mtry\u001b[0m\u001b[0;34m:\u001b[0m\u001b[0;34m\u001b[0m\u001b[0;34m\u001b[0m\u001b[0m\n\u001b[0;32m-> 3805\u001b[0;31m             \u001b[0;32mreturn\u001b[0m \u001b[0mself\u001b[0m\u001b[0;34m.\u001b[0m\u001b[0m_engine\u001b[0m\u001b[0;34m.\u001b[0m\u001b[0mget_loc\u001b[0m\u001b[0;34m(\u001b[0m\u001b[0mcasted_key\u001b[0m\u001b[0;34m)\u001b[0m\u001b[0;34m\u001b[0m\u001b[0;34m\u001b[0m\u001b[0m\n\u001b[0m\u001b[1;32m   3806\u001b[0m         \u001b[0;32mexcept\u001b[0m \u001b[0mKeyError\u001b[0m \u001b[0;32mas\u001b[0m \u001b[0merr\u001b[0m\u001b[0;34m:\u001b[0m\u001b[0;34m\u001b[0m\u001b[0;34m\u001b[0m\u001b[0m\n",
            "\u001b[0;32mindex.pyx\u001b[0m in \u001b[0;36mpandas._libs.index.IndexEngine.get_loc\u001b[0;34m()\u001b[0m\n",
            "\u001b[0;32mindex.pyx\u001b[0m in \u001b[0;36mpandas._libs.index.IndexEngine.get_loc\u001b[0;34m()\u001b[0m\n",
            "\u001b[0;32mpandas/_libs/hashtable_class_helper.pxi\u001b[0m in \u001b[0;36mpandas._libs.hashtable.PyObjectHashTable.get_item\u001b[0;34m()\u001b[0m\n",
            "\u001b[0;32mpandas/_libs/hashtable_class_helper.pxi\u001b[0m in \u001b[0;36mpandas._libs.hashtable.PyObjectHashTable.get_item\u001b[0;34m()\u001b[0m\n",
            "\u001b[0;31mKeyError\u001b[0m: 'Market_Cap_USD_B'",
            "\nThe above exception was the direct cause of the following exception:\n",
            "\u001b[0;31mKeyError\u001b[0m                                  Traceback (most recent call last)",
            "\u001b[0;32m/tmp/ipython-input-3055118597.py\u001b[0m in \u001b[0;36m<cell line: 0>\u001b[0;34m()\u001b[0m\n\u001b[1;32m     15\u001b[0m \u001b[0;31m# Create the scatter plot\u001b[0m\u001b[0;34m\u001b[0m\u001b[0;34m\u001b[0m\u001b[0m\n\u001b[1;32m     16\u001b[0m \u001b[0mplt\u001b[0m\u001b[0;34m.\u001b[0m\u001b[0mfigure\u001b[0m\u001b[0;34m(\u001b[0m\u001b[0mfigsize\u001b[0m\u001b[0;34m=\u001b[0m\u001b[0;34m(\u001b[0m\u001b[0;36m12\u001b[0m\u001b[0;34m,\u001b[0m \u001b[0;36m8\u001b[0m\u001b[0;34m)\u001b[0m\u001b[0;34m)\u001b[0m\u001b[0;34m\u001b[0m\u001b[0;34m\u001b[0m\u001b[0m\n\u001b[0;32m---> 17\u001b[0;31m plt.scatter(banks_pandas_df['Rank'], banks_pandas_df['Market_Cap_USD_B'], \n\u001b[0m\u001b[1;32m     18\u001b[0m             s=100, alpha=0.7, color='steelblue')\n\u001b[1;32m     19\u001b[0m \u001b[0;34m\u001b[0m\u001b[0m\n",
            "\u001b[0;32m/usr/local/lib/python3.12/dist-packages/pandas/core/frame.py\u001b[0m in \u001b[0;36m__getitem__\u001b[0;34m(self, key)\u001b[0m\n\u001b[1;32m   4100\u001b[0m             \u001b[0;32mif\u001b[0m \u001b[0mself\u001b[0m\u001b[0;34m.\u001b[0m\u001b[0mcolumns\u001b[0m\u001b[0;34m.\u001b[0m\u001b[0mnlevels\u001b[0m \u001b[0;34m>\u001b[0m \u001b[0;36m1\u001b[0m\u001b[0;34m:\u001b[0m\u001b[0;34m\u001b[0m\u001b[0;34m\u001b[0m\u001b[0m\n\u001b[1;32m   4101\u001b[0m                 \u001b[0;32mreturn\u001b[0m \u001b[0mself\u001b[0m\u001b[0;34m.\u001b[0m\u001b[0m_getitem_multilevel\u001b[0m\u001b[0;34m(\u001b[0m\u001b[0mkey\u001b[0m\u001b[0;34m)\u001b[0m\u001b[0;34m\u001b[0m\u001b[0;34m\u001b[0m\u001b[0m\n\u001b[0;32m-> 4102\u001b[0;31m             \u001b[0mindexer\u001b[0m \u001b[0;34m=\u001b[0m \u001b[0mself\u001b[0m\u001b[0;34m.\u001b[0m\u001b[0mcolumns\u001b[0m\u001b[0;34m.\u001b[0m\u001b[0mget_loc\u001b[0m\u001b[0;34m(\u001b[0m\u001b[0mkey\u001b[0m\u001b[0;34m)\u001b[0m\u001b[0;34m\u001b[0m\u001b[0;34m\u001b[0m\u001b[0m\n\u001b[0m\u001b[1;32m   4103\u001b[0m             \u001b[0;32mif\u001b[0m \u001b[0mis_integer\u001b[0m\u001b[0;34m(\u001b[0m\u001b[0mindexer\u001b[0m\u001b[0;34m)\u001b[0m\u001b[0;34m:\u001b[0m\u001b[0;34m\u001b[0m\u001b[0;34m\u001b[0m\u001b[0m\n\u001b[1;32m   4104\u001b[0m                 \u001b[0mindexer\u001b[0m \u001b[0;34m=\u001b[0m \u001b[0;34m[\u001b[0m\u001b[0mindexer\u001b[0m\u001b[0;34m]\u001b[0m\u001b[0;34m\u001b[0m\u001b[0;34m\u001b[0m\u001b[0m\n",
            "\u001b[0;32m/usr/local/lib/python3.12/dist-packages/pandas/core/indexes/base.py\u001b[0m in \u001b[0;36mget_loc\u001b[0;34m(self, key)\u001b[0m\n\u001b[1;32m   3810\u001b[0m             ):\n\u001b[1;32m   3811\u001b[0m                 \u001b[0;32mraise\u001b[0m \u001b[0mInvalidIndexError\u001b[0m\u001b[0;34m(\u001b[0m\u001b[0mkey\u001b[0m\u001b[0;34m)\u001b[0m\u001b[0;34m\u001b[0m\u001b[0;34m\u001b[0m\u001b[0m\n\u001b[0;32m-> 3812\u001b[0;31m             \u001b[0;32mraise\u001b[0m \u001b[0mKeyError\u001b[0m\u001b[0;34m(\u001b[0m\u001b[0mkey\u001b[0m\u001b[0;34m)\u001b[0m \u001b[0;32mfrom\u001b[0m \u001b[0merr\u001b[0m\u001b[0;34m\u001b[0m\u001b[0;34m\u001b[0m\u001b[0m\n\u001b[0m\u001b[1;32m   3813\u001b[0m         \u001b[0;32mexcept\u001b[0m \u001b[0mTypeError\u001b[0m\u001b[0;34m:\u001b[0m\u001b[0;34m\u001b[0m\u001b[0;34m\u001b[0m\u001b[0m\n\u001b[1;32m   3814\u001b[0m             \u001b[0;31m# If we have a listlike key, _check_indexing_error will raise\u001b[0m\u001b[0;34m\u001b[0m\u001b[0;34m\u001b[0m\u001b[0m\n",
            "\u001b[0;31mKeyError\u001b[0m: 'Market_Cap_USD_B'"
          ]
        },
        {
          "output_type": "display_data",
          "data": {
            "text/plain": [
              "<Figure size 1200x800 with 0 Axes>"
            ]
          },
          "metadata": {}
        }
      ]
    },
    {
      "cell_type": "code",
      "source": [
        "import matplotlib.pyplot as plt\n",
        "import pandas as pd\n",
        "from pyspark.sql import SparkSession\n",
        "\n",
        "# Start Spark session\n",
        "spark = SparkSession.builder.appName(\"BankAnalysis\").getOrCreate()\n",
        "\n",
        "# Read data from Wikipedia\n",
        "print(\"Getting bank data from Wikipedia...\")\n",
        "url = \"https://en.wikipedia.org/wiki/List_of_largest_banks\"\n",
        "tables = pd.read_html(url)\n",
        "banks_df = tables[0]  # Get the first table which contains the bank data\n",
        "\n",
        "# Convert to Spark DataFrame\n",
        "spark_df = spark.createDataFrame(banks_df)\n",
        "\n",
        "# Clean the column names\n",
        "spark_df = spark_df.withColumnRenamed(\"Market cap (US$ billion)\", \"Market_Cap_USD_Billion\")\n",
        "spark_df = spark_df.withColumnRenamed(\"Bank name\", \"Bank_Name\")\n",
        "\n",
        "# Get top 10 banks by market capitalization\n",
        "top_10_banks = spark_df.orderBy(\"Market_Cap_USD_Billion\", ascending=False).limit(10)\n",
        "\n",
        "# Convert to pandas for plotting\n",
        "top_10_pandas = top_10_banks.toPandas()\n",
        "\n",
        "# Create the scatter plot\n",
        "plt.figure(figsize=(10, 6))\n",
        "plt.scatter(top_10_pandas['Rank'], top_10_pandas['Market_Cap_USD_Billion'],\n",
        "           s=100, alpha=0.7, color='steelblue')\n",
        "\n",
        "# Customize the plot\n",
        "plt.title('Market Capitalization vs Bank Ranking', fontsize=14, fontweight='bold')\n",
        "plt.xlabel('Bank Ranking (1 = Highest Market Cap)', fontsize=12)\n",
        "plt.ylabel('Market Capitalization (US$ Billion)', fontsize=12)\n",
        "plt.grid(True, alpha=0.3)\n",
        "plt.xticks(top_10_pandas['Rank'])\n",
        "\n",
        "# Show the plot\n",
        "plt.tight_layout()\n",
        "plt.show()\n",
        "\n",
        "# Stop Spark session\n",
        "spark.stop()"
      ],
      "metadata": {
        "colab": {
          "base_uri": "https://localhost:8080/",
          "height": 373
        },
        "id": "C7NDqPOc6-IA",
        "outputId": "4bf138c0-c048-407e-eb10-384034b6624f"
      },
      "execution_count": null,
      "outputs": [
        {
          "output_type": "stream",
          "name": "stdout",
          "text": [
            "Getting bank data from Wikipedia...\n"
          ]
        },
        {
          "output_type": "error",
          "ename": "HTTPError",
          "evalue": "HTTP Error 403: Forbidden",
          "traceback": [
            "\u001b[0;31m---------------------------------------------------------------------------\u001b[0m",
            "\u001b[0;31mHTTPError\u001b[0m                                 Traceback (most recent call last)",
            "\u001b[0;32m/tmp/ipython-input-4006250232.py\u001b[0m in \u001b[0;36m<cell line: 0>\u001b[0;34m()\u001b[0m\n\u001b[1;32m      9\u001b[0m \u001b[0mprint\u001b[0m\u001b[0;34m(\u001b[0m\u001b[0;34m\"Getting bank data from Wikipedia...\"\u001b[0m\u001b[0;34m)\u001b[0m\u001b[0;34m\u001b[0m\u001b[0;34m\u001b[0m\u001b[0m\n\u001b[1;32m     10\u001b[0m \u001b[0murl\u001b[0m \u001b[0;34m=\u001b[0m \u001b[0;34m\"https://en.wikipedia.org/wiki/List_of_largest_banks\"\u001b[0m\u001b[0;34m\u001b[0m\u001b[0;34m\u001b[0m\u001b[0m\n\u001b[0;32m---> 11\u001b[0;31m \u001b[0mtables\u001b[0m \u001b[0;34m=\u001b[0m \u001b[0mpd\u001b[0m\u001b[0;34m.\u001b[0m\u001b[0mread_html\u001b[0m\u001b[0;34m(\u001b[0m\u001b[0murl\u001b[0m\u001b[0;34m)\u001b[0m\u001b[0;34m\u001b[0m\u001b[0;34m\u001b[0m\u001b[0m\n\u001b[0m\u001b[1;32m     12\u001b[0m \u001b[0mbanks_df\u001b[0m \u001b[0;34m=\u001b[0m \u001b[0mtables\u001b[0m\u001b[0;34m[\u001b[0m\u001b[0;36m0\u001b[0m\u001b[0;34m]\u001b[0m  \u001b[0;31m# Get the first table which contains the bank data\u001b[0m\u001b[0;34m\u001b[0m\u001b[0;34m\u001b[0m\u001b[0m\n\u001b[1;32m     13\u001b[0m \u001b[0;34m\u001b[0m\u001b[0m\n",
            "\u001b[0;32m/usr/local/lib/python3.12/dist-packages/pandas/io/html.py\u001b[0m in \u001b[0;36mread_html\u001b[0;34m(io, match, flavor, header, index_col, skiprows, attrs, parse_dates, thousands, encoding, decimal, converters, na_values, keep_default_na, displayed_only, extract_links, dtype_backend, storage_options)\u001b[0m\n\u001b[1;32m   1238\u001b[0m         )\n\u001b[1;32m   1239\u001b[0m \u001b[0;34m\u001b[0m\u001b[0m\n\u001b[0;32m-> 1240\u001b[0;31m     return _parse(\n\u001b[0m\u001b[1;32m   1241\u001b[0m         \u001b[0mflavor\u001b[0m\u001b[0;34m=\u001b[0m\u001b[0mflavor\u001b[0m\u001b[0;34m,\u001b[0m\u001b[0;34m\u001b[0m\u001b[0;34m\u001b[0m\u001b[0m\n\u001b[1;32m   1242\u001b[0m         \u001b[0mio\u001b[0m\u001b[0;34m=\u001b[0m\u001b[0mio\u001b[0m\u001b[0;34m,\u001b[0m\u001b[0;34m\u001b[0m\u001b[0;34m\u001b[0m\u001b[0m\n",
            "\u001b[0;32m/usr/local/lib/python3.12/dist-packages/pandas/io/html.py\u001b[0m in \u001b[0;36m_parse\u001b[0;34m(flavor, io, match, attrs, encoding, displayed_only, extract_links, storage_options, **kwargs)\u001b[0m\n\u001b[1;32m    981\u001b[0m \u001b[0;34m\u001b[0m\u001b[0m\n\u001b[1;32m    982\u001b[0m         \u001b[0;32mtry\u001b[0m\u001b[0;34m:\u001b[0m\u001b[0;34m\u001b[0m\u001b[0;34m\u001b[0m\u001b[0m\n\u001b[0;32m--> 983\u001b[0;31m             \u001b[0mtables\u001b[0m \u001b[0;34m=\u001b[0m \u001b[0mp\u001b[0m\u001b[0;34m.\u001b[0m\u001b[0mparse_tables\u001b[0m\u001b[0;34m(\u001b[0m\u001b[0;34m)\u001b[0m\u001b[0;34m\u001b[0m\u001b[0;34m\u001b[0m\u001b[0m\n\u001b[0m\u001b[1;32m    984\u001b[0m         \u001b[0;32mexcept\u001b[0m \u001b[0mValueError\u001b[0m \u001b[0;32mas\u001b[0m \u001b[0mcaught\u001b[0m\u001b[0;34m:\u001b[0m\u001b[0;34m\u001b[0m\u001b[0;34m\u001b[0m\u001b[0m\n\u001b[1;32m    985\u001b[0m             \u001b[0;31m# if `io` is an io-like object, check if it's seekable\u001b[0m\u001b[0;34m\u001b[0m\u001b[0;34m\u001b[0m\u001b[0m\n",
            "\u001b[0;32m/usr/local/lib/python3.12/dist-packages/pandas/io/html.py\u001b[0m in \u001b[0;36mparse_tables\u001b[0;34m(self)\u001b[0m\n\u001b[1;32m    247\u001b[0m         \u001b[0mlist\u001b[0m \u001b[0mof\u001b[0m \u001b[0mparsed\u001b[0m \u001b[0;34m(\u001b[0m\u001b[0mheader\u001b[0m\u001b[0;34m,\u001b[0m \u001b[0mbody\u001b[0m\u001b[0;34m,\u001b[0m \u001b[0mfooter\u001b[0m\u001b[0;34m)\u001b[0m \u001b[0mtuples\u001b[0m \u001b[0;32mfrom\u001b[0m \u001b[0mtables\u001b[0m\u001b[0;34m.\u001b[0m\u001b[0;34m\u001b[0m\u001b[0;34m\u001b[0m\u001b[0m\n\u001b[1;32m    248\u001b[0m         \"\"\"\n\u001b[0;32m--> 249\u001b[0;31m         \u001b[0mtables\u001b[0m \u001b[0;34m=\u001b[0m \u001b[0mself\u001b[0m\u001b[0;34m.\u001b[0m\u001b[0m_parse_tables\u001b[0m\u001b[0;34m(\u001b[0m\u001b[0mself\u001b[0m\u001b[0;34m.\u001b[0m\u001b[0m_build_doc\u001b[0m\u001b[0;34m(\u001b[0m\u001b[0;34m)\u001b[0m\u001b[0;34m,\u001b[0m \u001b[0mself\u001b[0m\u001b[0;34m.\u001b[0m\u001b[0mmatch\u001b[0m\u001b[0;34m,\u001b[0m \u001b[0mself\u001b[0m\u001b[0;34m.\u001b[0m\u001b[0mattrs\u001b[0m\u001b[0;34m)\u001b[0m\u001b[0;34m\u001b[0m\u001b[0;34m\u001b[0m\u001b[0m\n\u001b[0m\u001b[1;32m    250\u001b[0m         \u001b[0;32mreturn\u001b[0m \u001b[0;34m(\u001b[0m\u001b[0mself\u001b[0m\u001b[0;34m.\u001b[0m\u001b[0m_parse_thead_tbody_tfoot\u001b[0m\u001b[0;34m(\u001b[0m\u001b[0mtable\u001b[0m\u001b[0;34m)\u001b[0m \u001b[0;32mfor\u001b[0m \u001b[0mtable\u001b[0m \u001b[0;32min\u001b[0m \u001b[0mtables\u001b[0m\u001b[0;34m)\u001b[0m\u001b[0;34m\u001b[0m\u001b[0;34m\u001b[0m\u001b[0m\n\u001b[1;32m    251\u001b[0m \u001b[0;34m\u001b[0m\u001b[0m\n",
            "\u001b[0;32m/usr/local/lib/python3.12/dist-packages/pandas/io/html.py\u001b[0m in \u001b[0;36m_build_doc\u001b[0;34m(self)\u001b[0m\n\u001b[1;32m    804\u001b[0m                     \u001b[0;32mpass\u001b[0m\u001b[0;34m\u001b[0m\u001b[0;34m\u001b[0m\u001b[0m\n\u001b[1;32m    805\u001b[0m             \u001b[0;32melse\u001b[0m\u001b[0;34m:\u001b[0m\u001b[0;34m\u001b[0m\u001b[0;34m\u001b[0m\u001b[0m\n\u001b[0;32m--> 806\u001b[0;31m                 \u001b[0;32mraise\u001b[0m \u001b[0me\u001b[0m\u001b[0;34m\u001b[0m\u001b[0;34m\u001b[0m\u001b[0m\n\u001b[0m\u001b[1;32m    807\u001b[0m         \u001b[0;32melse\u001b[0m\u001b[0;34m:\u001b[0m\u001b[0;34m\u001b[0m\u001b[0;34m\u001b[0m\u001b[0m\n\u001b[1;32m    808\u001b[0m             \u001b[0;32mif\u001b[0m \u001b[0;32mnot\u001b[0m \u001b[0mhasattr\u001b[0m\u001b[0;34m(\u001b[0m\u001b[0mr\u001b[0m\u001b[0;34m,\u001b[0m \u001b[0;34m\"text_content\"\u001b[0m\u001b[0;34m)\u001b[0m\u001b[0;34m:\u001b[0m\u001b[0;34m\u001b[0m\u001b[0;34m\u001b[0m\u001b[0m\n",
            "\u001b[0;32m/usr/local/lib/python3.12/dist-packages/pandas/io/html.py\u001b[0m in \u001b[0;36m_build_doc\u001b[0;34m(self)\u001b[0m\n\u001b[1;32m    783\u001b[0m         \u001b[0;32mtry\u001b[0m\u001b[0;34m:\u001b[0m\u001b[0;34m\u001b[0m\u001b[0;34m\u001b[0m\u001b[0m\n\u001b[1;32m    784\u001b[0m             \u001b[0;32mif\u001b[0m \u001b[0mis_url\u001b[0m\u001b[0;34m(\u001b[0m\u001b[0mself\u001b[0m\u001b[0;34m.\u001b[0m\u001b[0mio\u001b[0m\u001b[0;34m)\u001b[0m\u001b[0;34m:\u001b[0m\u001b[0;34m\u001b[0m\u001b[0;34m\u001b[0m\u001b[0m\n\u001b[0;32m--> 785\u001b[0;31m                 with get_handle(\n\u001b[0m\u001b[1;32m    786\u001b[0m                     \u001b[0mself\u001b[0m\u001b[0;34m.\u001b[0m\u001b[0mio\u001b[0m\u001b[0;34m,\u001b[0m \u001b[0;34m\"r\"\u001b[0m\u001b[0;34m,\u001b[0m \u001b[0mstorage_options\u001b[0m\u001b[0;34m=\u001b[0m\u001b[0mself\u001b[0m\u001b[0;34m.\u001b[0m\u001b[0mstorage_options\u001b[0m\u001b[0;34m\u001b[0m\u001b[0;34m\u001b[0m\u001b[0m\n\u001b[1;32m    787\u001b[0m                 ) as f:\n",
            "\u001b[0;32m/usr/local/lib/python3.12/dist-packages/pandas/io/common.py\u001b[0m in \u001b[0;36mget_handle\u001b[0;34m(path_or_buf, mode, encoding, compression, memory_map, is_text, errors, storage_options)\u001b[0m\n\u001b[1;32m    726\u001b[0m \u001b[0;34m\u001b[0m\u001b[0m\n\u001b[1;32m    727\u001b[0m     \u001b[0;31m# open URLs\u001b[0m\u001b[0;34m\u001b[0m\u001b[0;34m\u001b[0m\u001b[0m\n\u001b[0;32m--> 728\u001b[0;31m     ioargs = _get_filepath_or_buffer(\n\u001b[0m\u001b[1;32m    729\u001b[0m         \u001b[0mpath_or_buf\u001b[0m\u001b[0;34m,\u001b[0m\u001b[0;34m\u001b[0m\u001b[0;34m\u001b[0m\u001b[0m\n\u001b[1;32m    730\u001b[0m         \u001b[0mencoding\u001b[0m\u001b[0;34m=\u001b[0m\u001b[0mencoding\u001b[0m\u001b[0;34m,\u001b[0m\u001b[0;34m\u001b[0m\u001b[0;34m\u001b[0m\u001b[0m\n",
            "\u001b[0;32m/usr/local/lib/python3.12/dist-packages/pandas/io/common.py\u001b[0m in \u001b[0;36m_get_filepath_or_buffer\u001b[0;34m(filepath_or_buffer, encoding, compression, mode, storage_options)\u001b[0m\n\u001b[1;32m    382\u001b[0m         \u001b[0;31m# assuming storage_options is to be interpreted as headers\u001b[0m\u001b[0;34m\u001b[0m\u001b[0;34m\u001b[0m\u001b[0m\n\u001b[1;32m    383\u001b[0m         \u001b[0mreq_info\u001b[0m \u001b[0;34m=\u001b[0m \u001b[0murllib\u001b[0m\u001b[0;34m.\u001b[0m\u001b[0mrequest\u001b[0m\u001b[0;34m.\u001b[0m\u001b[0mRequest\u001b[0m\u001b[0;34m(\u001b[0m\u001b[0mfilepath_or_buffer\u001b[0m\u001b[0;34m,\u001b[0m \u001b[0mheaders\u001b[0m\u001b[0;34m=\u001b[0m\u001b[0mstorage_options\u001b[0m\u001b[0;34m)\u001b[0m\u001b[0;34m\u001b[0m\u001b[0;34m\u001b[0m\u001b[0m\n\u001b[0;32m--> 384\u001b[0;31m         \u001b[0;32mwith\u001b[0m \u001b[0murlopen\u001b[0m\u001b[0;34m(\u001b[0m\u001b[0mreq_info\u001b[0m\u001b[0;34m)\u001b[0m \u001b[0;32mas\u001b[0m \u001b[0mreq\u001b[0m\u001b[0;34m:\u001b[0m\u001b[0;34m\u001b[0m\u001b[0;34m\u001b[0m\u001b[0m\n\u001b[0m\u001b[1;32m    385\u001b[0m             \u001b[0mcontent_encoding\u001b[0m \u001b[0;34m=\u001b[0m \u001b[0mreq\u001b[0m\u001b[0;34m.\u001b[0m\u001b[0mheaders\u001b[0m\u001b[0;34m.\u001b[0m\u001b[0mget\u001b[0m\u001b[0;34m(\u001b[0m\u001b[0;34m\"Content-Encoding\"\u001b[0m\u001b[0;34m,\u001b[0m \u001b[0;32mNone\u001b[0m\u001b[0;34m)\u001b[0m\u001b[0;34m\u001b[0m\u001b[0;34m\u001b[0m\u001b[0m\n\u001b[1;32m    386\u001b[0m             \u001b[0;32mif\u001b[0m \u001b[0mcontent_encoding\u001b[0m \u001b[0;34m==\u001b[0m \u001b[0;34m\"gzip\"\u001b[0m\u001b[0;34m:\u001b[0m\u001b[0;34m\u001b[0m\u001b[0;34m\u001b[0m\u001b[0m\n",
            "\u001b[0;32m/usr/local/lib/python3.12/dist-packages/pandas/io/common.py\u001b[0m in \u001b[0;36murlopen\u001b[0;34m(*args, **kwargs)\u001b[0m\n\u001b[1;32m    287\u001b[0m     \u001b[0;32mimport\u001b[0m \u001b[0murllib\u001b[0m\u001b[0;34m.\u001b[0m\u001b[0mrequest\u001b[0m\u001b[0;34m\u001b[0m\u001b[0;34m\u001b[0m\u001b[0m\n\u001b[1;32m    288\u001b[0m \u001b[0;34m\u001b[0m\u001b[0m\n\u001b[0;32m--> 289\u001b[0;31m     \u001b[0;32mreturn\u001b[0m \u001b[0murllib\u001b[0m\u001b[0;34m.\u001b[0m\u001b[0mrequest\u001b[0m\u001b[0;34m.\u001b[0m\u001b[0murlopen\u001b[0m\u001b[0;34m(\u001b[0m\u001b[0;34m*\u001b[0m\u001b[0margs\u001b[0m\u001b[0;34m,\u001b[0m \u001b[0;34m**\u001b[0m\u001b[0mkwargs\u001b[0m\u001b[0;34m)\u001b[0m\u001b[0;34m\u001b[0m\u001b[0;34m\u001b[0m\u001b[0m\n\u001b[0m\u001b[1;32m    290\u001b[0m \u001b[0;34m\u001b[0m\u001b[0m\n\u001b[1;32m    291\u001b[0m \u001b[0;34m\u001b[0m\u001b[0m\n",
            "\u001b[0;32m/usr/lib/python3.12/urllib/request.py\u001b[0m in \u001b[0;36murlopen\u001b[0;34m(url, data, timeout, cafile, capath, cadefault, context)\u001b[0m\n\u001b[1;32m    213\u001b[0m     \u001b[0;32melse\u001b[0m\u001b[0;34m:\u001b[0m\u001b[0;34m\u001b[0m\u001b[0;34m\u001b[0m\u001b[0m\n\u001b[1;32m    214\u001b[0m         \u001b[0mopener\u001b[0m \u001b[0;34m=\u001b[0m \u001b[0m_opener\u001b[0m\u001b[0;34m\u001b[0m\u001b[0;34m\u001b[0m\u001b[0m\n\u001b[0;32m--> 215\u001b[0;31m     \u001b[0;32mreturn\u001b[0m \u001b[0mopener\u001b[0m\u001b[0;34m.\u001b[0m\u001b[0mopen\u001b[0m\u001b[0;34m(\u001b[0m\u001b[0murl\u001b[0m\u001b[0;34m,\u001b[0m \u001b[0mdata\u001b[0m\u001b[0;34m,\u001b[0m \u001b[0mtimeout\u001b[0m\u001b[0;34m)\u001b[0m\u001b[0;34m\u001b[0m\u001b[0;34m\u001b[0m\u001b[0m\n\u001b[0m\u001b[1;32m    216\u001b[0m \u001b[0;34m\u001b[0m\u001b[0m\n\u001b[1;32m    217\u001b[0m \u001b[0;32mdef\u001b[0m \u001b[0minstall_opener\u001b[0m\u001b[0;34m(\u001b[0m\u001b[0mopener\u001b[0m\u001b[0;34m)\u001b[0m\u001b[0;34m:\u001b[0m\u001b[0;34m\u001b[0m\u001b[0;34m\u001b[0m\u001b[0m\n",
            "\u001b[0;32m/usr/lib/python3.12/urllib/request.py\u001b[0m in \u001b[0;36mopen\u001b[0;34m(self, fullurl, data, timeout)\u001b[0m\n\u001b[1;32m    519\u001b[0m         \u001b[0;32mfor\u001b[0m \u001b[0mprocessor\u001b[0m \u001b[0;32min\u001b[0m \u001b[0mself\u001b[0m\u001b[0;34m.\u001b[0m\u001b[0mprocess_response\u001b[0m\u001b[0;34m.\u001b[0m\u001b[0mget\u001b[0m\u001b[0;34m(\u001b[0m\u001b[0mprotocol\u001b[0m\u001b[0;34m,\u001b[0m \u001b[0;34m[\u001b[0m\u001b[0;34m]\u001b[0m\u001b[0;34m)\u001b[0m\u001b[0;34m:\u001b[0m\u001b[0;34m\u001b[0m\u001b[0;34m\u001b[0m\u001b[0m\n\u001b[1;32m    520\u001b[0m             \u001b[0mmeth\u001b[0m \u001b[0;34m=\u001b[0m \u001b[0mgetattr\u001b[0m\u001b[0;34m(\u001b[0m\u001b[0mprocessor\u001b[0m\u001b[0;34m,\u001b[0m \u001b[0mmeth_name\u001b[0m\u001b[0;34m)\u001b[0m\u001b[0;34m\u001b[0m\u001b[0;34m\u001b[0m\u001b[0m\n\u001b[0;32m--> 521\u001b[0;31m             \u001b[0mresponse\u001b[0m \u001b[0;34m=\u001b[0m \u001b[0mmeth\u001b[0m\u001b[0;34m(\u001b[0m\u001b[0mreq\u001b[0m\u001b[0;34m,\u001b[0m \u001b[0mresponse\u001b[0m\u001b[0;34m)\u001b[0m\u001b[0;34m\u001b[0m\u001b[0;34m\u001b[0m\u001b[0m\n\u001b[0m\u001b[1;32m    522\u001b[0m \u001b[0;34m\u001b[0m\u001b[0m\n\u001b[1;32m    523\u001b[0m         \u001b[0;32mreturn\u001b[0m \u001b[0mresponse\u001b[0m\u001b[0;34m\u001b[0m\u001b[0;34m\u001b[0m\u001b[0m\n",
            "\u001b[0;32m/usr/lib/python3.12/urllib/request.py\u001b[0m in \u001b[0;36mhttp_response\u001b[0;34m(self, request, response)\u001b[0m\n\u001b[1;32m    628\u001b[0m         \u001b[0;31m# request was successfully received, understood, and accepted.\u001b[0m\u001b[0;34m\u001b[0m\u001b[0;34m\u001b[0m\u001b[0m\n\u001b[1;32m    629\u001b[0m         \u001b[0;32mif\u001b[0m \u001b[0;32mnot\u001b[0m \u001b[0;34m(\u001b[0m\u001b[0;36m200\u001b[0m \u001b[0;34m<=\u001b[0m \u001b[0mcode\u001b[0m \u001b[0;34m<\u001b[0m \u001b[0;36m300\u001b[0m\u001b[0;34m)\u001b[0m\u001b[0;34m:\u001b[0m\u001b[0;34m\u001b[0m\u001b[0;34m\u001b[0m\u001b[0m\n\u001b[0;32m--> 630\u001b[0;31m             response = self.parent.error(\n\u001b[0m\u001b[1;32m    631\u001b[0m                 'http', request, response, code, msg, hdrs)\n\u001b[1;32m    632\u001b[0m \u001b[0;34m\u001b[0m\u001b[0m\n",
            "\u001b[0;32m/usr/lib/python3.12/urllib/request.py\u001b[0m in \u001b[0;36merror\u001b[0;34m(self, proto, *args)\u001b[0m\n\u001b[1;32m    557\u001b[0m         \u001b[0;32mif\u001b[0m \u001b[0mhttp_err\u001b[0m\u001b[0;34m:\u001b[0m\u001b[0;34m\u001b[0m\u001b[0;34m\u001b[0m\u001b[0m\n\u001b[1;32m    558\u001b[0m             \u001b[0margs\u001b[0m \u001b[0;34m=\u001b[0m \u001b[0;34m(\u001b[0m\u001b[0mdict\u001b[0m\u001b[0;34m,\u001b[0m \u001b[0;34m'default'\u001b[0m\u001b[0;34m,\u001b[0m \u001b[0;34m'http_error_default'\u001b[0m\u001b[0;34m)\u001b[0m \u001b[0;34m+\u001b[0m \u001b[0morig_args\u001b[0m\u001b[0;34m\u001b[0m\u001b[0;34m\u001b[0m\u001b[0m\n\u001b[0;32m--> 559\u001b[0;31m             \u001b[0;32mreturn\u001b[0m \u001b[0mself\u001b[0m\u001b[0;34m.\u001b[0m\u001b[0m_call_chain\u001b[0m\u001b[0;34m(\u001b[0m\u001b[0;34m*\u001b[0m\u001b[0margs\u001b[0m\u001b[0;34m)\u001b[0m\u001b[0;34m\u001b[0m\u001b[0;34m\u001b[0m\u001b[0m\n\u001b[0m\u001b[1;32m    560\u001b[0m \u001b[0;34m\u001b[0m\u001b[0m\n\u001b[1;32m    561\u001b[0m \u001b[0;31m# XXX probably also want an abstract factory that knows when it makes\u001b[0m\u001b[0;34m\u001b[0m\u001b[0;34m\u001b[0m\u001b[0m\n",
            "\u001b[0;32m/usr/lib/python3.12/urllib/request.py\u001b[0m in \u001b[0;36m_call_chain\u001b[0;34m(self, chain, kind, meth_name, *args)\u001b[0m\n\u001b[1;32m    490\u001b[0m         \u001b[0;32mfor\u001b[0m \u001b[0mhandler\u001b[0m \u001b[0;32min\u001b[0m \u001b[0mhandlers\u001b[0m\u001b[0;34m:\u001b[0m\u001b[0;34m\u001b[0m\u001b[0;34m\u001b[0m\u001b[0m\n\u001b[1;32m    491\u001b[0m             \u001b[0mfunc\u001b[0m \u001b[0;34m=\u001b[0m \u001b[0mgetattr\u001b[0m\u001b[0;34m(\u001b[0m\u001b[0mhandler\u001b[0m\u001b[0;34m,\u001b[0m \u001b[0mmeth_name\u001b[0m\u001b[0;34m)\u001b[0m\u001b[0;34m\u001b[0m\u001b[0;34m\u001b[0m\u001b[0m\n\u001b[0;32m--> 492\u001b[0;31m             \u001b[0mresult\u001b[0m \u001b[0;34m=\u001b[0m \u001b[0mfunc\u001b[0m\u001b[0;34m(\u001b[0m\u001b[0;34m*\u001b[0m\u001b[0margs\u001b[0m\u001b[0;34m)\u001b[0m\u001b[0;34m\u001b[0m\u001b[0;34m\u001b[0m\u001b[0m\n\u001b[0m\u001b[1;32m    493\u001b[0m             \u001b[0;32mif\u001b[0m \u001b[0mresult\u001b[0m \u001b[0;32mis\u001b[0m \u001b[0;32mnot\u001b[0m \u001b[0;32mNone\u001b[0m\u001b[0;34m:\u001b[0m\u001b[0;34m\u001b[0m\u001b[0;34m\u001b[0m\u001b[0m\n\u001b[1;32m    494\u001b[0m                 \u001b[0;32mreturn\u001b[0m \u001b[0mresult\u001b[0m\u001b[0;34m\u001b[0m\u001b[0;34m\u001b[0m\u001b[0m\n",
            "\u001b[0;32m/usr/lib/python3.12/urllib/request.py\u001b[0m in \u001b[0;36mhttp_error_default\u001b[0;34m(self, req, fp, code, msg, hdrs)\u001b[0m\n\u001b[1;32m    637\u001b[0m \u001b[0;32mclass\u001b[0m \u001b[0mHTTPDefaultErrorHandler\u001b[0m\u001b[0;34m(\u001b[0m\u001b[0mBaseHandler\u001b[0m\u001b[0;34m)\u001b[0m\u001b[0;34m:\u001b[0m\u001b[0;34m\u001b[0m\u001b[0;34m\u001b[0m\u001b[0m\n\u001b[1;32m    638\u001b[0m     \u001b[0;32mdef\u001b[0m \u001b[0mhttp_error_default\u001b[0m\u001b[0;34m(\u001b[0m\u001b[0mself\u001b[0m\u001b[0;34m,\u001b[0m \u001b[0mreq\u001b[0m\u001b[0;34m,\u001b[0m \u001b[0mfp\u001b[0m\u001b[0;34m,\u001b[0m \u001b[0mcode\u001b[0m\u001b[0;34m,\u001b[0m \u001b[0mmsg\u001b[0m\u001b[0;34m,\u001b[0m \u001b[0mhdrs\u001b[0m\u001b[0;34m)\u001b[0m\u001b[0;34m:\u001b[0m\u001b[0;34m\u001b[0m\u001b[0;34m\u001b[0m\u001b[0m\n\u001b[0;32m--> 639\u001b[0;31m         \u001b[0;32mraise\u001b[0m \u001b[0mHTTPError\u001b[0m\u001b[0;34m(\u001b[0m\u001b[0mreq\u001b[0m\u001b[0;34m.\u001b[0m\u001b[0mfull_url\u001b[0m\u001b[0;34m,\u001b[0m \u001b[0mcode\u001b[0m\u001b[0;34m,\u001b[0m \u001b[0mmsg\u001b[0m\u001b[0;34m,\u001b[0m \u001b[0mhdrs\u001b[0m\u001b[0;34m,\u001b[0m \u001b[0mfp\u001b[0m\u001b[0;34m)\u001b[0m\u001b[0;34m\u001b[0m\u001b[0;34m\u001b[0m\u001b[0m\n\u001b[0m\u001b[1;32m    640\u001b[0m \u001b[0;34m\u001b[0m\u001b[0m\n\u001b[1;32m    641\u001b[0m \u001b[0;32mclass\u001b[0m \u001b[0mHTTPRedirectHandler\u001b[0m\u001b[0;34m(\u001b[0m\u001b[0mBaseHandler\u001b[0m\u001b[0;34m)\u001b[0m\u001b[0;34m:\u001b[0m\u001b[0;34m\u001b[0m\u001b[0;34m\u001b[0m\u001b[0m\n",
            "\u001b[0;31mHTTPError\u001b[0m: HTTP Error 403: Forbidden"
          ]
        }
      ]
    },
    {
      "cell_type": "code",
      "source": [
        "# Initialize Spark session\n",
        "spark = SparkSession.builder.appName(\"BankingDataAnalysis\").getOrCreate()\n",
        "\n",
        "# URL of the archived Wikipedia page\n",
        "url = \"https://web.archive.org/web/20230908091635/https://en.wikipedia.org/wiki/List_of_largest_banks\"\n",
        "\n",
        "# Use pandas to read all HTML tables from the page\n",
        "tables = pd.read_html(url)\n",
        "\n",
        "# Load the correct table (Table 1)\n",
        "banks_df = tables[0]\n",
        "\n",
        "# Convert pandas DataFrame to PySpark DataFrame\n",
        "banks_spark_df = spark.createDataFrame(banks_df)\n",
        "\n",
        "# Rename columns\n",
        "banks_spark_df = banks_spark_df.withColumnRenamed(\"Market cap (US$ billion)\", \"Market_Cap_USD_Billion\") \\\n",
        "                               .withColumnRenamed(\"Bank name\", \"Bank_Name\")\n",
        "\n",
        "# Show the first few rows of the PySpark DataFrame\n",
        "banks_spark_df.show()\n",
        "\n",
        "# Print the schema of the DataFrame\n",
        "banks_spark_df.printSchema()\n",
        "\n",
        "# Configure logging\n",
        "logging.basicConfig(level=logging.INFO, format='%(asctime)s - %(levelname)s - %(message)s')"
      ],
      "metadata": {
        "id": "HxL-lRqy-hlE"
      },
      "execution_count": null,
      "outputs": []
    },
    {
      "cell_type": "code",
      "source": [],
      "metadata": {
        "id": "RzlVdQHv67O5"
      },
      "execution_count": null,
      "outputs": []
    },
    {
      "cell_type": "markdown",
      "source": [
        "##**3.5. Market Cap Analysis** <font color = red>[5 Marks]</font> <br>\n",
        "\n",
        "Use a boxplot to examine the spread and outliers in market capitalization."
      ],
      "metadata": {
        "id": "t4qniez4mG2Z"
      }
    },
    {
      "cell_type": "code",
      "execution_count": null,
      "metadata": {
        "id": "jfphnZtNkQad"
      },
      "outputs": [],
      "source": [
        "# Boxplot of Market Cap\n",
        "#To show the spread and outliers in the market capitalization data.\n",
        "\n",
        "# Plot a boxplot of market cap\n"
      ]
    },
    {
      "cell_type": "markdown",
      "source": [
        "##**3.6. Market Cap Quartile Distribution** <font color = red>[5 Marks]</font> <br>\n",
        "\n",
        "Display the quartile distribution of market capitalization using a violin plot."
      ],
      "metadata": {
        "id": "E9nTVBJumJQq"
      }
    },
    {
      "cell_type": "code",
      "execution_count": null,
      "metadata": {
        "id": "DYsjprb1enao"
      },
      "outputs": [],
      "source": [
        "# Market Cap Distribution by Quartile\n"
      ]
    },
    {
      "cell_type": "markdown",
      "source": [
        "##**3.7. Cumulative Market Share Analysis** <font color = red>[5 Marks]</font> <br>\n",
        "\n",
        "Compute cumulative market share and visualize it with a line plot."
      ],
      "metadata": {
        "id": "wXxxbJnpmL67"
      }
    },
    {
      "cell_type": "code",
      "execution_count": null,
      "metadata": {
        "id": "GIhkOJykenao"
      },
      "outputs": [],
      "source": [
        "# Cumulative Market Share\n",
        "\n",
        "# Plot\n"
      ]
    },
    {
      "cell_type": "markdown",
      "source": [
        "##**3.8. Categorising Banks** <font color = red>[5 Marks]</font> <br>\n",
        "\n",
        "Categorize banks into market capitalization ranges and analyze their distribution using a bar chart."
      ],
      "metadata": {
        "id": "EXBO_UR2mPJi"
      }
    },
    {
      "cell_type": "code",
      "execution_count": null,
      "metadata": {
        "id": "ndBCDmF9enao"
      },
      "outputs": [],
      "source": [
        "# Market Cap Range Distribution\n",
        "# Create market cap ranges\n",
        "\n",
        "# Plot\n"
      ]
    },
    {
      "cell_type": "markdown",
      "source": [
        "##**3.9. Visualise Market Share Distribution** <font color = red>[5 Marks]</font> <br>\n",
        "\n",
        "\n",
        "Calculate and display market share distribution among the top 10 banks using a pie chart."
      ],
      "metadata": {
        "id": "90Xvh8UymTx5"
      }
    },
    {
      "cell_type": "code",
      "execution_count": null,
      "metadata": {
        "id": "4wzaewd3enao"
      },
      "outputs": [],
      "source": [
        "# Top 10 Banks Market Share\n",
        "# Calculate market share percentage for top 10 banks\n",
        "\n",
        "# Plot\n"
      ]
    },
    {
      "cell_type": "markdown",
      "metadata": {
        "id": "crzFY7l2m0eh"
      },
      "source": [
        "#**4. ETL and Querying** <font color = red>[45 marks]</font> <br>"
      ]
    },
    {
      "cell_type": "code",
      "execution_count": null,
      "metadata": {
        "id": "ZkIFkDCbkZsO"
      },
      "outputs": [],
      "source": [
        "#Imports & Spark Session Initialization\n",
        "\n",
        "from pyspark.sql import SparkSession\n",
        "from pyspark.sql.functions import col, lit, round\n",
        "import logging\n",
        "from datetime import datetime\n",
        "import sqlite3\n",
        "import pandas as pd\n",
        "\n",
        "# Initialize Spark Session\n",
        "spark = SparkSession.builder \\\n",
        "    .appName(\"BankingDataAnalysis\") \\\n",
        "    .getOrCreate()\n",
        "\n",
        "# Logging Configuration\n",
        "logfile = \"code_log.txt\""
      ]
    },
    {
      "cell_type": "code",
      "execution_count": null,
      "metadata": {
        "id": "yYX8WT5Fm-8v"
      },
      "outputs": [],
      "source": [
        "#Logging Function\n",
        "\n",
        "def log_progress(msg):\n",
        "    timeformat = '%Y-%h-%d-%H:%M:%S'\n",
        "    timestamp = datetime.now().strftime(timeformat)\n",
        "    with open(logfile, 'a') as f:\n",
        "        f.write(f\"{timestamp} : {msg}\\n\")"
      ]
    },
    {
      "cell_type": "code",
      "source": [
        "# Import required functions\n",
        "from pyspark.sql.functions import col, avg, sum, count, desc, asc, round, lag, dense_rank, ntile, when, first, lead\n",
        "from pyspark.sql.window import Window\n",
        "\n",
        "# First, let's rename your columns to match our queries (if needed)\n",
        "\n",
        "# Create window specifications\n"
      ],
      "metadata": {
        "id": "mY08Tgnnk88Q"
      },
      "execution_count": null,
      "outputs": []
    },
    {
      "cell_type": "markdown",
      "metadata": {
        "id": "cFixnsN3sXSs"
      },
      "source": [
        "##**4.1. Market Capitalization Analysis** <font color = red>[3 marks]</font> <br>"
      ]
    },
    {
      "cell_type": "markdown",
      "source": [
        "Q: Perform Advanced Market Capitalization Analysis with Growth Metrics"
      ],
      "metadata": {
        "id": "b7WlpUPOm44R"
      }
    },
    {
      "cell_type": "code",
      "execution_count": null,
      "metadata": {
        "id": "EI2mxd6qs8kO"
      },
      "outputs": [],
      "source": [
        "# Query: Advanced Market Cap Analysis with Growth Metrics\n"
      ]
    },
    {
      "cell_type": "markdown",
      "source": [
        "##4.2.**Market Concentration Analysis** <font color = red>[6 marks]</font> <br>\n",
        "\n",
        "Q: Analyze Market Concentration and Categorize Banks Based on Market Share Tiers"
      ],
      "metadata": {
        "id": "8Mg1-7rAm9Jh"
      }
    },
    {
      "cell_type": "code",
      "execution_count": null,
      "metadata": {
        "id": "Yta_xpoTenau"
      },
      "outputs": [],
      "source": [
        "# Market Concentration Analysis\n"
      ]
    },
    {
      "cell_type": "markdown",
      "source": [
        "##**4.3. Market Capitalization Distribution** <font color = red>[6 marks]</font> <br>\n",
        "\n",
        "Q: Examine Statistical Distribution of Market Capitalization Using Quartile Analysis"
      ],
      "metadata": {
        "id": "xUKRhmvYn7rx"
      }
    },
    {
      "cell_type": "code",
      "execution_count": null,
      "metadata": {
        "id": "l1RJ5_ooenau"
      },
      "outputs": [],
      "source": [
        "# Import required functions\n",
        "from pyspark.sql.functions import (col, avg, sum, count, desc, asc, round, lag,\n",
        "                                 dense_rank, ntile, when, first, lead, min, max, lit)\n",
        "from pyspark.sql.window import Window\n",
        "\n",
        "# Query 3: Statistical Distribution Analysis\n"
      ]
    },
    {
      "cell_type": "markdown",
      "source": [],
      "metadata": {
        "id": "maCGrjRaYQWV"
      }
    },
    {
      "cell_type": "markdown",
      "source": [
        "##**4.4. Comparative Size Analysis** <font color = red>[6 marks]</font> <br>\n",
        "\n",
        "Q: Conduct Comparative Size Analysis to Classify Banks by Relative Market Size"
      ],
      "metadata": {
        "id": "1yughOvrn-ER"
      }
    },
    {
      "cell_type": "code",
      "execution_count": null,
      "metadata": {
        "id": "1mwW3ly4enau"
      },
      "outputs": [],
      "source": [
        "# Comparative Size Analysis\n"
      ]
    },
    {
      "cell_type": "markdown",
      "source": [
        "##**4.5. Market Growth Analysis** <font color = red>[6 marks]</font> <br>\n",
        "\n",
        "Q: Evaluate Market Growth and Identify Gaps Between Consecutive Banks"
      ],
      "metadata": {
        "id": "AmkMVo7hoAbA"
      }
    },
    {
      "cell_type": "code",
      "execution_count": null,
      "metadata": {
        "id": "SlHzEFfHenau"
      },
      "outputs": [],
      "source": [
        "# Growth and Gap Analysis\n"
      ]
    },
    {
      "cell_type": "markdown",
      "source": [
        "##**4.6. Market Dominance Analysis** <font color = red>[6 marks]</font> <br>\n",
        "\n",
        "Q: Assess Market Dominance by Measuring Cumulative Share and Dominance Score"
      ],
      "metadata": {
        "id": "gbCRl_rqoCv0"
      }
    },
    {
      "cell_type": "code",
      "execution_count": null,
      "metadata": {
        "id": "KFXDO0n-enau"
      },
      "outputs": [],
      "source": [
        "# Market Dominance Analysis\n"
      ]
    },
    {
      "cell_type": "markdown",
      "source": [
        "##**4.7. Segment-Wise Bank Analysis** <font color = red>[6 marks]</font> <br>\n",
        "\n",
        "Q: Analyze Segment-Wise Bank Performance Based on Market Capitalization Ranges"
      ],
      "metadata": {
        "id": "8WdJLyYsoFj4"
      }
    },
    {
      "cell_type": "code",
      "execution_count": null,
      "metadata": {
        "id": "3i4tfBpienau"
      },
      "outputs": [],
      "source": [
        "# Segment Performance Analysis\n"
      ]
    },
    {
      "cell_type": "markdown",
      "source": [
        "##**4.8. Performance Dashboard** <font color = red>[6 marks]</font> <br>\n",
        "\n",
        "Q: Generate a Comprehensive Performance Dashboard for Bank Rankings and Metrics"
      ],
      "metadata": {
        "id": "6GxiOAXEoI3i"
      }
    },
    {
      "cell_type": "code",
      "execution_count": null,
      "metadata": {
        "id": "K3-HWVrCenau"
      },
      "outputs": [],
      "source": [
        "# Comprehensive Performance Dashboard\n",
        "\n"
      ]
    },
    {
      "cell_type": "markdown",
      "source": [
        "#5. Visualization Integration"
      ],
      "metadata": {
        "id": "s21vpAthllak"
      }
    },
    {
      "cell_type": "code",
      "source": [
        "# Visualization Setup Section\n",
        "\n",
        "# 1. Prepare data for visualization platforms\n",
        "# 2. Generate Tableau connection instructions\n",
        "\n",
        "# 3. Generate Power BI connection instructions\n",
        "\n",
        "# 4. Execute visualization setup\n",
        "# 5. Sample Dashboard Layout (Documentation)\n"
      ],
      "metadata": {
        "id": "lamWO2Qrmc1g"
      },
      "execution_count": null,
      "outputs": []
    },
    {
      "cell_type": "code",
      "source": [],
      "metadata": {
        "id": "P78eC0N6IH9g"
      },
      "execution_count": null,
      "outputs": []
    }
  ],
  "metadata": {
    "colab": {
      "provenance": [],
      "include_colab_link": true
    },
    "kernelspec": {
      "display_name": "Python 3",
      "name": "python3"
    },
    "language_info": {
      "name": "python"
    }
  },
  "nbformat": 4,
  "nbformat_minor": 0
}